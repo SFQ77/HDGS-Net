{
 "cells": [
  {
   "cell_type": "code",
   "execution_count": null,
   "metadata": {},
   "outputs": [],
   "source": [
    "Put the test data of each chromosome into the model for prediction."
   ]
  },
  {
   "cell_type": "code",
   "execution_count": null,
   "metadata": {},
   "outputs": [],
   "source": []
  },
  {
   "cell_type": "code",
   "execution_count": 1,
   "metadata": {},
   "outputs": [],
   "source": [
    "import numpy as np\n",
    "import time\n",
    "from tqdm import tqdm\n",
    "from tensorflow import keras\n",
    "import pandas as pd"
   ]
  },
  {
   "cell_type": "code",
   "execution_count": 2,
   "metadata": {},
   "outputs": [
    {
     "name": "stderr",
     "output_type": "stream",
     "text": [
      "Predicting: 100%|██████████████████████████████████████████████████████████████████| 1616/1616 [02:28<00:00, 10.87it/s]\n"
     ]
    }
   ],
   "source": [
    "with open('SAC1 Genome Deletion of Spaces/CH1n.txt', \"r\") as f:\n",
    "    strn = f.read()\n",
    "data = np.loadtxt(\"Test Sites and Occupancy/ch1_testing.csv\", delimiter=\",\", skiprows=1, usecols=[0, 1])\n",
    "base = ['AA', 'AC', 'AG', 'AT', 'CA', 'CC', 'CG', 'CT', 'GA', 'GC', 'GG', 'GT', 'TA', 'TC', 'TG', 'TT']\n",
    "levelp = np.zeros(data.shape[0])\n",
    "model1 = keras.models.load_model('Convolutional Neural Network Model/Regression Model (no10).keras')\n",
    "levelp = np.zeros(data.shape[0])\n",
    "for i in tqdm(range(data.shape[0]), desc=\"Predicting\", position=0, leave=True):\n",
    "    Nuar = np.zeros((1, 16, 146, 1))\n",
    "    s = int(data[i, 0])\n",
    "    strs = strn[s-74:s+73]\n",
    "    for n, dinu in enumerate(base):\n",
    "        for m in range(len(strs) - 1):\n",
    "            if strs[m] + strs[m+1] == dinu:\n",
    "                Nuar[0, n, m, 0] = 1\n",
    "    levelp[i] = model1.predict(Nuar, verbose=0)[0, 0]\n",
    "np.savetxt(\"Chromosome Prediction Results (Testing)/ch1_levelp(f).txt\",levelp, fmt='%.6f', delimiter=',')"
   ]
  },
  {
   "cell_type": "code",
   "execution_count": null,
   "metadata": {},
   "outputs": [],
   "source": []
  },
  {
   "cell_type": "code",
   "execution_count": 3,
   "metadata": {},
   "outputs": [
    {
     "name": "stderr",
     "output_type": "stream",
     "text": [
      "Predicting: 100%|██████████████████████████████████████████████████████████████████| 7195/7195 [10:58<00:00, 10.93it/s]\n"
     ]
    }
   ],
   "source": [
    "with open('SAC1 Genome Deletion of Spaces/CH2n.txt', \"r\") as f:\n",
    "    strn = f.read()\n",
    "data = np.loadtxt(\"Test Sites and Occupancy/ch2_testing.csv\", delimiter=\",\", skiprows=1, usecols=[0, 1])\n",
    "base = ['AA', 'AC', 'AG', 'AT', 'CA', 'CC', 'CG', 'CT', 'GA', 'GC', 'GG', 'GT', 'TA', 'TC', 'TG', 'TT']\n",
    "levelp = np.zeros(data.shape[0])\n",
    "model1 = keras.models.load_model('Convolutional Neural Network Model/Regression Model (no10).keras')\n",
    "levelp = np.zeros(data.shape[0])\n",
    "for i in tqdm(range(data.shape[0]), desc=\"Predicting\", position=0, leave=True):\n",
    "    Nuar = np.zeros((1, 16, 146, 1))\n",
    "    s = int(data[i, 0])\n",
    "    strs = strn[s-74:s+73]\n",
    "    for n, dinu in enumerate(base):\n",
    "        for m in range(len(strs) - 1):\n",
    "            if strs[m] + strs[m+1] == dinu:\n",
    "                Nuar[0, n, m, 0] = 1\n",
    "    levelp[i] = model1.predict(Nuar, verbose=0)[0, 0]\n",
    "np.savetxt(\"Chromosome Prediction Results (Testing)/ch2_levelp(f).txt\",levelp, fmt='%.6f', delimiter=',')"
   ]
  },
  {
   "cell_type": "code",
   "execution_count": null,
   "metadata": {},
   "outputs": [],
   "source": []
  },
  {
   "cell_type": "code",
   "execution_count": 4,
   "metadata": {},
   "outputs": [
    {
     "name": "stderr",
     "output_type": "stream",
     "text": [
      "Predicting: 100%|██████████████████████████████████████████████████████████████████| 2358/2358 [03:38<00:00, 10.79it/s]\n"
     ]
    }
   ],
   "source": [
    "with open('SAC1 Genome Deletion of Spaces/CH3n.txt', \"r\") as f:\n",
    "    strn = f.read()\n",
    "data = np.loadtxt(\"Test Sites and Occupancy/ch3_testing.csv\", delimiter=\",\", skiprows=1, usecols=[0, 1])\n",
    "base = ['AA', 'AC', 'AG', 'AT', 'CA', 'CC', 'CG', 'CT', 'GA', 'GC', 'GG', 'GT', 'TA', 'TC', 'TG', 'TT']\n",
    "levelp = np.zeros(data.shape[0])\n",
    "model1 = keras.models.load_model('Convolutional Neural Network Model/Regression Model (no10).keras')\n",
    "levelp = np.zeros(data.shape[0])\n",
    "for i in tqdm(range(data.shape[0]), desc=\"Predicting\", position=0, leave=True):\n",
    "    Nuar = np.zeros((1, 16, 146, 1))\n",
    "    s = int(data[i, 0])\n",
    "    strs = strn[s-74:s+73]\n",
    "    for n, dinu in enumerate(base):\n",
    "        for m in range(len(strs) - 1):\n",
    "            if strs[m] + strs[m+1] == dinu:\n",
    "                Nuar[0, n, m, 0] = 1\n",
    "    levelp[i] = model1.predict(Nuar, verbose=0)[0, 0]\n",
    "np.savetxt(\"Chromosome Prediction Results (Testing)/ch3_levelp(f).txt\",levelp, fmt='%.6f', delimiter=',')"
   ]
  },
  {
   "cell_type": "code",
   "execution_count": null,
   "metadata": {},
   "outputs": [],
   "source": []
  },
  {
   "cell_type": "code",
   "execution_count": 5,
   "metadata": {},
   "outputs": [
    {
     "name": "stderr",
     "output_type": "stream",
     "text": [
      "Predicting: 100%|████████████████████████████████████████████████████████████████| 13249/13249 [20:35<00:00, 10.72it/s]\n"
     ]
    }
   ],
   "source": [
    "with open('SAC1 Genome Deletion of Spaces/CH4n.txt', \"r\") as f:\n",
    "    strn = f.read()\n",
    "data = np.loadtxt(\"Test Sites and Occupancy/ch4_testing.csv\", delimiter=\",\", skiprows=1, usecols=[0, 1])\n",
    "base = ['AA', 'AC', 'AG', 'AT', 'CA', 'CC', 'CG', 'CT', 'GA', 'GC', 'GG', 'GT', 'TA', 'TC', 'TG', 'TT']\n",
    "levelp = np.zeros(data.shape[0])\n",
    "model1 = keras.models.load_model('Convolutional Neural Network Model/Regression Model (no10).keras')\n",
    "levelp = np.zeros(data.shape[0])\n",
    "for i in tqdm(range(data.shape[0]), desc=\"Predicting\", position=0, leave=True):\n",
    "    Nuar = np.zeros((1, 16, 146, 1))\n",
    "    s = int(data[i, 0])\n",
    "    strs = strn[s-74:s+73]\n",
    "    for n, dinu in enumerate(base):\n",
    "        for m in range(len(strs) - 1):\n",
    "            if strs[m] + strs[m+1] == dinu:\n",
    "                Nuar[0, n, m, 0] = 1\n",
    "    levelp[i] = model1.predict(Nuar, verbose=0)[0, 0]\n",
    "np.savetxt(\"Chromosome Prediction Results (Testing)/ch4_levelp(f).txt\",levelp, fmt='%.6f', delimiter=',')"
   ]
  },
  {
   "cell_type": "code",
   "execution_count": null,
   "metadata": {},
   "outputs": [],
   "source": []
  },
  {
   "cell_type": "code",
   "execution_count": 6,
   "metadata": {},
   "outputs": [
    {
     "name": "stderr",
     "output_type": "stream",
     "text": [
      "Predicting: 100%|██████████████████████████████████████████████████████████████████| 4955/4955 [08:33<00:00,  9.65it/s]\n"
     ]
    }
   ],
   "source": [
    "with open('SAC1 Genome Deletion of Spaces/CH5n.txt', \"r\") as f:\n",
    "    strn = f.read()\n",
    "data = np.loadtxt(\"Test Sites and Occupancy/ch5_testing.csv\", delimiter=\",\", skiprows=1, usecols=[0, 1])\n",
    "base = ['AA', 'AC', 'AG', 'AT', 'CA', 'CC', 'CG', 'CT', 'GA', 'GC', 'GG', 'GT', 'TA', 'TC', 'TG', 'TT']\n",
    "levelp = np.zeros(data.shape[0])\n",
    "model1 = keras.models.load_model('Convolutional Neural Network Model/Regression Model (no10).keras')\n",
    "levelp = np.zeros(data.shape[0])\n",
    "for i in tqdm(range(data.shape[0]), desc=\"Predicting\", position=0, leave=True):\n",
    "    Nuar = np.zeros((1, 16, 146, 1))\n",
    "    s = int(data[i, 0])\n",
    "    strs = strn[s-74:s+73]\n",
    "    for n, dinu in enumerate(base):\n",
    "        for m in range(len(strs) - 1):\n",
    "            if strs[m] + strs[m+1] == dinu:\n",
    "                Nuar[0, n, m, 0] = 1\n",
    "    levelp[i] = model1.predict(Nuar, verbose=0)[0, 0]\n",
    "np.savetxt(\"Chromosome Prediction Results (Testing)/ch5_levelp(f).txt\",levelp, fmt='%.6f', delimiter=',')"
   ]
  },
  {
   "cell_type": "code",
   "execution_count": null,
   "metadata": {},
   "outputs": [],
   "source": []
  },
  {
   "cell_type": "code",
   "execution_count": 7,
   "metadata": {},
   "outputs": [
    {
     "name": "stderr",
     "output_type": "stream",
     "text": [
      "Predicting: 100%|██████████████████████████████████████████████████████████████████| 2277/2277 [03:37<00:00, 10.49it/s]\n"
     ]
    }
   ],
   "source": [
    "with open('SAC1 Genome Deletion of Spaces/CH6n.txt', \"r\") as f:\n",
    "    strn = f.read()\n",
    "data = np.loadtxt(\"Test Sites and Occupancy/ch6_testing.csv\", delimiter=\",\", skiprows=1, usecols=[0, 1])\n",
    "base = ['AA', 'AC', 'AG', 'AT', 'CA', 'CC', 'CG', 'CT', 'GA', 'GC', 'GG', 'GT', 'TA', 'TC', 'TG', 'TT']\n",
    "levelp = np.zeros(data.shape[0])\n",
    "model1 = keras.models.load_model('Convolutional Neural Network Model/Regression Model (no10).keras')\n",
    "levelp = np.zeros(data.shape[0])\n",
    "for i in tqdm(range(data.shape[0]), desc=\"Predicting\", position=0, leave=True):\n",
    "    Nuar = np.zeros((1, 16, 146, 1))\n",
    "    s = int(data[i, 0])\n",
    "    strs = strn[s-74:s+73]\n",
    "    for n, dinu in enumerate(base):\n",
    "        for m in range(len(strs) - 1):\n",
    "            if strs[m] + strs[m+1] == dinu:\n",
    "                Nuar[0, n, m, 0] = 1\n",
    "    levelp[i] = model1.predict(Nuar, verbose=0)[0, 0]\n",
    "np.savetxt(\"Chromosome Prediction Results (Testing)/ch6_levelp(f).txt\",levelp, fmt='%.6f', delimiter=',')"
   ]
  },
  {
   "cell_type": "code",
   "execution_count": null,
   "metadata": {},
   "outputs": [],
   "source": []
  },
  {
   "cell_type": "code",
   "execution_count": 8,
   "metadata": {},
   "outputs": [
    {
     "name": "stderr",
     "output_type": "stream",
     "text": [
      "Predicting: 100%|██████████████████████████████████████████████████████████████████| 9451/9451 [16:37<00:00,  9.47it/s]\n"
     ]
    }
   ],
   "source": [
    "with open('SAC1 Genome Deletion of Spaces/CH7n.txt', \"r\") as f:\n",
    "    strn = f.read()\n",
    "data = np.loadtxt(\"Test Sites and Occupancy/ch7_testing.csv\", delimiter=\",\", skiprows=1, usecols=[0, 1])\n",
    "base = ['AA', 'AC', 'AG', 'AT', 'CA', 'CC', 'CG', 'CT', 'GA', 'GC', 'GG', 'GT', 'TA', 'TC', 'TG', 'TT']\n",
    "levelp = np.zeros(data.shape[0])\n",
    "model1 = keras.models.load_model('Convolutional Neural Network Model/Regression Model (no10).keras')\n",
    "levelp = np.zeros(data.shape[0])\n",
    "for i in tqdm(range(data.shape[0]), desc=\"Predicting\", position=0, leave=True):\n",
    "    Nuar = np.zeros((1, 16, 146, 1))\n",
    "    s = int(data[i, 0])\n",
    "    strs = strn[s-74:s+73]\n",
    "    for n, dinu in enumerate(base):\n",
    "        for m in range(len(strs) - 1):\n",
    "            if strs[m] + strs[m+1] == dinu:\n",
    "                Nuar[0, n, m, 0] = 1\n",
    "    levelp[i] = model1.predict(Nuar, verbose=0)[0, 0]\n",
    "np.savetxt(\"Chromosome Prediction Results (Testing)/ch7_levelp(f).txt\",levelp, fmt='%.6f', delimiter=',')"
   ]
  },
  {
   "cell_type": "code",
   "execution_count": null,
   "metadata": {},
   "outputs": [],
   "source": []
  },
  {
   "cell_type": "code",
   "execution_count": 9,
   "metadata": {},
   "outputs": [
    {
     "name": "stderr",
     "output_type": "stream",
     "text": [
      "Predicting: 100%|██████████████████████████████████████████████████████████████████| 4658/4658 [09:08<00:00,  8.49it/s]\n"
     ]
    }
   ],
   "source": [
    "with open('SAC1 Genome Deletion of Spaces/CH8n.txt', \"r\") as f:\n",
    "    strn = f.read()\n",
    "data = np.loadtxt(\"Test Sites and Occupancy/ch8_testing.csv\", delimiter=\",\", skiprows=1, usecols=[0, 1])\n",
    "base = ['AA', 'AC', 'AG', 'AT', 'CA', 'CC', 'CG', 'CT', 'GA', 'GC', 'GG', 'GT', 'TA', 'TC', 'TG', 'TT']\n",
    "levelp = np.zeros(data.shape[0])\n",
    "model1 = keras.models.load_model('Convolutional Neural Network Model/Regression Model (no10).keras')\n",
    "levelp = np.zeros(data.shape[0])\n",
    "for i in tqdm(range(data.shape[0]), desc=\"Predicting\", position=0, leave=True):\n",
    "    Nuar = np.zeros((1, 16, 146, 1))\n",
    "    s = int(data[i, 0])\n",
    "    strs = strn[s-74:s+73]\n",
    "    for n, dinu in enumerate(base):\n",
    "        for m in range(len(strs) - 1):\n",
    "            if strs[m] + strs[m+1] == dinu:\n",
    "                Nuar[0, n, m, 0] = 1\n",
    "    levelp[i] = model1.predict(Nuar, verbose=0)[0, 0]\n",
    "np.savetxt(\"Chromosome Prediction Results (Testing)/ch8_levelp(f).txt\",levelp, fmt='%.6f', delimiter=',')"
   ]
  },
  {
   "cell_type": "code",
   "execution_count": null,
   "metadata": {},
   "outputs": [],
   "source": []
  },
  {
   "cell_type": "code",
   "execution_count": 10,
   "metadata": {},
   "outputs": [
    {
     "name": "stderr",
     "output_type": "stream",
     "text": [
      "Predicting: 100%|██████████████████████████████████████████████████████████████████| 3682/3682 [06:11<00:00,  9.91it/s]\n"
     ]
    }
   ],
   "source": [
    "with open('SAC1 Genome Deletion of Spaces/CH9n.txt', \"r\") as f:\n",
    "    strn = f.read()\n",
    "data = np.loadtxt(\"Test Sites and Occupancy/ch9_testing.csv\", delimiter=\",\", skiprows=1, usecols=[0, 1])\n",
    "base = ['AA', 'AC', 'AG', 'AT', 'CA', 'CC', 'CG', 'CT', 'GA', 'GC', 'GG', 'GT', 'TA', 'TC', 'TG', 'TT']\n",
    "levelp = np.zeros(data.shape[0])\n",
    "model1 = keras.models.load_model('Convolutional Neural Network Model/Regression Model (no10).keras')\n",
    "levelp = np.zeros(data.shape[0])\n",
    "for i in tqdm(range(data.shape[0]), desc=\"Predicting\", position=0, leave=True):\n",
    "    Nuar = np.zeros((1, 16, 146, 1))\n",
    "    s = int(data[i, 0])\n",
    "    strs = strn[s-74:s+73]\n",
    "    for n, dinu in enumerate(base):\n",
    "        for m in range(len(strs) - 1):\n",
    "            if strs[m] + strs[m+1] == dinu:\n",
    "                Nuar[0, n, m, 0] = 1\n",
    "    levelp[i] = model1.predict(Nuar, verbose=0)[0, 0]\n",
    "np.savetxt(\"Chromosome Prediction Results (Testing)/ch9_levelp(f).txt\",levelp, fmt='%.6f', delimiter=',')"
   ]
  },
  {
   "cell_type": "code",
   "execution_count": null,
   "metadata": {},
   "outputs": [],
   "source": []
  },
  {
   "cell_type": "code",
   "execution_count": 11,
   "metadata": {},
   "outputs": [
    {
     "name": "stderr",
     "output_type": "stream",
     "text": [
      "Predicting: 100%|██████████████████████████████████████████████████████████████████| 6343/6343 [09:21<00:00, 11.31it/s]\n"
     ]
    }
   ],
   "source": [
    "with open('SAC1 Genome Deletion of Spaces/CH10n.txt', \"r\") as f:\n",
    "    strn = f.read()\n",
    "data = np.loadtxt(\"Test Sites and Occupancy/ch10_testing.csv\", delimiter=\",\", skiprows=1, usecols=[0, 1])\n",
    "base = ['AA', 'AC', 'AG', 'AT', 'CA', 'CC', 'CG', 'CT', 'GA', 'GC', 'GG', 'GT', 'TA', 'TC', 'TG', 'TT']\n",
    "levelp = np.zeros(data.shape[0])\n",
    "model1 = keras.models.load_model('Convolutional Neural Network Model/Regression Model (no10).keras')\n",
    "levelp = np.zeros(data.shape[0])\n",
    "for i in tqdm(range(data.shape[0]), desc=\"Predicting\", position=0, leave=True):\n",
    "    Nuar = np.zeros((1, 16, 146, 1))\n",
    "    s = int(data[i, 0])\n",
    "    strs = strn[s-74:s+73]\n",
    "    for n, dinu in enumerate(base):\n",
    "        for m in range(len(strs) - 1):\n",
    "            if strs[m] + strs[m+1] == dinu:\n",
    "                Nuar[0, n, m, 0] = 1\n",
    "    levelp[i] = model1.predict(Nuar, verbose=0)[0, 0]\n",
    "np.savetxt(\"Chromosome Prediction Results (Testing)/ch10_levelp(f).txt\",levelp, fmt='%.6f', delimiter=',')"
   ]
  },
  {
   "cell_type": "code",
   "execution_count": null,
   "metadata": {},
   "outputs": [],
   "source": []
  },
  {
   "cell_type": "code",
   "execution_count": 12,
   "metadata": {},
   "outputs": [
    {
     "name": "stderr",
     "output_type": "stream",
     "text": [
      "Predicting: 100%|██████████████████████████████████████████████████████████████████| 6075/6075 [09:00<00:00, 11.24it/s]\n"
     ]
    }
   ],
   "source": [
    "with open('SAC1 Genome Deletion of Spaces/CH11n.txt', \"r\") as f:\n",
    "    strn = f.read()\n",
    "data = np.loadtxt(\"Test Sites and Occupancy/ch11_testing.csv\", delimiter=\",\", skiprows=1, usecols=[0, 1])\n",
    "base = ['AA', 'AC', 'AG', 'AT', 'CA', 'CC', 'CG', 'CT', 'GA', 'GC', 'GG', 'GT', 'TA', 'TC', 'TG', 'TT']\n",
    "levelp = np.zeros(data.shape[0])\n",
    "model1 = keras.models.load_model('Convolutional Neural Network Model/Regression Model (no10).keras')\n",
    "levelp = np.zeros(data.shape[0])\n",
    "for i in tqdm(range(data.shape[0]), desc=\"Predicting\", position=0, leave=True):\n",
    "    Nuar = np.zeros((1, 16, 146, 1))\n",
    "    s = int(data[i, 0])\n",
    "    strs = strn[s-74:s+73]\n",
    "    for n, dinu in enumerate(base):\n",
    "        for m in range(len(strs) - 1):\n",
    "            if strs[m] + strs[m+1] == dinu:\n",
    "                Nuar[0, n, m, 0] = 1\n",
    "    levelp[i] = model1.predict(Nuar, verbose=0)[0, 0]\n",
    "np.savetxt(\"Chromosome Prediction Results (Testing)/ch11_levelp(f).txt\",levelp, fmt='%.6f', delimiter=',')"
   ]
  },
  {
   "cell_type": "code",
   "execution_count": null,
   "metadata": {},
   "outputs": [],
   "source": []
  },
  {
   "cell_type": "code",
   "execution_count": 13,
   "metadata": {},
   "outputs": [
    {
     "name": "stderr",
     "output_type": "stream",
     "text": [
      "Predicting: 100%|██████████████████████████████████████████████████████████████████| 8961/8961 [13:17<00:00, 11.24it/s]\n"
     ]
    }
   ],
   "source": [
    "with open('SAC1 Genome Deletion of Spaces/CH12n.txt', \"r\") as f:\n",
    "    strn = f.read()\n",
    "data = np.loadtxt(\"Test Sites and Occupancy/ch12_testing.csv\", delimiter=\",\", skiprows=1, usecols=[0, 1])\n",
    "base = ['AA', 'AC', 'AG', 'AT', 'CA', 'CC', 'CG', 'CT', 'GA', 'GC', 'GG', 'GT', 'TA', 'TC', 'TG', 'TT']\n",
    "levelp = np.zeros(data.shape[0])\n",
    "model1 = keras.models.load_model('Convolutional Neural Network Model/Regression Model (no10).keras')\n",
    "levelp = np.zeros(data.shape[0])\n",
    "for i in tqdm(range(data.shape[0]), desc=\"Predicting\", position=0, leave=True):\n",
    "    Nuar = np.zeros((1, 16, 146, 1))\n",
    "    s = int(data[i, 0])\n",
    "    strs = strn[s-74:s+73]\n",
    "    for n, dinu in enumerate(base):\n",
    "        for m in range(len(strs) - 1):\n",
    "            if strs[m] + strs[m+1] == dinu:\n",
    "                Nuar[0, n, m, 0] = 1\n",
    "    levelp[i] = model1.predict(Nuar, verbose=0)[0, 0]\n",
    "np.savetxt(\"Chromosome Prediction Results (Testing)/ch12_levelp(f).txt\",levelp, fmt='%.6f', delimiter=',')"
   ]
  },
  {
   "cell_type": "code",
   "execution_count": null,
   "metadata": {},
   "outputs": [],
   "source": []
  },
  {
   "cell_type": "code",
   "execution_count": 14,
   "metadata": {},
   "outputs": [
    {
     "name": "stderr",
     "output_type": "stream",
     "text": [
      "Predicting: 100%|██████████████████████████████████████████████████████████████████| 8151/8151 [11:51<00:00, 11.45it/s]\n"
     ]
    }
   ],
   "source": [
    "with open('SAC1 Genome Deletion of Spaces/CH13n.txt', \"r\") as f:\n",
    "    strn = f.read()\n",
    "data = np.loadtxt(\"Test Sites and Occupancy/ch13_testing.csv\", delimiter=\",\", skiprows=1, usecols=[0, 1])\n",
    "base = ['AA', 'AC', 'AG', 'AT', 'CA', 'CC', 'CG', 'CT', 'GA', 'GC', 'GG', 'GT', 'TA', 'TC', 'TG', 'TT']\n",
    "levelp = np.zeros(data.shape[0])\n",
    "model1 = keras.models.load_model('Convolutional Neural Network Model/Regression Model (no10).keras')\n",
    "levelp = np.zeros(data.shape[0])\n",
    "for i in tqdm(range(data.shape[0]), desc=\"Predicting\", position=0, leave=True):\n",
    "    Nuar = np.zeros((1, 16, 146, 1))\n",
    "    s = int(data[i, 0])\n",
    "    strs = strn[s-74:s+73]\n",
    "    for n, dinu in enumerate(base):\n",
    "        for m in range(len(strs) - 1):\n",
    "            if strs[m] + strs[m+1] == dinu:\n",
    "                Nuar[0, n, m, 0] = 1\n",
    "    levelp[i] = model1.predict(Nuar, verbose=0)[0, 0]\n",
    "np.savetxt(\"Chromosome Prediction Results (Testing)/ch13_levelp(f).txt\",levelp, fmt='%.6f', delimiter=',')"
   ]
  },
  {
   "cell_type": "code",
   "execution_count": null,
   "metadata": {},
   "outputs": [],
   "source": []
  },
  {
   "cell_type": "code",
   "execution_count": 15,
   "metadata": {},
   "outputs": [
    {
     "name": "stderr",
     "output_type": "stream",
     "text": [
      "Predicting: 100%|██████████████████████████████████████████████████████████████████| 6795/6795 [10:08<00:00, 11.17it/s]\n"
     ]
    }
   ],
   "source": [
    "with open('SAC1 Genome Deletion of Spaces/CH14n.txt', \"r\") as f:\n",
    "    strn = f.read()\n",
    "data = np.loadtxt(\"Test Sites and Occupancy/ch14_testing.csv\", delimiter=\",\", skiprows=1, usecols=[0, 1])\n",
    "base = ['AA', 'AC', 'AG', 'AT', 'CA', 'CC', 'CG', 'CT', 'GA', 'GC', 'GG', 'GT', 'TA', 'TC', 'TG', 'TT']\n",
    "levelp = np.zeros(data.shape[0])\n",
    "model1 = keras.models.load_model('Convolutional Neural Network Model/Regression Model (no10).keras')\n",
    "levelp = np.zeros(data.shape[0])\n",
    "for i in tqdm(range(data.shape[0]), desc=\"Predicting\", position=0, leave=True):\n",
    "    Nuar = np.zeros((1, 16, 146, 1))\n",
    "    s = int(data[i, 0])\n",
    "    strs = strn[s-74:s+73]\n",
    "    for n, dinu in enumerate(base):\n",
    "        for m in range(len(strs) - 1):\n",
    "            if strs[m] + strs[m+1] == dinu:\n",
    "                Nuar[0, n, m, 0] = 1\n",
    "    levelp[i] = model1.predict(Nuar, verbose=0)[0, 0]\n",
    "np.savetxt(\"Chromosome Prediction Results (Testing)/ch14_levelp(f).txt\",levelp, fmt='%.6f', delimiter=',')"
   ]
  },
  {
   "cell_type": "code",
   "execution_count": null,
   "metadata": {},
   "outputs": [],
   "source": []
  },
  {
   "cell_type": "code",
   "execution_count": 16,
   "metadata": {},
   "outputs": [
    {
     "name": "stderr",
     "output_type": "stream",
     "text": [
      "Predicting: 100%|██████████████████████████████████████████████████████████████████| 9584/9584 [14:40<00:00, 10.89it/s]\n"
     ]
    }
   ],
   "source": [
    "with open('SAC1 Genome Deletion of Spaces/CH15n.txt', \"r\") as f:\n",
    "    strn = f.read()\n",
    "data = np.loadtxt(\"Test Sites and Occupancy/ch15_testing.csv\", delimiter=\",\", skiprows=1, usecols=[0, 1])\n",
    "base = ['AA', 'AC', 'AG', 'AT', 'CA', 'CC', 'CG', 'CT', 'GA', 'GC', 'GG', 'GT', 'TA', 'TC', 'TG', 'TT']\n",
    "levelp = np.zeros(data.shape[0])\n",
    "model1 = keras.models.load_model('Convolutional Neural Network Model/Regression Model (no10).keras')\n",
    "levelp = np.zeros(data.shape[0])\n",
    "for i in tqdm(range(data.shape[0]), desc=\"Predicting\", position=0, leave=True):\n",
    "    Nuar = np.zeros((1, 16, 146, 1))\n",
    "    s = int(data[i, 0])\n",
    "    strs = strn[s-74:s+73]\n",
    "    for n, dinu in enumerate(base):\n",
    "        for m in range(len(strs) - 1):\n",
    "            if strs[m] + strs[m+1] == dinu:\n",
    "                Nuar[0, n, m, 0] = 1\n",
    "    levelp[i] = model1.predict(Nuar, verbose=0)[0, 0]\n",
    "np.savetxt(\"Chromosome Prediction Results (Testing)/ch15_levelp(f).txt\",levelp, fmt='%.6f', delimiter=',')"
   ]
  },
  {
   "cell_type": "code",
   "execution_count": null,
   "metadata": {},
   "outputs": [],
   "source": []
  },
  {
   "cell_type": "code",
   "execution_count": 18,
   "metadata": {},
   "outputs": [
    {
     "name": "stderr",
     "output_type": "stream",
     "text": [
      "Predicting: 100%|██████████████████████████████████████████████████████████████████| 8224/8224 [13:52<00:00,  9.88it/s]\n"
     ]
    }
   ],
   "source": [
    "with open('SAC1 Genome Deletion of Spaces/CH16n.txt', \"r\") as f:\n",
    "    strn = f.read()\n",
    "data = np.loadtxt(\"Test Sites and Occupancy/ch16_testing.csv\", delimiter=\",\", skiprows=1, usecols=[0, 1])\n",
    "base = ['AA', 'AC', 'AG', 'AT', 'CA', 'CC', 'CG', 'CT', 'GA', 'GC', 'GG', 'GT', 'TA', 'TC', 'TG', 'TT']\n",
    "levelp = np.zeros(data.shape[0])\n",
    "model1 = keras.models.load_model('Convolutional Neural Network Model/Regression Model (no10).keras')\n",
    "levelp = np.zeros(data.shape[0])\n",
    "for i in tqdm(range(data.shape[0]), desc=\"Predicting\", position=0, leave=True):\n",
    "    Nuar = np.zeros((1, 16, 146, 1))\n",
    "    s = int(data[i, 0])\n",
    "    strs = strn[s-74:s+73]\n",
    "    for n, dinu in enumerate(base):\n",
    "        for m in range(len(strs) - 1):\n",
    "            if strs[m] + strs[m+1] == dinu:\n",
    "                Nuar[0, n, m, 0] = 1\n",
    "    levelp[i] = model1.predict(Nuar, verbose=0)[0, 0]\n",
    "np.savetxt(\"Chromosome Prediction Results (Testing)/ch16_levelp(f).txt\",levelp, fmt='%.6f', delimiter=',')"
   ]
  },
  {
   "cell_type": "code",
   "execution_count": null,
   "metadata": {},
   "outputs": [],
   "source": []
  }
 ],
 "metadata": {
  "kernelspec": {
   "display_name": "tf",
   "language": "python",
   "name": "tf"
  },
  "language_info": {
   "codemirror_mode": {
    "name": "ipython",
    "version": 3
   },
   "file_extension": ".py",
   "mimetype": "text/x-python",
   "name": "python",
   "nbconvert_exporter": "python",
   "pygments_lexer": "ipython3",
   "version": "3.10.18"
  }
 },
 "nbformat": 4,
 "nbformat_minor": 4
}
