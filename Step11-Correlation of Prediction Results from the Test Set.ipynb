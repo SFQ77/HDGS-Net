{
 "cells": [
  {
   "cell_type": "raw",
   "metadata": {},
   "source": [
    "Calculate the Pearson correlation coefficient between the model's predicted values of the test data and the original occupancy rates."
   ]
  },
  {
   "cell_type": "code",
   "execution_count": null,
   "metadata": {},
   "outputs": [],
   "source": []
  },
  {
   "cell_type": "code",
   "execution_count": 1,
   "metadata": {},
   "outputs": [],
   "source": [
    "import numpy as np\n",
    "import csv"
   ]
  },
  {
   "cell_type": "code",
   "execution_count": 2,
   "metadata": {},
   "outputs": [
    {
     "name": "stdout",
     "output_type": "stream",
     "text": [
      "(1616,)\n",
      "(1616,)\n",
      "[[1.         0.87818487]\n",
      " [0.87818487 1.        ]]\n"
     ]
    }
   ],
   "source": [
    "data = np.loadtxt(\"Test Sites and Occupancy/ch1_testing.csv\",delimiter=\",\",skiprows=1,usecols=[0,1]) \n",
    "ori = data[:,1]\n",
    "print(ori.shape)\n",
    "res = np.loadtxt('Chromosome Prediction Results (Testing)/ch1_levelp(f).txt',dtype=np.float32)\n",
    "print(res.shape)\n",
    "cor = np.vstack([ori,res]) \n",
    "print(np.corrcoef(cor))"
   ]
  },
  {
   "cell_type": "code",
   "execution_count": null,
   "metadata": {},
   "outputs": [],
   "source": []
  },
  {
   "cell_type": "code",
   "execution_count": 3,
   "metadata": {},
   "outputs": [
    {
     "name": "stdout",
     "output_type": "stream",
     "text": [
      "(7195,)\n",
      "(7195,)\n",
      "[[1.         0.83385444]\n",
      " [0.83385444 1.        ]]\n"
     ]
    }
   ],
   "source": [
    "data = np.loadtxt(\"Test Sites and Occupancy/ch2_testing.csv\",delimiter=\",\",skiprows=1,usecols=[0,1]) \n",
    "ori = data[:,1]\n",
    "print(ori.shape)\n",
    "res = np.loadtxt('Chromosome Prediction Results (Testing)/ch2_levelp(f).txt',dtype=np.float32)\n",
    "print(res.shape)\n",
    "cor = np.vstack([ori,res]) \n",
    "print(np.corrcoef(cor))"
   ]
  },
  {
   "cell_type": "code",
   "execution_count": null,
   "metadata": {},
   "outputs": [],
   "source": []
  },
  {
   "cell_type": "code",
   "execution_count": 4,
   "metadata": {},
   "outputs": [
    {
     "name": "stdout",
     "output_type": "stream",
     "text": [
      "(2358,)\n",
      "(2358,)\n",
      "[[1.         0.87930609]\n",
      " [0.87930609 1.        ]]\n"
     ]
    }
   ],
   "source": [
    "data = np.loadtxt(\"Test Sites and Occupancy/ch3_testing.csv\",delimiter=\",\",skiprows=1,usecols=[0,1]) \n",
    "ori = data[:,1]\n",
    "print(ori.shape)\n",
    "res = np.loadtxt('Chromosome Prediction Results (Testing)/ch3_levelp(f).txt',dtype=np.float32)\n",
    "print(res.shape)\n",
    "cor = np.vstack([ori,res]) \n",
    "print(np.corrcoef(cor))"
   ]
  },
  {
   "cell_type": "code",
   "execution_count": null,
   "metadata": {},
   "outputs": [],
   "source": []
  },
  {
   "cell_type": "code",
   "execution_count": 5,
   "metadata": {},
   "outputs": [
    {
     "name": "stdout",
     "output_type": "stream",
     "text": [
      "(13249,)\n",
      "(13249,)\n",
      "[[1.         0.87793794]\n",
      " [0.87793794 1.        ]]\n"
     ]
    }
   ],
   "source": [
    "data = np.loadtxt(\"Test Sites and Occupancy/ch4_testing.csv\",delimiter=\",\",skiprows=1,usecols=[0,1]) \n",
    "ori = data[:,1]\n",
    "print(ori.shape)\n",
    "res = np.loadtxt('Chromosome Prediction Results (Testing)/ch4_levelp(f).txt',dtype=np.float32)\n",
    "print(res.shape)\n",
    "cor = np.vstack([ori,res]) \n",
    "print(np.corrcoef(cor))"
   ]
  },
  {
   "cell_type": "code",
   "execution_count": null,
   "metadata": {},
   "outputs": [],
   "source": []
  },
  {
   "cell_type": "code",
   "execution_count": 6,
   "metadata": {},
   "outputs": [
    {
     "name": "stdout",
     "output_type": "stream",
     "text": [
      "(4955,)\n",
      "(4955,)\n",
      "[[1.         0.88109766]\n",
      " [0.88109766 1.        ]]\n"
     ]
    }
   ],
   "source": [
    "data = np.loadtxt(\"Test Sites and Occupancy/ch5_testing.csv\",delimiter=\",\",skiprows=1,usecols=[0,1]) \n",
    "ori = data[:,1]\n",
    "print(ori.shape)\n",
    "res = np.loadtxt('Chromosome Prediction Results (Testing)/ch5_levelp(f).txt',dtype=np.float32)\n",
    "print(res.shape)\n",
    "cor = np.vstack([ori,res]) \n",
    "print(np.corrcoef(cor))"
   ]
  },
  {
   "cell_type": "code",
   "execution_count": null,
   "metadata": {},
   "outputs": [],
   "source": []
  },
  {
   "cell_type": "code",
   "execution_count": 7,
   "metadata": {},
   "outputs": [
    {
     "name": "stdout",
     "output_type": "stream",
     "text": [
      "(2277,)\n",
      "(2277,)\n",
      "[[1.         0.88025175]\n",
      " [0.88025175 1.        ]]\n"
     ]
    }
   ],
   "source": [
    "data = np.loadtxt(\"Test Sites and Occupancy/ch6_testing.csv\",delimiter=\",\",skiprows=1,usecols=[0,1]) \n",
    "ori = data[:,1]\n",
    "print(ori.shape)\n",
    "res = np.loadtxt('Chromosome Prediction Results (Testing)/ch6_levelp(f).txt',dtype=np.float32)\n",
    "print(res.shape)\n",
    "cor = np.vstack([ori,res]) \n",
    "print(np.corrcoef(cor))"
   ]
  },
  {
   "cell_type": "code",
   "execution_count": null,
   "metadata": {},
   "outputs": [],
   "source": []
  },
  {
   "cell_type": "code",
   "execution_count": 8,
   "metadata": {},
   "outputs": [
    {
     "name": "stdout",
     "output_type": "stream",
     "text": [
      "(9451,)\n",
      "(9451,)\n",
      "[[1.         0.88693558]\n",
      " [0.88693558 1.        ]]\n"
     ]
    }
   ],
   "source": [
    "data = np.loadtxt(\"Test Sites and Occupancy/ch7_testing.csv\",delimiter=\",\",skiprows=1,usecols=[0,1]) \n",
    "ori = data[:,1]\n",
    "print(ori.shape)\n",
    "res = np.loadtxt('Chromosome Prediction Results (Testing)/ch7_levelp(f).txt',dtype=np.float32)\n",
    "print(res.shape)\n",
    "cor = np.vstack([ori,res]) \n",
    "print(np.corrcoef(cor))"
   ]
  },
  {
   "cell_type": "code",
   "execution_count": null,
   "metadata": {},
   "outputs": [],
   "source": []
  },
  {
   "cell_type": "code",
   "execution_count": 9,
   "metadata": {},
   "outputs": [
    {
     "name": "stdout",
     "output_type": "stream",
     "text": [
      "(4658,)\n",
      "(4658,)\n",
      "[[1.         0.87932675]\n",
      " [0.87932675 1.        ]]\n"
     ]
    }
   ],
   "source": [
    "data = np.loadtxt(\"Test Sites and Occupancy/ch8_testing.csv\",delimiter=\",\",skiprows=1,usecols=[0,1]) \n",
    "ori = data[:,1]\n",
    "print(ori.shape)\n",
    "res = np.loadtxt('Chromosome Prediction Results (Testing)/ch8_levelp(f).txt',dtype=np.float32)\n",
    "print(res.shape)\n",
    "cor = np.vstack([ori,res]) \n",
    "print(np.corrcoef(cor))"
   ]
  },
  {
   "cell_type": "code",
   "execution_count": null,
   "metadata": {},
   "outputs": [],
   "source": []
  },
  {
   "cell_type": "code",
   "execution_count": 10,
   "metadata": {},
   "outputs": [
    {
     "name": "stdout",
     "output_type": "stream",
     "text": [
      "(3682,)\n",
      "(3682,)\n",
      "[[1.        0.8737436]\n",
      " [0.8737436 1.       ]]\n"
     ]
    }
   ],
   "source": [
    "data = np.loadtxt(\"Test Sites and Occupancy/ch9_testing.csv\",delimiter=\",\",skiprows=1,usecols=[0,1]) \n",
    "ori = data[:,1]\n",
    "print(ori.shape)\n",
    "res = np.loadtxt('Chromosome Prediction Results (Testing)/ch9_levelp(f).txt',dtype=np.float32)\n",
    "print(res.shape)\n",
    "cor = np.vstack([ori,res]) \n",
    "print(np.corrcoef(cor))"
   ]
  },
  {
   "cell_type": "code",
   "execution_count": null,
   "metadata": {},
   "outputs": [],
   "source": []
  },
  {
   "cell_type": "code",
   "execution_count": 11,
   "metadata": {},
   "outputs": [
    {
     "name": "stdout",
     "output_type": "stream",
     "text": [
      "(6343,)\n",
      "(6343,)\n",
      "[[1.         0.23632026]\n",
      " [0.23632026 1.        ]]\n"
     ]
    }
   ],
   "source": [
    "data = np.loadtxt(\"Test Sites and Occupancy/ch10_testing.csv\",delimiter=\",\",skiprows=1,usecols=[0,1]) \n",
    "ori = data[:,1]\n",
    "print(ori.shape)\n",
    "res = np.loadtxt('Chromosome Prediction Results (Testing)/ch10_levelp(f).txt',dtype=np.float32)\n",
    "print(res.shape)\n",
    "cor = np.vstack([ori,res]) \n",
    "print(np.corrcoef(cor))"
   ]
  },
  {
   "cell_type": "code",
   "execution_count": null,
   "metadata": {},
   "outputs": [],
   "source": []
  },
  {
   "cell_type": "code",
   "execution_count": 12,
   "metadata": {},
   "outputs": [
    {
     "name": "stdout",
     "output_type": "stream",
     "text": [
      "(6075,)\n",
      "(6075,)\n",
      "[[1.         0.88274832]\n",
      " [0.88274832 1.        ]]\n"
     ]
    }
   ],
   "source": [
    "data = np.loadtxt(\"Test Sites and Occupancy/ch11_testing.csv\",delimiter=\",\",skiprows=1,usecols=[0,1]) \n",
    "ori = data[:,1]\n",
    "print(ori.shape)\n",
    "res = np.loadtxt('Chromosome Prediction Results (Testing)/ch11_levelp(f).txt',dtype=np.float32)\n",
    "print(res.shape)\n",
    "cor = np.vstack([ori,res]) \n",
    "print(np.corrcoef(cor))"
   ]
  },
  {
   "cell_type": "code",
   "execution_count": null,
   "metadata": {},
   "outputs": [],
   "source": []
  },
  {
   "cell_type": "code",
   "execution_count": 13,
   "metadata": {},
   "outputs": [
    {
     "name": "stdout",
     "output_type": "stream",
     "text": [
      "(8961,)\n",
      "(8961,)\n",
      "[[1.         0.87950619]\n",
      " [0.87950619 1.        ]]\n"
     ]
    }
   ],
   "source": [
    "data = np.loadtxt(\"Test Sites and Occupancy/ch12_testing.csv\",delimiter=\",\",skiprows=1,usecols=[0,1]) \n",
    "ori = data[:,1]\n",
    "print(ori.shape)\n",
    "res = np.loadtxt('Chromosome Prediction Results (Testing)/ch12_levelp(f).txt',dtype=np.float32)\n",
    "print(res.shape)\n",
    "cor = np.vstack([ori,res]) \n",
    "print(np.corrcoef(cor))"
   ]
  },
  {
   "cell_type": "code",
   "execution_count": null,
   "metadata": {},
   "outputs": [],
   "source": []
  },
  {
   "cell_type": "code",
   "execution_count": 14,
   "metadata": {},
   "outputs": [
    {
     "name": "stdout",
     "output_type": "stream",
     "text": [
      "(8151,)\n",
      "(8151,)\n",
      "[[1.         0.88596192]\n",
      " [0.88596192 1.        ]]\n"
     ]
    }
   ],
   "source": [
    "data = np.loadtxt(\"Test Sites and Occupancy/ch13_testing.csv\",delimiter=\",\",skiprows=1,usecols=[0,1]) \n",
    "ori = data[:,1]\n",
    "print(ori.shape)\n",
    "res = np.loadtxt('Chromosome Prediction Results (Testing)/ch13_levelp(f).txt',dtype=np.float32)\n",
    "print(res.shape)\n",
    "cor = np.vstack([ori,res]) \n",
    "print(np.corrcoef(cor))"
   ]
  },
  {
   "cell_type": "code",
   "execution_count": null,
   "metadata": {},
   "outputs": [],
   "source": []
  },
  {
   "cell_type": "code",
   "execution_count": 15,
   "metadata": {},
   "outputs": [
    {
     "name": "stdout",
     "output_type": "stream",
     "text": [
      "(6795,)\n",
      "(6795,)\n",
      "[[1.         0.87908433]\n",
      " [0.87908433 1.        ]]\n"
     ]
    }
   ],
   "source": [
    "data = np.loadtxt(\"Test Sites and Occupancy/ch14_testing.csv\",delimiter=\",\",skiprows=1,usecols=[0,1]) \n",
    "ori = data[:,1]\n",
    "print(ori.shape)\n",
    "res = np.loadtxt('Chromosome Prediction Results (Testing)/ch14_levelp(f).txt',dtype=np.float32)\n",
    "print(res.shape)\n",
    "cor = np.vstack([ori,res]) \n",
    "print(np.corrcoef(cor))"
   ]
  },
  {
   "cell_type": "code",
   "execution_count": null,
   "metadata": {},
   "outputs": [],
   "source": []
  },
  {
   "cell_type": "code",
   "execution_count": 16,
   "metadata": {},
   "outputs": [
    {
     "name": "stdout",
     "output_type": "stream",
     "text": [
      "(9584,)\n",
      "(9584,)\n",
      "[[1.         0.87680443]\n",
      " [0.87680443 1.        ]]\n"
     ]
    }
   ],
   "source": [
    "data = np.loadtxt(\"Test Sites and Occupancy/ch15_testing.csv\",delimiter=\",\",skiprows=1,usecols=[0,1]) \n",
    "ori = data[:,1]\n",
    "print(ori.shape)\n",
    "res = np.loadtxt('Chromosome Prediction Results (Testing)/ch15_levelp(f).txt',dtype=np.float32)\n",
    "print(res.shape)\n",
    "cor = np.vstack([ori,res]) \n",
    "print(np.corrcoef(cor))"
   ]
  },
  {
   "cell_type": "code",
   "execution_count": null,
   "metadata": {},
   "outputs": [],
   "source": []
  },
  {
   "cell_type": "code",
   "execution_count": 18,
   "metadata": {},
   "outputs": [
    {
     "name": "stdout",
     "output_type": "stream",
     "text": [
      "(8224,)\n",
      "(8224,)\n",
      "[[1.         0.87877805]\n",
      " [0.87877805 1.        ]]\n"
     ]
    }
   ],
   "source": [
    "data = np.loadtxt(\"Test Sites and Occupancy/ch16_testing.csv\",delimiter=\",\",skiprows=1,usecols=[0,1]) \n",
    "ori = data[:,1]\n",
    "print(ori.shape)\n",
    "res = np.loadtxt('Chromosome Prediction Results (Testing)/ch16_levelp(f).txt',dtype=np.float32)\n",
    "print(res.shape)\n",
    "cor = np.vstack([ori,res]) \n",
    "print(np.corrcoef(cor))"
   ]
  },
  {
   "cell_type": "code",
   "execution_count": null,
   "metadata": {},
   "outputs": [],
   "source": []
  }
 ],
 "metadata": {
  "kernelspec": {
   "display_name": "Python 3 (ipykernel)",
   "language": "python",
   "name": "python3"
  },
  "language_info": {
   "codemirror_mode": {
    "name": "ipython",
    "version": 3
   },
   "file_extension": ".py",
   "mimetype": "text/x-python",
   "name": "python",
   "nbconvert_exporter": "python",
   "pygments_lexer": "ipython3",
   "version": "3.12.4"
  }
 },
 "nbformat": 4,
 "nbformat_minor": 4
}
