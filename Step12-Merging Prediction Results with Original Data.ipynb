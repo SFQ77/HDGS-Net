{
 "cells": [
  {
   "cell_type": "raw",
   "metadata": {},
   "source": [
    "Merge the model's predicted values of the test set and training set for each chromosome with the corresponding original dMean values,\n",
    "sort them, and then save."
   ]
  },
  {
   "cell_type": "code",
   "execution_count": null,
   "metadata": {},
   "outputs": [],
   "source": []
  },
  {
   "cell_type": "code",
   "execution_count": 1,
   "metadata": {},
   "outputs": [],
   "source": [
    "import numpy as np\n",
    "import csv\n",
    "import pandas as pd"
   ]
  },
  {
   "cell_type": "code",
   "execution_count": 2,
   "metadata": {},
   "outputs": [
    {
     "name": "stdout",
     "output_type": "stream",
     "text": [
      "(1682, 1)\n",
      "(1682, 2)\n",
      "(1682, 3)\n"
     ]
    }
   ],
   "source": [
    "data_f = np.loadtxt('Chromosome Prediction Results (Testing)/ch1_levelp(f).txt',dtype=np.float32)\n",
    "data_t = np.loadtxt('Chromosome Prediction Results (Training)/ch1_levelp(t).txt',dtype=np.float32)\n",
    "train = np.hstack([data_f, data_t]).reshape(-1, 1)\n",
    "print(train.shape)\n",
    "data_cf = np.loadtxt(\"Test Sites and Occupancy/ch1_testing.csv\",delimiter=\",\", skiprows=1, usecols=[0, 1])\n",
    "data_ct = np.loadtxt(\"Training Sites and Occupancy/ch1_training.csv\",delimiter=\",\", skiprows=1, usecols=[0, 1])\n",
    "origin = np.vstack([data_cf, data_ct])\n",
    "print(origin.shape)\n",
    "data_all = np.hstack([origin, train])\n",
    "print(data_all.shape)\n",
    "idx = np.lexsort([data_all[:, 0]])\n",
    "datar = data_all[idx]\n",
    "df = pd.DataFrame(datar[:, :3], columns=['site', 'origin', 'train'])\n",
    "df.to_csv('Chromosome Prediction Results (Entire)/ch1_full.csv',index=False,float_format='%.4f')  "
   ]
  },
  {
   "cell_type": "code",
   "execution_count": null,
   "metadata": {},
   "outputs": [],
   "source": []
  },
  {
   "cell_type": "code",
   "execution_count": 3,
   "metadata": {},
   "outputs": [
    {
     "name": "stdout",
     "output_type": "stream",
     "text": [
      "(7484, 1)\n",
      "(7484, 2)\n",
      "(7484, 3)\n"
     ]
    }
   ],
   "source": [
    "data_f = np.loadtxt('Chromosome Prediction Results (Testing)/ch2_levelp(f).txt',dtype=np.float32)\n",
    "data_t = np.loadtxt('Chromosome Prediction Results (Training)/ch2_levelp(t).txt',dtype=np.float32)\n",
    "train = np.hstack([data_f, data_t]).reshape(-1, 1)\n",
    "print(train.shape)\n",
    "data_cf = np.loadtxt(\"Test Sites and Occupancy/ch2_testing.csv\",delimiter=\",\", skiprows=1, usecols=[0, 1])\n",
    "data_ct = np.loadtxt(\"Training Sites and Occupancy/ch2_training.csv\",delimiter=\",\", skiprows=1, usecols=[0, 1])\n",
    "origin = np.vstack([data_cf, data_ct])\n",
    "print(origin.shape)\n",
    "data_all = np.hstack([origin, train])\n",
    "print(data_all.shape)\n",
    "idx = np.lexsort([data_all[:, 0]])\n",
    "datar = data_all[idx]\n",
    "df = pd.DataFrame(datar[:, :3], columns=['site', 'origin', 'train'])\n",
    "df.to_csv('Chromosome Prediction Results (Entire)/ch2_full.csv',index=False,float_format='%.4f')  "
   ]
  },
  {
   "cell_type": "code",
   "execution_count": null,
   "metadata": {},
   "outputs": [],
   "source": []
  },
  {
   "cell_type": "code",
   "execution_count": 4,
   "metadata": {},
   "outputs": [
    {
     "name": "stdout",
     "output_type": "stream",
     "text": [
      "(2449, 1)\n",
      "(2449, 2)\n",
      "(2449, 3)\n"
     ]
    }
   ],
   "source": [
    "data_f = np.loadtxt('Chromosome Prediction Results (Testing)/ch3_levelp(f).txt',dtype=np.float32)\n",
    "data_t = np.loadtxt('Chromosome Prediction Results (Training)/ch3_levelp(t).txt',dtype=np.float32)\n",
    "train = np.hstack([data_f, data_t]).reshape(-1, 1)\n",
    "print(train.shape)\n",
    "data_cf = np.loadtxt(\"Test Sites and Occupancy/ch3_testing.csv\",delimiter=\",\", skiprows=1, usecols=[0, 1])\n",
    "data_ct = np.loadtxt(\"Training Sites and Occupancy/ch3_training.csv\",delimiter=\",\", skiprows=1, usecols=[0, 1])\n",
    "origin = np.vstack([data_cf, data_ct])\n",
    "print(origin.shape)\n",
    "data_all = np.hstack([origin, train])\n",
    "print(data_all.shape)\n",
    "idx = np.lexsort([data_all[:, 0]])\n",
    "datar = data_all[idx]\n",
    "df = pd.DataFrame(datar[:, :3], columns=['site', 'origin', 'train'])\n",
    "df.to_csv('Chromosome Prediction Results (Entire)/ch3_full.csv',index=False,float_format='%.4f')  "
   ]
  },
  {
   "cell_type": "code",
   "execution_count": null,
   "metadata": {},
   "outputs": [],
   "source": []
  },
  {
   "cell_type": "code",
   "execution_count": 5,
   "metadata": {},
   "outputs": [
    {
     "name": "stdout",
     "output_type": "stream",
     "text": [
      "(13784, 1)\n",
      "(13784, 2)\n",
      "(13784, 3)\n"
     ]
    }
   ],
   "source": [
    "data_f = np.loadtxt('Chromosome Prediction Results (Testing)/ch4_levelp(f).txt',dtype=np.float32)\n",
    "data_t = np.loadtxt('Chromosome Prediction Results (Training)/ch4_levelp(t).txt',dtype=np.float32)\n",
    "train = np.hstack([data_f, data_t]).reshape(-1, 1)\n",
    "print(train.shape)\n",
    "data_cf = np.loadtxt(\"Test Sites and Occupancy/ch4_testing.csv\",delimiter=\",\", skiprows=1, usecols=[0, 1])\n",
    "data_ct = np.loadtxt(\"Training Sites and Occupancy/ch4_training.csv\",delimiter=\",\", skiprows=1, usecols=[0, 1])\n",
    "origin = np.vstack([data_cf, data_ct])\n",
    "print(origin.shape)\n",
    "data_all = np.hstack([origin, train])\n",
    "print(data_all.shape)\n",
    "idx = np.lexsort([data_all[:, 0]])\n",
    "datar = data_all[idx]\n",
    "df = pd.DataFrame(datar[:, :3], columns=['site', 'origin', 'train'])\n",
    "df.to_csv('Chromosome Prediction Results (Entire)/ch4_full.csv',index=False,float_format='%.4f')  "
   ]
  },
  {
   "cell_type": "code",
   "execution_count": null,
   "metadata": {},
   "outputs": [],
   "source": []
  },
  {
   "cell_type": "code",
   "execution_count": 6,
   "metadata": {},
   "outputs": [
    {
     "name": "stdout",
     "output_type": "stream",
     "text": [
      "(5150, 1)\n",
      "(5150, 2)\n",
      "(5150, 3)\n"
     ]
    }
   ],
   "source": [
    "data_f = np.loadtxt('Chromosome Prediction Results (Testing)/ch5_levelp(f).txt',dtype=np.float32)\n",
    "data_t = np.loadtxt('Chromosome Prediction Results (Training)/ch5_levelp(t).txt',dtype=np.float32)\n",
    "train = np.hstack([data_f, data_t]).reshape(-1, 1)\n",
    "print(train.shape)\n",
    "data_cf = np.loadtxt(\"Test Sites and Occupancy/ch5_testing.csv\",delimiter=\",\", skiprows=1, usecols=[0, 1])\n",
    "data_ct = np.loadtxt(\"Training Sites and Occupancy/ch5_training.csv\",delimiter=\",\", skiprows=1, usecols=[0, 1])\n",
    "origin = np.vstack([data_cf, data_ct])\n",
    "print(origin.shape)\n",
    "data_all = np.hstack([origin, train])\n",
    "print(data_all.shape)\n",
    "idx = np.lexsort([data_all[:, 0]])\n",
    "datar = data_all[idx]\n",
    "df = pd.DataFrame(datar[:, :3], columns=['site', 'origin', 'train'])\n",
    "df.to_csv('Chromosome Prediction Results (Entire)/ch5_full.csv',index=False,float_format='%.4f')  "
   ]
  },
  {
   "cell_type": "code",
   "execution_count": null,
   "metadata": {},
   "outputs": [],
   "source": []
  },
  {
   "cell_type": "code",
   "execution_count": 7,
   "metadata": {},
   "outputs": [
    {
     "name": "stdout",
     "output_type": "stream",
     "text": [
      "(2364, 1)\n",
      "(2364, 2)\n",
      "(2364, 3)\n"
     ]
    }
   ],
   "source": [
    "data_f = np.loadtxt('Chromosome Prediction Results (Testing)/ch6_levelp(f).txt',dtype=np.float32)\n",
    "data_t = np.loadtxt('Chromosome Prediction Results (Training)/ch6_levelp(t).txt',dtype=np.float32)\n",
    "train = np.hstack([data_f, data_t]).reshape(-1, 1)\n",
    "print(train.shape)\n",
    "data_cf = np.loadtxt(\"Test Sites and Occupancy/ch6_testing.csv\",delimiter=\",\", skiprows=1, usecols=[0, 1])\n",
    "data_ct = np.loadtxt(\"Training Sites and Occupancy/ch6_training.csv\",delimiter=\",\", skiprows=1, usecols=[0, 1])\n",
    "origin = np.vstack([data_cf, data_ct])\n",
    "print(origin.shape)\n",
    "data_all = np.hstack([origin, train])\n",
    "print(data_all.shape)\n",
    "idx = np.lexsort([data_all[:, 0]])\n",
    "datar = data_all[idx]\n",
    "df = pd.DataFrame(datar[:, :3], columns=['site', 'origin', 'train'])\n",
    "df.to_csv('Chromosome Prediction Results (Entire)/ch6_full.csv',index=False,float_format='%.4f')  "
   ]
  },
  {
   "cell_type": "code",
   "execution_count": null,
   "metadata": {},
   "outputs": [],
   "source": []
  },
  {
   "cell_type": "code",
   "execution_count": 8,
   "metadata": {},
   "outputs": [
    {
     "name": "stdout",
     "output_type": "stream",
     "text": [
      "(9833, 1)\n",
      "(9833, 2)\n",
      "(9833, 3)\n"
     ]
    }
   ],
   "source": [
    "data_f = np.loadtxt('Chromosome Prediction Results (Testing)/ch7_levelp(f).txt',dtype=np.float32)\n",
    "data_t = np.loadtxt('Chromosome Prediction Results (Training)/ch7_levelp(t).txt',dtype=np.float32)\n",
    "train = np.hstack([data_f, data_t]).reshape(-1, 1)\n",
    "print(train.shape)\n",
    "data_cf = np.loadtxt(\"Test Sites and Occupancy/ch7_testing.csv\",delimiter=\",\", skiprows=1, usecols=[0, 1])\n",
    "data_ct = np.loadtxt(\"Training Sites and Occupancy/ch7_training.csv\",delimiter=\",\", skiprows=1, usecols=[0, 1])\n",
    "origin = np.vstack([data_cf, data_ct])\n",
    "print(origin.shape)\n",
    "data_all = np.hstack([origin, train])\n",
    "print(data_all.shape)\n",
    "idx = np.lexsort([data_all[:, 0]])\n",
    "datar = data_all[idx]\n",
    "df = pd.DataFrame(datar[:, :3], columns=['site', 'origin', 'train'])\n",
    "df.to_csv('Chromosome Prediction Results (Entire)/ch7_full.csv',index=False,float_format='%.4f')  "
   ]
  },
  {
   "cell_type": "code",
   "execution_count": null,
   "metadata": {},
   "outputs": [],
   "source": []
  },
  {
   "cell_type": "code",
   "execution_count": 9,
   "metadata": {},
   "outputs": [
    {
     "name": "stdout",
     "output_type": "stream",
     "text": [
      "(4846, 1)\n",
      "(4846, 2)\n",
      "(4846, 3)\n"
     ]
    }
   ],
   "source": [
    "data_f = np.loadtxt('Chromosome Prediction Results (Testing)/ch8_levelp(f).txt',dtype=np.float32)\n",
    "data_t = np.loadtxt('Chromosome Prediction Results (Training)/ch8_levelp(t).txt',dtype=np.float32)\n",
    "train = np.hstack([data_f, data_t]).reshape(-1, 1)\n",
    "print(train.shape)\n",
    "data_cf = np.loadtxt(\"Test Sites and Occupancy/ch8_testing.csv\",delimiter=\",\", skiprows=1, usecols=[0, 1])\n",
    "data_ct = np.loadtxt(\"Training Sites and Occupancy/ch8_training.csv\",delimiter=\",\", skiprows=1, usecols=[0, 1])\n",
    "origin = np.vstack([data_cf, data_ct])\n",
    "print(origin.shape)\n",
    "data_all = np.hstack([origin, train])\n",
    "print(data_all.shape)\n",
    "idx = np.lexsort([data_all[:, 0]])\n",
    "datar = data_all[idx]\n",
    "df = pd.DataFrame(datar[:, :3], columns=['site', 'origin', 'train'])\n",
    "df.to_csv('Chromosome Prediction Results (Entire)/ch8_full.csv',index=False,float_format='%.4f')  "
   ]
  },
  {
   "cell_type": "code",
   "execution_count": null,
   "metadata": {},
   "outputs": [],
   "source": []
  },
  {
   "cell_type": "code",
   "execution_count": 10,
   "metadata": {},
   "outputs": [
    {
     "name": "stdout",
     "output_type": "stream",
     "text": [
      "(3824, 1)\n",
      "(3824, 2)\n",
      "(3824, 3)\n"
     ]
    }
   ],
   "source": [
    "data_f = np.loadtxt('Chromosome Prediction Results (Testing)/ch9_levelp(f).txt',dtype=np.float32)\n",
    "data_t = np.loadtxt('Chromosome Prediction Results (Training)/ch9_levelp(t).txt',dtype=np.float32)\n",
    "train = np.hstack([data_f, data_t]).reshape(-1, 1)\n",
    "print(train.shape)\n",
    "data_cf = np.loadtxt(\"Test Sites and Occupancy/ch9_testing.csv\",delimiter=\",\", skiprows=1, usecols=[0, 1])\n",
    "data_ct = np.loadtxt(\"Training Sites and Occupancy/ch9_training.csv\",delimiter=\",\", skiprows=1, usecols=[0, 1])\n",
    "origin = np.vstack([data_cf, data_ct])\n",
    "print(origin.shape)\n",
    "data_all = np.hstack([origin, train])\n",
    "print(data_all.shape)\n",
    "idx = np.lexsort([data_all[:, 0]])\n",
    "datar = data_all[idx]\n",
    "df = pd.DataFrame(datar[:, :3], columns=['site', 'origin', 'train'])\n",
    "df.to_csv('Chromosome Prediction Results (Entire)/ch9_full.csv',index=False,float_format='%.4f')  "
   ]
  },
  {
   "cell_type": "code",
   "execution_count": null,
   "metadata": {},
   "outputs": [],
   "source": []
  },
  {
   "cell_type": "code",
   "execution_count": 11,
   "metadata": {},
   "outputs": [
    {
     "name": "stdout",
     "output_type": "stream",
     "text": [
      "(6595, 1)\n",
      "(6595, 2)\n",
      "(6595, 3)\n"
     ]
    }
   ],
   "source": [
    "data_f = np.loadtxt('Chromosome Prediction Results (Testing)/ch10_levelp(f).txt',dtype=np.float32)\n",
    "data_t = np.loadtxt('Chromosome Prediction Results (Training)/ch10_levelp(t).txt',dtype=np.float32)\n",
    "train = np.hstack([data_f, data_t]).reshape(-1, 1)\n",
    "print(train.shape)\n",
    "data_cf = np.loadtxt(\"Test Sites and Occupancy/ch10_testing.csv\",delimiter=\",\", skiprows=1, usecols=[0, 1])\n",
    "data_ct = np.loadtxt(\"Training Sites and Occupancy/ch10_training.csv\",delimiter=\",\", skiprows=1, usecols=[0, 1])\n",
    "origin = np.vstack([data_cf, data_ct])\n",
    "print(origin.shape)\n",
    "data_all = np.hstack([origin, train])\n",
    "print(data_all.shape)\n",
    "idx = np.lexsort([data_all[:, 0]])\n",
    "datar = data_all[idx]\n",
    "df = pd.DataFrame(datar[:, :3], columns=['site', 'origin', 'train'])\n",
    "df.to_csv('Chromosome Prediction Results (Entire)/ch10_full.csv',index=False,float_format='%.4f')  "
   ]
  },
  {
   "cell_type": "code",
   "execution_count": null,
   "metadata": {},
   "outputs": [],
   "source": []
  },
  {
   "cell_type": "code",
   "execution_count": 12,
   "metadata": {},
   "outputs": [
    {
     "name": "stdout",
     "output_type": "stream",
     "text": [
      "(6326, 1)\n",
      "(6326, 2)\n",
      "(6326, 3)\n"
     ]
    }
   ],
   "source": [
    "data_f = np.loadtxt('Chromosome Prediction Results (Testing)/ch11_levelp(f).txt',dtype=np.float32)\n",
    "data_t = np.loadtxt('Chromosome Prediction Results (Training)/ch11_levelp(t).txt',dtype=np.float32)\n",
    "train = np.hstack([data_f, data_t]).reshape(-1, 1)\n",
    "print(train.shape)\n",
    "data_cf = np.loadtxt(\"Test Sites and Occupancy/ch11_testing.csv\",delimiter=\",\", skiprows=1, usecols=[0, 1])\n",
    "data_ct = np.loadtxt(\"Training Sites and Occupancy/ch11_training.csv\",delimiter=\",\", skiprows=1, usecols=[0, 1])\n",
    "origin = np.vstack([data_cf, data_ct])\n",
    "print(origin.shape)\n",
    "data_all = np.hstack([origin, train])\n",
    "print(data_all.shape)\n",
    "idx = np.lexsort([data_all[:, 0]])\n",
    "datar = data_all[idx]\n",
    "df = pd.DataFrame(datar[:, :3], columns=['site', 'origin', 'train'])\n",
    "df.to_csv('Chromosome Prediction Results (Entire)/ch11_full.csv',index=False,float_format='%.4f')  "
   ]
  },
  {
   "cell_type": "code",
   "execution_count": null,
   "metadata": {},
   "outputs": [],
   "source": []
  },
  {
   "cell_type": "code",
   "execution_count": 13,
   "metadata": {},
   "outputs": [
    {
     "name": "stdout",
     "output_type": "stream",
     "text": [
      "(9319, 1)\n",
      "(9319, 2)\n",
      "(9319, 3)\n"
     ]
    }
   ],
   "source": [
    "data_f = np.loadtxt('Chromosome Prediction Results (Testing)/ch12_levelp(f).txt',dtype=np.float32)\n",
    "data_t = np.loadtxt('Chromosome Prediction Results (Training)/ch12_levelp(t).txt',dtype=np.float32)\n",
    "train = np.hstack([data_f, data_t]).reshape(-1, 1)\n",
    "print(train.shape)\n",
    "data_cf = np.loadtxt(\"Test Sites and Occupancy/ch12_testing.csv\",delimiter=\",\", skiprows=1, usecols=[0, 1])\n",
    "data_ct = np.loadtxt(\"Training Sites and Occupancy/ch12_training.csv\",delimiter=\",\", skiprows=1, usecols=[0, 1])\n",
    "origin = np.vstack([data_cf, data_ct])\n",
    "print(origin.shape)\n",
    "data_all = np.hstack([origin, train])\n",
    "print(data_all.shape)\n",
    "idx = np.lexsort([data_all[:, 0]])\n",
    "datar = data_all[idx]\n",
    "df = pd.DataFrame(datar[:, :3], columns=['site', 'origin', 'train'])\n",
    "df.to_csv('Chromosome Prediction Results (Entire)/ch12_full.csv',index=False,float_format='%.4f')  "
   ]
  },
  {
   "cell_type": "code",
   "execution_count": null,
   "metadata": {},
   "outputs": [],
   "source": []
  },
  {
   "cell_type": "code",
   "execution_count": 14,
   "metadata": {},
   "outputs": [
    {
     "name": "stdout",
     "output_type": "stream",
     "text": [
      "(8482, 1)\n",
      "(8482, 2)\n",
      "(8482, 3)\n"
     ]
    }
   ],
   "source": [
    "data_f = np.loadtxt('Chromosome Prediction Results (Testing)/ch13_levelp(f).txt',dtype=np.float32)\n",
    "data_t = np.loadtxt('Chromosome Prediction Results (Training)/ch13_levelp(t).txt',dtype=np.float32)\n",
    "train = np.hstack([data_f, data_t]).reshape(-1, 1)\n",
    "print(train.shape)\n",
    "data_cf = np.loadtxt(\"Test Sites and Occupancy/ch13_testing.csv\",delimiter=\",\", skiprows=1, usecols=[0, 1])\n",
    "data_ct = np.loadtxt(\"Training Sites and Occupancy/ch13_training.csv\",delimiter=\",\", skiprows=1, usecols=[0, 1])\n",
    "origin = np.vstack([data_cf, data_ct])\n",
    "print(origin.shape)\n",
    "data_all = np.hstack([origin, train])\n",
    "print(data_all.shape)\n",
    "idx = np.lexsort([data_all[:, 0]])\n",
    "datar = data_all[idx]\n",
    "df = pd.DataFrame(datar[:, :3], columns=['site', 'origin', 'train'])\n",
    "df.to_csv('Chromosome Prediction Results (Entire)/ch13_full.csv',index=False,float_format='%.4f')  "
   ]
  },
  {
   "cell_type": "code",
   "execution_count": null,
   "metadata": {},
   "outputs": [],
   "source": []
  },
  {
   "cell_type": "code",
   "execution_count": 15,
   "metadata": {},
   "outputs": [
    {
     "name": "stdout",
     "output_type": "stream",
     "text": [
      "(7064, 1)\n",
      "(7064, 2)\n",
      "(7064, 3)\n"
     ]
    }
   ],
   "source": [
    "data_f = np.loadtxt('Chromosome Prediction Results (Testing)/ch14_levelp(f).txt',dtype=np.float32)\n",
    "data_t = np.loadtxt('Chromosome Prediction Results (Training)/ch14_levelp(t).txt',dtype=np.float32)\n",
    "train = np.hstack([data_f, data_t]).reshape(-1, 1)\n",
    "print(train.shape)\n",
    "data_cf = np.loadtxt(\"Test Sites and Occupancy/ch14_testing.csv\",delimiter=\",\", skiprows=1, usecols=[0, 1])\n",
    "data_ct = np.loadtxt(\"Training Sites and Occupancy/ch14_training.csv\",delimiter=\",\", skiprows=1, usecols=[0, 1])\n",
    "origin = np.vstack([data_cf, data_ct])\n",
    "print(origin.shape)\n",
    "data_all = np.hstack([origin, train])\n",
    "print(data_all.shape)\n",
    "idx = np.lexsort([data_all[:, 0]])\n",
    "datar = data_all[idx]\n",
    "df = pd.DataFrame(datar[:, :3], columns=['site', 'origin', 'train'])\n",
    "df.to_csv('Chromosome Prediction Results (Entire)/ch14_full.csv',index=False,float_format='%.4f')  "
   ]
  },
  {
   "cell_type": "code",
   "execution_count": null,
   "metadata": {},
   "outputs": [],
   "source": []
  },
  {
   "cell_type": "code",
   "execution_count": 16,
   "metadata": {},
   "outputs": [
    {
     "name": "stdout",
     "output_type": "stream",
     "text": [
      "(9974, 1)\n",
      "(9974, 2)\n",
      "(9974, 3)\n"
     ]
    }
   ],
   "source": [
    "data_f = np.loadtxt('Chromosome Prediction Results (Testing)/ch15_levelp(f).txt',dtype=np.float32)\n",
    "data_t = np.loadtxt('Chromosome Prediction Results (Training)/ch15_levelp(t).txt',dtype=np.float32)\n",
    "train = np.hstack([data_f, data_t]).reshape(-1, 1)\n",
    "print(train.shape)\n",
    "data_cf = np.loadtxt(\"Test Sites and Occupancy/ch15_testing.csv\",delimiter=\",\", skiprows=1, usecols=[0, 1])\n",
    "data_ct = np.loadtxt(\"Training Sites and Occupancy/ch15_training.csv\",delimiter=\",\", skiprows=1, usecols=[0, 1])\n",
    "origin = np.vstack([data_cf, data_ct])\n",
    "print(origin.shape)\n",
    "data_all = np.hstack([origin, train])\n",
    "print(data_all.shape)\n",
    "idx = np.lexsort([data_all[:, 0]])\n",
    "datar = data_all[idx]\n",
    "df = pd.DataFrame(datar[:, :3], columns=['site', 'origin', 'train'])\n",
    "df.to_csv('Chromosome Prediction Results (Entire)/ch15_full.csv',index=False,float_format='%.4f')  "
   ]
  },
  {
   "cell_type": "code",
   "execution_count": null,
   "metadata": {},
   "outputs": [],
   "source": []
  },
  {
   "cell_type": "code",
   "execution_count": 17,
   "metadata": {},
   "outputs": [
    {
     "name": "stdout",
     "output_type": "stream",
     "text": [
      "(8569, 1)\n",
      "(8569, 2)\n",
      "(8569, 3)\n"
     ]
    }
   ],
   "source": [
    "data_f = np.loadtxt('Chromosome Prediction Results (Testing)/ch16_levelp(f).txt',dtype=np.float32)\n",
    "data_t = np.loadtxt('Chromosome Prediction Results (Training)/ch16_levelp(t).txt',dtype=np.float32)\n",
    "train = np.hstack([data_f, data_t]).reshape(-1, 1)\n",
    "print(train.shape)\n",
    "data_cf = np.loadtxt(\"Test Sites and Occupancy/ch16_testing.csv\",delimiter=\",\", skiprows=1, usecols=[0, 1])\n",
    "data_ct = np.loadtxt(\"Training Sites and Occupancy/ch16_training.csv\",delimiter=\",\", skiprows=1, usecols=[0, 1])\n",
    "origin = np.vstack([data_cf, data_ct])\n",
    "print(origin.shape)\n",
    "data_all = np.hstack([origin, train])\n",
    "print(data_all.shape)\n",
    "idx = np.lexsort([data_all[:, 0]])\n",
    "datar = data_all[idx]\n",
    "df = pd.DataFrame(datar[:, :3], columns=['site', 'origin', 'train'])\n",
    "df.to_csv('Chromosome Prediction Results (Entire)/ch16_full.csv',index=False,float_format='%.4f')  "
   ]
  },
  {
   "cell_type": "code",
   "execution_count": null,
   "metadata": {},
   "outputs": [],
   "source": []
  }
 ],
 "metadata": {
  "kernelspec": {
   "display_name": "Python 3 (ipykernel)",
   "language": "python",
   "name": "python3"
  },
  "language_info": {
   "codemirror_mode": {
    "name": "ipython",
    "version": 3
   },
   "file_extension": ".py",
   "mimetype": "text/x-python",
   "name": "python",
   "nbconvert_exporter": "python",
   "pygments_lexer": "ipython3",
   "version": "3.12.4"
  }
 },
 "nbformat": 4,
 "nbformat_minor": 4
}
