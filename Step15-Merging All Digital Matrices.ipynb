{
 "cells": [
  {
   "cell_type": "code",
   "execution_count": null,
   "id": "19a2dc9a-7446-4846-a57c-fd57e7b155b7",
   "metadata": {},
   "outputs": [],
   "source": [
    "Merge all the numerical matrices into a single large matrix to construct the nucleosome genome-wide digital matrix."
   ]
  },
  {
   "cell_type": "code",
   "execution_count": null,
   "id": "ed3b95e7-ddee-4ca4-82ba-25afd60add9e",
   "metadata": {},
   "outputs": [],
   "source": []
  },
  {
   "cell_type": "code",
   "execution_count": 1,
   "id": "938aaef4-8535-4d69-8833-0d91585c52ff",
   "metadata": {},
   "outputs": [
    {
     "name": "stdout",
     "output_type": "stream",
     "text": [
      "Merging completed, data saved to Nucleosome Digital Matrix/Digital Matrix.h5\n",
      "Reading file Nucleosome Digital Matrix/Digital Matrix.h5\n",
      "Nuar shape: (107745, 16, 146)\n",
      "label shape: (107745,)\n"
     ]
    }
   ],
   "source": [
    "import numpy as np, h5py, os\n",
    "\n",
    "def merge_h5_files(chromosomes, input_dir, output_file):\n",
    "\n",
    "    X = np.concatenate([h5py.File(os.path.join(input_dir, f'chr{c}-Digital Matrix.h5'), 'r')['Nuar'][:] for c in chromosomes])\n",
    "    y = np.concatenate([h5py.File(os.path.join(input_dir, f'chr{c}-Digital Matrix.h5'), 'r')['label'][:] for c in chromosomes])\n",
    "    with h5py.File(output_file, 'w') as f:\n",
    "        f.create_dataset('Nuar', data=X.astype(np.float16))\n",
    "        f.create_dataset('label', data=y.astype(np.float16))\n",
    "    print(f\"Merging completed, data saved to {output_file}\")\n",
    "\n",
    "def read_h5_file(file_path):\n",
    "\n",
    "    with h5py.File(file_path, 'r') as f:\n",
    "        nuar = f['Nuar'][:]\n",
    "        label = f['label'][:]\n",
    "        print(f\"Reading file {file_path}\")\n",
    "        print(f\"Nuar shape: {nuar.shape}\")\n",
    "        print(f\"label shape: {label.shape}\")\n",
    "\n",
    "merge_h5_files(range(1, 17), 'Nucleosome Digital Matrix', 'Nucleosome Digital Matrix/Digital Matrix.h5')\n",
    "\n",
    "read_h5_file('Nucleosome Digital Matrix/Digital Matrix.h5')"
   ]
  },
  {
   "cell_type": "code",
   "execution_count": null,
   "id": "215399f5-6a37-4bf8-a3b3-990cbc476104",
   "metadata": {},
   "outputs": [],
   "source": []
  }
 ],
 "metadata": {
  "kernelspec": {
   "display_name": "Python 3 (ipykernel)",
   "language": "python",
   "name": "python3"
  },
  "language_info": {
   "codemirror_mode": {
    "name": "ipython",
    "version": 3
   },
   "file_extension": ".py",
   "mimetype": "text/x-python",
   "name": "python",
   "nbconvert_exporter": "python",
   "pygments_lexer": "ipython3",
   "version": "3.12.4"
  }
 },
 "nbformat": 4,
 "nbformat_minor": 5
}
