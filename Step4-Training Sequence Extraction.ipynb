{
 "cells": [
  {
   "cell_type": "raw",
   "metadata": {},
   "source": [
    "Extract the corresponding base sequences according to the training sites.\n",
    "Centered on the sequence central site,extract 147 bp DNA sequences (±73 bp from the center)."
   ]
  },
  {
   "cell_type": "code",
   "execution_count": 1,
   "metadata": {},
   "outputs": [],
   "source": [
    "import numpy as np\n",
    "import pandas as pd"
   ]
  },
  {
   "cell_type": "code",
   "execution_count": 2,
   "metadata": {},
   "outputs": [
    {
     "data": {
      "text/plain": [
       "230208"
      ]
     },
     "execution_count": 2,
     "metadata": {},
     "output_type": "execute_result"
    }
   ],
   "source": [
    "with open('SAC1 Genome Deletion of Spaces/CH1n.txt',\"r\") as f:    \n",
    "    strn = f.read() \n",
    "len(strn)"
   ]
  },
  {
   "cell_type": "code",
   "execution_count": 3,
   "metadata": {},
   "outputs": [
    {
     "name": "stdout",
     "output_type": "stream",
     "text": [
      "(66,)\n",
      "(66,)\n"
     ]
    }
   ],
   "source": [
    "f = pd.read_csv('Training Sites and Occupancy/ch1_training.csv')\n",
    "site = f['site']    \n",
    "site = np.array(site)\n",
    "print(site.shape)\n",
    "level = f['value']    \n",
    "level = np.array(level)\n",
    "print(level.shape)"
   ]
  },
  {
   "cell_type": "code",
   "execution_count": 4,
   "metadata": {},
   "outputs": [],
   "source": [
    "fh = open('Training Sequences/CH1S.txt', 'w')\n",
    "for i in range(len(site)):\n",
    "    strs = strn[int(site[i])-74:int(site[i])+73]\n",
    "    fh.write(strs)\n",
    "    fh.write('\\n')\n",
    "fh.close()"
   ]
  },
  {
   "cell_type": "code",
   "execution_count": null,
   "metadata": {},
   "outputs": [],
   "source": []
  },
  {
   "cell_type": "code",
   "execution_count": 5,
   "metadata": {},
   "outputs": [
    {
     "name": "stdout",
     "output_type": "stream",
     "text": [
      "(289,)\n",
      "(289,)\n"
     ]
    }
   ],
   "source": [
    "import numpy as np\n",
    "import pandas as pd\n",
    "with open('SAC1 Genome Deletion of Spaces/CH2n.txt',\"r\") as f:    \n",
    "    strn = f.read() \n",
    "len(strn)\n",
    "f = pd.read_csv('Training Sites and Occupancy/ch2_training.csv')\n",
    "site = f['site']    \n",
    "site = np.array(site)\n",
    "print(site.shape)\n",
    "level = f['value']    \n",
    "level = np.array(level)\n",
    "print(level.shape)\n",
    "fh = open('Training Sequences/CH2S.txt', 'w')\n",
    "for i in range(len(site)):\n",
    "    strs = strn[int(site[i])-74:int(site[i])+73]\n",
    "    fh.write(strs)\n",
    "    fh.write('\\n')\n",
    "fh.close()"
   ]
  },
  {
   "cell_type": "code",
   "execution_count": null,
   "metadata": {},
   "outputs": [],
   "source": []
  },
  {
   "cell_type": "code",
   "execution_count": 6,
   "metadata": {},
   "outputs": [
    {
     "name": "stdout",
     "output_type": "stream",
     "text": [
      "(91,)\n",
      "(91,)\n"
     ]
    }
   ],
   "source": [
    "import numpy as np\n",
    "import pandas as pd\n",
    "with open('SAC1 Genome Deletion of Spaces/CH3n.txt',\"r\") as f:    \n",
    "    strn = f.read() \n",
    "len(strn)\n",
    "f = pd.read_csv('Training Sites and Occupancy/ch3_training.csv')\n",
    "site = f['site']    \n",
    "site = np.array(site)\n",
    "print(site.shape)\n",
    "level = f['value']    \n",
    "level = np.array(level)\n",
    "print(level.shape)\n",
    "fh = open('Training Sequences/CH3S.txt', 'w')\n",
    "for i in range(len(site)):\n",
    "    strs = strn[int(site[i])-74:int(site[i])+73]\n",
    "    fh.write(strs)\n",
    "    fh.write('\\n')\n",
    "fh.close()"
   ]
  },
  {
   "cell_type": "code",
   "execution_count": null,
   "metadata": {},
   "outputs": [],
   "source": []
  },
  {
   "cell_type": "code",
   "execution_count": 7,
   "metadata": {},
   "outputs": [
    {
     "name": "stdout",
     "output_type": "stream",
     "text": [
      "(535,)\n",
      "(535,)\n"
     ]
    }
   ],
   "source": [
    "import numpy as np\n",
    "import pandas as pd\n",
    "with open('SAC1 Genome Deletion of Spaces/CH4n.txt',\"r\") as f:    \n",
    "    strn = f.read() \n",
    "len(strn)\n",
    "f = pd.read_csv('Training Sites and Occupancy/ch4_training.csv')\n",
    "site = f['site']    \n",
    "site = np.array(site)\n",
    "print(site.shape)\n",
    "level = f['value']    \n",
    "level = np.array(level)\n",
    "print(level.shape)\n",
    "fh = open('Training Sequences/CH4S.txt', 'w')\n",
    "for i in range(len(site)):\n",
    "    strs = strn[int(site[i])-74:int(site[i])+73]\n",
    "    fh.write(strs)\n",
    "    fh.write('\\n')\n",
    "fh.close()"
   ]
  },
  {
   "cell_type": "code",
   "execution_count": null,
   "metadata": {},
   "outputs": [],
   "source": []
  },
  {
   "cell_type": "code",
   "execution_count": 8,
   "metadata": {},
   "outputs": [
    {
     "name": "stdout",
     "output_type": "stream",
     "text": [
      "(195,)\n",
      "(195,)\n"
     ]
    }
   ],
   "source": [
    "import numpy as np\n",
    "import pandas as pd\n",
    "with open('SAC1 Genome Deletion of Spaces/CH5n.txt',\"r\") as f:    \n",
    "    strn = f.read() \n",
    "len(strn)\n",
    "f = pd.read_csv('Training Sites and Occupancy/ch5_training.csv')\n",
    "site = f['site']    \n",
    "site = np.array(site)\n",
    "print(site.shape)\n",
    "level = f['value']    \n",
    "level = np.array(level)\n",
    "print(level.shape)\n",
    "fh = open('Training Sequences/CH5S.txt', 'w')\n",
    "for i in range(len(site)):\n",
    "    strs = strn[int(site[i])-74:int(site[i])+73]\n",
    "    fh.write(strs)\n",
    "    fh.write('\\n')\n",
    "fh.close()"
   ]
  },
  {
   "cell_type": "code",
   "execution_count": null,
   "metadata": {},
   "outputs": [],
   "source": []
  },
  {
   "cell_type": "code",
   "execution_count": 9,
   "metadata": {},
   "outputs": [
    {
     "name": "stdout",
     "output_type": "stream",
     "text": [
      "(87,)\n",
      "(87,)\n"
     ]
    }
   ],
   "source": [
    "import numpy as np\n",
    "import pandas as pd\n",
    "with open('SAC1 Genome Deletion of Spaces/CH6n.txt',\"r\") as f:    \n",
    "    strn = f.read() \n",
    "len(strn)\n",
    "f = pd.read_csv('Training Sites and Occupancy/ch6_training.csv')\n",
    "site = f['site']    \n",
    "site = np.array(site)\n",
    "print(site.shape)\n",
    "level = f['value']    \n",
    "level = np.array(level)\n",
    "print(level.shape)\n",
    "fh = open('Training Sequences/CH6S.txt', 'w')\n",
    "for i in range(len(site)):\n",
    "    strs = strn[int(site[i])-74:int(site[i])+73]\n",
    "    fh.write(strs)\n",
    "    fh.write('\\n')\n",
    "fh.close()"
   ]
  },
  {
   "cell_type": "code",
   "execution_count": null,
   "metadata": {},
   "outputs": [],
   "source": []
  },
  {
   "cell_type": "code",
   "execution_count": 10,
   "metadata": {},
   "outputs": [
    {
     "name": "stdout",
     "output_type": "stream",
     "text": [
      "(382,)\n",
      "(382,)\n"
     ]
    }
   ],
   "source": [
    "import numpy as np\n",
    "import pandas as pd\n",
    "with open('SAC1 Genome Deletion of Spaces/CH7n.txt',\"r\") as f:    \n",
    "    strn = f.read() \n",
    "len(strn)\n",
    "f = pd.read_csv('Training Sites and Occupancy/ch7_training.csv')\n",
    "site = f['site']    \n",
    "site = np.array(site)\n",
    "print(site.shape)\n",
    "level = f['value']    \n",
    "level = np.array(level)\n",
    "print(level.shape)\n",
    "fh = open('Training Sequences/CH7S.txt', 'w')\n",
    "for i in range(len(site)):\n",
    "    strs = strn[int(site[i])-74:int(site[i])+73]\n",
    "    fh.write(strs)\n",
    "    fh.write('\\n')\n",
    "fh.close()"
   ]
  },
  {
   "cell_type": "code",
   "execution_count": null,
   "metadata": {},
   "outputs": [],
   "source": []
  },
  {
   "cell_type": "code",
   "execution_count": 11,
   "metadata": {},
   "outputs": [
    {
     "name": "stdout",
     "output_type": "stream",
     "text": [
      "(188,)\n",
      "(188,)\n"
     ]
    }
   ],
   "source": [
    "import numpy as np\n",
    "import pandas as pd\n",
    "with open('SAC1 Genome Deletion of Spaces/CH8n.txt',\"r\") as f:    \n",
    "    strn = f.read() \n",
    "len(strn)\n",
    "f = pd.read_csv('Training Sites and Occupancy/ch8_training.csv')\n",
    "site = f['site']    \n",
    "site = np.array(site)\n",
    "print(site.shape)\n",
    "level = f['value']    \n",
    "level = np.array(level)\n",
    "print(level.shape)\n",
    "fh = open('Training Sequences/CH8S.txt', 'w')\n",
    "for i in range(len(site)):\n",
    "    strs = strn[int(site[i])-74:int(site[i])+73]\n",
    "    fh.write(strs)\n",
    "    fh.write('\\n')\n",
    "fh.close()"
   ]
  },
  {
   "cell_type": "code",
   "execution_count": null,
   "metadata": {},
   "outputs": [],
   "source": []
  },
  {
   "cell_type": "code",
   "execution_count": 12,
   "metadata": {},
   "outputs": [
    {
     "name": "stdout",
     "output_type": "stream",
     "text": [
      "(142,)\n",
      "(142,)\n"
     ]
    }
   ],
   "source": [
    "import numpy as np\n",
    "import pandas as pd\n",
    "with open('SAC1 Genome Deletion of Spaces/CH9n.txt',\"r\") as f:    \n",
    "    strn = f.read() \n",
    "len(strn)\n",
    "f = pd.read_csv('Training Sites and Occupancy/ch9_training.csv')\n",
    "site = f['site']    \n",
    "site = np.array(site)\n",
    "print(site.shape)\n",
    "level = f['value']    \n",
    "level = np.array(level)\n",
    "print(level.shape)\n",
    "fh = open('Training Sequences/CH9S.txt', 'w')\n",
    "for i in range(len(site)):\n",
    "    strs = strn[int(site[i])-74:int(site[i])+73]\n",
    "    fh.write(strs)\n",
    "    fh.write('\\n')\n",
    "fh.close()"
   ]
  },
  {
   "cell_type": "code",
   "execution_count": null,
   "metadata": {},
   "outputs": [],
   "source": []
  },
  {
   "cell_type": "code",
   "execution_count": 13,
   "metadata": {},
   "outputs": [
    {
     "name": "stdout",
     "output_type": "stream",
     "text": [
      "(252,)\n",
      "(252,)\n"
     ]
    }
   ],
   "source": [
    "import numpy as np\n",
    "import pandas as pd\n",
    "with open('SAC1 Genome Deletion of Spaces/CH10n.txt',\"r\") as f:    \n",
    "    strn = f.read() \n",
    "len(strn)\n",
    "f = pd.read_csv('Training Sites and Occupancy/ch10_training.csv')\n",
    "site = f['site']    \n",
    "site = np.array(site)\n",
    "print(site.shape)\n",
    "level = f['value']    \n",
    "level = np.array(level)\n",
    "print(level.shape)\n",
    "fh = open('Training Sequences/CH10S.txt', 'w')\n",
    "for i in range(len(site)):\n",
    "    strs = strn[int(site[i])-74:int(site[i])+73]\n",
    "    fh.write(strs)\n",
    "    fh.write('\\n')\n",
    "fh.close()"
   ]
  },
  {
   "cell_type": "code",
   "execution_count": null,
   "metadata": {},
   "outputs": [],
   "source": []
  },
  {
   "cell_type": "code",
   "execution_count": 14,
   "metadata": {},
   "outputs": [
    {
     "name": "stdout",
     "output_type": "stream",
     "text": [
      "(251,)\n",
      "(251,)\n"
     ]
    }
   ],
   "source": [
    "import numpy as np\n",
    "import pandas as pd\n",
    "with open('SAC1 Genome Deletion of Spaces/CH11n.txt',\"r\") as f:    \n",
    "    strn = f.read() \n",
    "len(strn)\n",
    "f = pd.read_csv('Training Sites and Occupancy/ch11_training.csv')\n",
    "site = f['site']    \n",
    "site = np.array(site)\n",
    "print(site.shape)\n",
    "level = f['value']    \n",
    "level = np.array(level)\n",
    "print(level.shape)\n",
    "fh = open('Training Sequences/CH11S.txt', 'w')\n",
    "for i in range(len(site)):\n",
    "    strs = strn[int(site[i])-74:int(site[i])+73]\n",
    "    fh.write(strs)\n",
    "    fh.write('\\n')\n",
    "fh.close()"
   ]
  },
  {
   "cell_type": "code",
   "execution_count": null,
   "metadata": {},
   "outputs": [],
   "source": []
  },
  {
   "cell_type": "code",
   "execution_count": 15,
   "metadata": {},
   "outputs": [
    {
     "name": "stdout",
     "output_type": "stream",
     "text": [
      "(358,)\n",
      "(358,)\n"
     ]
    }
   ],
   "source": [
    "import numpy as np\n",
    "import pandas as pd\n",
    "with open('SAC1 Genome Deletion of Spaces/CH12n.txt',\"r\") as f:    \n",
    "    strn = f.read() \n",
    "len(strn)\n",
    "f = pd.read_csv('Training Sites and Occupancy/ch12_training.csv')\n",
    "site = f['site']    \n",
    "site = np.array(site)\n",
    "print(site.shape)\n",
    "level = f['value']    \n",
    "level = np.array(level)\n",
    "print(level.shape)\n",
    "fh = open('Training Sequences/CH12S.txt', 'w')\n",
    "for i in range(len(site)):\n",
    "    strs = strn[int(site[i])-74:int(site[i])+73]\n",
    "    fh.write(strs)\n",
    "    fh.write('\\n')\n",
    "fh.close()"
   ]
  },
  {
   "cell_type": "code",
   "execution_count": null,
   "metadata": {},
   "outputs": [],
   "source": []
  },
  {
   "cell_type": "code",
   "execution_count": 16,
   "metadata": {},
   "outputs": [
    {
     "name": "stdout",
     "output_type": "stream",
     "text": [
      "(331,)\n",
      "(331,)\n"
     ]
    }
   ],
   "source": [
    "import numpy as np\n",
    "import pandas as pd\n",
    "with open('SAC1 Genome Deletion of Spaces/CH13n.txt',\"r\") as f:    \n",
    "    strn = f.read() \n",
    "len(strn)\n",
    "f = pd.read_csv('Training Sites and Occupancy/ch13_training.csv')\n",
    "site = f['site']    \n",
    "site = np.array(site)\n",
    "print(site.shape)\n",
    "level = f['value']    \n",
    "level = np.array(level)\n",
    "print(level.shape)\n",
    "fh = open('Training Sequences/CH13S.txt', 'w')\n",
    "for i in range(len(site)):\n",
    "    strs = strn[int(site[i])-74:int(site[i])+73]\n",
    "    fh.write(strs)\n",
    "    fh.write('\\n')\n",
    "fh.close()"
   ]
  },
  {
   "cell_type": "code",
   "execution_count": null,
   "metadata": {},
   "outputs": [],
   "source": []
  },
  {
   "cell_type": "code",
   "execution_count": 17,
   "metadata": {},
   "outputs": [
    {
     "name": "stdout",
     "output_type": "stream",
     "text": [
      "(269,)\n",
      "(269,)\n"
     ]
    }
   ],
   "source": [
    "import numpy as np\n",
    "import pandas as pd\n",
    "with open('SAC1 Genome Deletion of Spaces/CH14n.txt',\"r\") as f:    \n",
    "    strn = f.read() \n",
    "len(strn)\n",
    "f = pd.read_csv('Training Sites and Occupancy/ch14_training.csv')\n",
    "site = f['site']    \n",
    "site = np.array(site)\n",
    "print(site.shape)\n",
    "level = f['value']    \n",
    "level = np.array(level)\n",
    "print(level.shape)\n",
    "fh = open('Training Sequences/CH14S.txt', 'w')\n",
    "for i in range(len(site)):\n",
    "    strs = strn[int(site[i])-74:int(site[i])+73]\n",
    "    fh.write(strs)\n",
    "    fh.write('\\n')\n",
    "fh.close()"
   ]
  },
  {
   "cell_type": "code",
   "execution_count": null,
   "metadata": {},
   "outputs": [],
   "source": []
  },
  {
   "cell_type": "code",
   "execution_count": 18,
   "metadata": {},
   "outputs": [
    {
     "name": "stdout",
     "output_type": "stream",
     "text": [
      "(390,)\n",
      "(390,)\n"
     ]
    }
   ],
   "source": [
    "import numpy as np\n",
    "import pandas as pd\n",
    "with open('SAC1 Genome Deletion of Spaces/CH15n.txt',\"r\") as f:    \n",
    "    strn = f.read() \n",
    "len(strn)\n",
    "f = pd.read_csv('Training Sites and Occupancy/ch15_training.csv')\n",
    "site = f['site']    \n",
    "site = np.array(site)\n",
    "print(site.shape)\n",
    "level = f['value']    \n",
    "level = np.array(level)\n",
    "print(level.shape)\n",
    "fh = open('Training Sequences/CH15S.txt', 'w')\n",
    "for i in range(len(site)):\n",
    "    strs = strn[int(site[i])-74:int(site[i])+73]\n",
    "    fh.write(strs)\n",
    "    fh.write('\\n')\n",
    "fh.close()"
   ]
  },
  {
   "cell_type": "code",
   "execution_count": null,
   "metadata": {},
   "outputs": [],
   "source": []
  },
  {
   "cell_type": "code",
   "execution_count": 19,
   "metadata": {},
   "outputs": [
    {
     "name": "stdout",
     "output_type": "stream",
     "text": [
      "(345,)\n",
      "(345,)\n"
     ]
    }
   ],
   "source": [
    "import numpy as np\n",
    "import pandas as pd\n",
    "with open('SAC1 Genome Deletion of Spaces/CH16n.txt',\"r\") as f:    \n",
    "    strn = f.read() \n",
    "len(strn)\n",
    "f = pd.read_csv('Training Sites and Occupancy/ch16_training.csv')\n",
    "site = f['site']    \n",
    "site = np.array(site)\n",
    "print(site.shape)\n",
    "level = f['value']    \n",
    "level = np.array(level)\n",
    "print(level.shape)\n",
    "fh = open('Training Sequences/CH16S.txt', 'w')\n",
    "for i in range(len(site)):\n",
    "    strs = strn[int(site[i])-74:int(site[i])+73]\n",
    "    fh.write(strs)\n",
    "    fh.write('\\n')\n",
    "fh.close()"
   ]
  },
  {
   "cell_type": "code",
   "execution_count": null,
   "metadata": {},
   "outputs": [],
   "source": []
  },
  {
   "cell_type": "raw",
   "metadata": {},
   "source": [
    "Integrate the base sequences of training sites from all chromosomes."
   ]
  },
  {
   "cell_type": "code",
   "execution_count": 20,
   "metadata": {},
   "outputs": [
    {
     "name": "stdout",
     "output_type": "stream",
     "text": [
      "9768\n",
      "42772\n",
      "13468\n",
      "79180\n",
      "28860\n",
      "12876\n",
      "56536\n",
      "27824\n",
      "21016\n",
      "21016\n",
      "37148\n",
      "52984\n",
      "48988\n",
      "39812\n",
      "57720\n",
      "51060\n"
     ]
    }
   ],
   "source": [
    "import numpy as np\n",
    "with open('Training Sequences/CH1S.txt',\"r\") as strn:    \n",
    "    f1 = strn.read()\n",
    "print(len(f1))\n",
    "with open('Training Sequences/CH2S.txt',\"r\") as strn:    \n",
    "    f2 = strn.read()\n",
    "print(len(f2))\n",
    "with open('Training Sequences/CH3S.txt',\"r\") as strn:    \n",
    "    f3 = strn.read()\n",
    "print(len(f3))\n",
    "with open('Training Sequences/CH4S.txt',\"r\") as strn:    \n",
    "    f4 = strn.read()\n",
    "print(len(f4))\n",
    "with open('Training Sequences/CH5S.txt',\"r\") as strn:    \n",
    "    f5 = strn.read()\n",
    "print(len(f5))\n",
    "with open('Training Sequences/CH6S.txt',\"r\") as strn:    \n",
    "    f6 = strn.read()\n",
    "print(len(f6))\n",
    "with open('Training Sequences/CH7S.txt',\"r\") as strn:    \n",
    "    f7 = strn.read()\n",
    "print(len(f7))\n",
    "with open('Training Sequences/CH8S.txt',\"r\") as strn:    \n",
    "    f8 = strn.read()\n",
    "print(len(f8))\n",
    "with open('Training Sequences/CH9S.txt',\"r\") as strn:    \n",
    "    f9 = strn.read()\n",
    "print(len(f9))\n",
    "with open('Training Sequences/CH9S.txt',\"r\") as strn:    \n",
    "    f10 = strn.read()\n",
    "print(len(f10))\n",
    "with open('Training Sequences/CH11S.txt',\"r\") as strn:    \n",
    "    f11 = strn.read()\n",
    "print(len(f11))\n",
    "with open('Training Sequences/CH12S.txt',\"r\") as strn:    \n",
    "    f12 = strn.read()\n",
    "print(len(f12))\n",
    "with open('Training Sequences/CH13S.txt',\"r\") as strn:    \n",
    "    f13 = strn.read()\n",
    "print(len(f13))\n",
    "with open('Training Sequences/CH14S.txt',\"r\") as strn:    \n",
    "    f14 = strn.read()\n",
    "print(len(f14))\n",
    "with open('Training Sequences/CH15S.txt',\"r\") as strn:    \n",
    "    f15 = strn.read()\n",
    "print(len(f15))\n",
    "with open('Training Sequences/CH16S.txt',\"r\") as strn:    \n",
    "    f16 = strn.read()\n",
    "print(len(f16))"
   ]
  },
  {
   "cell_type": "code",
   "execution_count": 21,
   "metadata": {},
   "outputs": [
    {
     "name": "stdout",
     "output_type": "stream",
     "text": [
      "580012\n",
      "601028\n"
     ]
    }
   ],
   "source": [
    "f_15 = f1 + f2 + f3 + f4 + f5 + f6 + f7 + f8 + f9 + f11 + f12 + f13 + f14 + f15 + f16\n",
    "print(len(f_15))\n",
    "with open('Training Sequences/CHAS(No10).txt', \"w\") as combined_file:\n",
    "    combined_file.write(f_15)\n",
    "f_16 = f1 + f2 + f3 + f4 + f5 + f6 + f7 + f8 + f9 + f10 + f11 + f12 + f13 + f14 + f15 + f16\n",
    "print(len(f_16))\n",
    "with open('Training Sequences/CHAS.txt', \"w\") as combined_file:\n",
    "    combined_file.write(f_16)"
   ]
  },
  {
   "cell_type": "code",
   "execution_count": null,
   "metadata": {},
   "outputs": [],
   "source": []
  }
 ],
 "metadata": {
  "kernelspec": {
   "display_name": "Python 3 (ipykernel)",
   "language": "python",
   "name": "python3"
  },
  "language_info": {
   "codemirror_mode": {
    "name": "ipython",
    "version": 3
   },
   "file_extension": ".py",
   "mimetype": "text/x-python",
   "name": "python",
   "nbconvert_exporter": "python",
   "pygments_lexer": "ipython3",
   "version": "3.12.4"
  }
 },
 "nbformat": 4,
 "nbformat_minor": 4
}
