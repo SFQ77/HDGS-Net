{
 "cells": [
  {
   "cell_type": "raw",
   "id": "8cc1068d-3349-4090-a341-fba6e3d6d15d",
   "metadata": {},
   "source": [
    "The feature is a 16×146-dimensional sparse feature matrix generated from the 147 bp DNA sequence through dinucleotide one-hot encoding, \n",
    "and the label is the corresponding nucleosome occupancy rate (dMean value) of the training site."
   ]
  },
  {
   "cell_type": "code",
   "execution_count": null,
   "id": "c1f51b5a-dea4-493b-80b7-3f75043cfbc8",
   "metadata": {},
   "outputs": [],
   "source": []
  },
  {
   "cell_type": "code",
   "execution_count": 1,
   "id": "981f9601-fa02-4619-9b4e-2304c532cf8d",
   "metadata": {},
   "outputs": [
    {
     "name": "stderr",
     "output_type": "stream",
     "text": [
      "3919it [00:02, 1882.00it/s]\n"
     ]
    }
   ],
   "source": [
    "import numpy as np\n",
    "import h5py\n",
    "from tqdm import tqdm\n",
    "base = ['AA', 'AC', 'AG', 'AT', 'CA', 'CC', 'CG', 'CT', 'GA', 'GC', 'GG', 'GT', 'TA', 'TC', 'TG', 'TT']\n",
    "nonzero_indices = []\n",
    "with open('Training Sequences/CHAS(NO10).txt', 'r') as f:\n",
    "    for i, line in enumerate(tqdm(f)):\n",
    "        line = line.strip() \n",
    "        for n in range(16):  \n",
    "            for m in range(len(line) - 1):\n",
    "                dinu = line[m] + line[m+1]\n",
    "                if dinu == base[n]:\n",
    "                    nonzero_indices.append([i, n, m])\n",
    "nonzero_indices = np.array(nonzero_indices, dtype=np.int32)\n",
    "with h5py.File('Training Sites and Occupancy/Training Labels(no10).h5', 'r') as fs:\n",
    "    level = np.array(fs['level']) \n",
    "output_path = 'Training Feature Label Matrix/Training Matrix.h5'\n",
    "with h5py.File(output_path, 'w') as f:\n",
    "    f.create_dataset('indices', data=nonzero_indices,compression='gzip',compression_opts=9)\n",
    "    f.create_dataset('shape', data=[3919, 16, 146])\n",
    "    f.create_dataset('label', data=level,compression='gzip',compression_opts=6)"
   ]
  },
  {
   "cell_type": "code",
   "execution_count": null,
   "id": "46e4d9e2-e1f5-4f3f-a0dd-642e6f5c807c",
   "metadata": {},
   "outputs": [],
   "source": []
  }
 ],
 "metadata": {
  "kernelspec": {
   "display_name": "Python 3 (ipykernel)",
   "language": "python",
   "name": "python3"
  },
  "language_info": {
   "codemirror_mode": {
    "name": "ipython",
    "version": 3
   },
   "file_extension": ".py",
   "mimetype": "text/x-python",
   "name": "python",
   "nbconvert_exporter": "python",
   "pygments_lexer": "ipython3",
   "version": "3.12.4"
  }
 },
 "nbformat": 4,
 "nbformat_minor": 5
}
