{
 "cells": [
  {
   "cell_type": "code",
   "execution_count": null,
   "id": "498eda75-1cf3-4ad8-9ce0-ff353eba9150",
   "metadata": {},
   "outputs": [],
   "source": [
    "Convert the 147 bp DNA sequences at nucleosome positions on each chromosome into \n",
    "a one-hot encoding matrix of 16 dinucleotides,and save it as an HDF5 file with labels."
   ]
  },
  {
   "cell_type": "code",
   "execution_count": null,
   "id": "473a62b7-048c-4fab-ae60-c54cb1c7bac2",
   "metadata": {},
   "outputs": [],
   "source": []
  },
  {
   "cell_type": "code",
   "execution_count": 1,
   "id": "867a6245-6d5b-430c-a978-61591f6a52ed",
   "metadata": {},
   "outputs": [],
   "source": [
    "import h5py, numpy as np, pandas as pd\n",
    "from tqdm import tqdm"
   ]
  },
  {
   "cell_type": "code",
   "execution_count": 2,
   "id": "49105391-ef91-4e76-8feb-8a41f2594e8e",
   "metadata": {},
   "outputs": [
    {
     "name": "stderr",
     "output_type": "stream",
     "text": [
      "Encoding: 100%|█████████████████████████████████████████████████████████████████| 1682/1682 [00:00<00:00, 11411.04it/s]\n"
     ]
    }
   ],
   "source": [
    "GENOME   = 'SAC1 Genome Deletion of Spaces/CH1n.txt'  \n",
    "CSV_FILE = 'Classified Chromosomes/ch1.csv'          \n",
    "H5_OUT   = 'Nucleosome Digital Matrix/chr1-Digital Matrix.h5'\n",
    "BASE     = ['AA','AC','AG','AT','CA','CC','CG','CT',\n",
    "            'GA','GC','GG','GT','TA','TC','TG','TT']\n",
    "SEQ_LEN  = 147\n",
    "DIN_LEN  = SEQ_LEN - 1\n",
    "HALF_WIN = 73      \n",
    "\n",
    "df       = pd.read_csv(CSV_FILE)\n",
    "sites    = df['site'].to_numpy(dtype=int)\n",
    "labels   = df['value'].to_numpy(dtype=np.float32)\n",
    "num_seq  = sites.size\n",
    "\n",
    "with open(GENOME) as f:\n",
    "    genome = f.read().strip().upper()\n",
    "\n",
    "nuar = np.zeros((num_seq, len(BASE), DIN_LEN), dtype=np.float32)\n",
    "for i, pos in enumerate(tqdm(sites, desc='Encoding')):\n",
    "    seq = genome[pos-1-HALF_WIN : pos+HALF_WIN] \n",
    "    if len(seq) != SEQ_LEN:\n",
    "        raise ValueError(f'Position {pos} length mismatch: {len(seq)}')\n",
    "    for j in range(DIN_LEN):\n",
    "        din = seq[j:j+2]\n",
    "        if din in BASE:\n",
    "            nuar[i, BASE.index(din), j] = 1\n",
    "\n",
    "with h5py.File(H5_OUT, 'w') as h5:\n",
    "    h5.create_dataset('Nuar',  data=nuar,   dtype=np.float32)\n",
    "    h5.create_dataset('label', data=labels, dtype=np.float32)"
   ]
  },
  {
   "cell_type": "code",
   "execution_count": null,
   "id": "e208015a-fe63-47ca-b60f-b4b9e56fbbe7",
   "metadata": {},
   "outputs": [],
   "source": []
  },
  {
   "cell_type": "code",
   "execution_count": 3,
   "id": "ad348e05-128c-416f-a640-478056bb2a39",
   "metadata": {},
   "outputs": [
    {
     "name": "stderr",
     "output_type": "stream",
     "text": [
      "Encoding: 100%|█████████████████████████████████████████████████████████████████| 7484/7484 [00:00<00:00, 11655.43it/s]\n"
     ]
    }
   ],
   "source": [
    "GENOME   = 'SAC1 Genome Deletion of Spaces/CH2n.txt'  \n",
    "CSV_FILE = 'Classified Chromosomes/ch2.csv'          \n",
    "H5_OUT   = 'Nucleosome Digital Matrix/chr2-Digital Matrix.h5'\n",
    "BASE     = ['AA','AC','AG','AT','CA','CC','CG','CT',\n",
    "            'GA','GC','GG','GT','TA','TC','TG','TT']\n",
    "SEQ_LEN  = 147\n",
    "DIN_LEN  = SEQ_LEN - 1\n",
    "HALF_WIN = 73      \n",
    "\n",
    "df       = pd.read_csv(CSV_FILE)\n",
    "sites    = df['site'].to_numpy(dtype=int)\n",
    "labels   = df['value'].to_numpy(dtype=np.float32)\n",
    "num_seq  = sites.size\n",
    "\n",
    "with open(GENOME) as f:\n",
    "    genome = f.read().strip().upper()\n",
    "\n",
    "nuar = np.zeros((num_seq, len(BASE), DIN_LEN), dtype=np.float32)\n",
    "for i, pos in enumerate(tqdm(sites, desc='Encoding')):\n",
    "    seq = genome[pos-1-HALF_WIN : pos+HALF_WIN] \n",
    "    if len(seq) != SEQ_LEN:\n",
    "        raise ValueError(f'Position {pos} length mismatch: {len(seq)}')\n",
    "    for j in range(DIN_LEN):\n",
    "        din = seq[j:j+2]\n",
    "        if din in BASE:\n",
    "            nuar[i, BASE.index(din), j] = 1\n",
    "\n",
    "with h5py.File(H5_OUT, 'w') as h5:\n",
    "    h5.create_dataset('Nuar',  data=nuar,   dtype=np.float32)\n",
    "    h5.create_dataset('label', data=labels, dtype=np.float32)"
   ]
  },
  {
   "cell_type": "code",
   "execution_count": null,
   "id": "03c7e55b-d988-48ab-ad21-2663fa081c0f",
   "metadata": {},
   "outputs": [],
   "source": []
  },
  {
   "cell_type": "code",
   "execution_count": 4,
   "id": "ff3759c7-5016-4af0-8c03-f438d7494113",
   "metadata": {},
   "outputs": [
    {
     "name": "stderr",
     "output_type": "stream",
     "text": [
      "Encoding: 100%|█████████████████████████████████████████████████████████████████| 2449/2449 [00:00<00:00, 12096.56it/s]\n"
     ]
    }
   ],
   "source": [
    "GENOME   = 'SAC1 Genome Deletion of Spaces/CH3n.txt'  \n",
    "CSV_FILE = 'Classified Chromosomes/ch3.csv'          \n",
    "H5_OUT   = 'Nucleosome Digital Matrix/chr3-Digital Matrix.h5'\n",
    "BASE     = ['AA','AC','AG','AT','CA','CC','CG','CT',\n",
    "            'GA','GC','GG','GT','TA','TC','TG','TT']\n",
    "SEQ_LEN  = 147\n",
    "DIN_LEN  = SEQ_LEN - 1\n",
    "HALF_WIN = 73      \n",
    "\n",
    "df       = pd.read_csv(CSV_FILE)\n",
    "sites    = df['site'].to_numpy(dtype=int)\n",
    "labels   = df['value'].to_numpy(dtype=np.float32)\n",
    "num_seq  = sites.size\n",
    "\n",
    "with open(GENOME) as f:\n",
    "    genome = f.read().strip().upper()\n",
    "\n",
    "nuar = np.zeros((num_seq, len(BASE), DIN_LEN), dtype=np.float32)\n",
    "for i, pos in enumerate(tqdm(sites, desc='Encoding')):\n",
    "    seq = genome[pos-1-HALF_WIN : pos+HALF_WIN] \n",
    "    if len(seq) != SEQ_LEN:\n",
    "        raise ValueError(f'Position {pos} length mismatch: {len(seq)}')\n",
    "    for j in range(DIN_LEN):\n",
    "        din = seq[j:j+2]\n",
    "        if din in BASE:\n",
    "            nuar[i, BASE.index(din), j] = 1\n",
    "\n",
    "with h5py.File(H5_OUT, 'w') as h5:\n",
    "    h5.create_dataset('Nuar',  data=nuar,   dtype=np.float32)\n",
    "    h5.create_dataset('label', data=labels, dtype=np.float32)"
   ]
  },
  {
   "cell_type": "code",
   "execution_count": null,
   "id": "d8fad904-b756-4b41-82d9-1b71719c7e1a",
   "metadata": {},
   "outputs": [],
   "source": []
  },
  {
   "cell_type": "code",
   "execution_count": 5,
   "id": "d5e0a6b7-0ccf-4d50-8a14-5a8bb21b0060",
   "metadata": {},
   "outputs": [
    {
     "name": "stderr",
     "output_type": "stream",
     "text": [
      "Encoding: 100%|███████████████████████████████████████████████████████████████| 13784/13784 [00:01<00:00, 11974.81it/s]\n"
     ]
    }
   ],
   "source": [
    "GENOME   = 'SAC1 Genome Deletion of Spaces/CH4n.txt'  \n",
    "CSV_FILE = 'Classified Chromosomes/ch4.csv'          \n",
    "H5_OUT   = 'Nucleosome Digital Matrix/chr4-Digital Matrix.h5'\n",
    "BASE     = ['AA','AC','AG','AT','CA','CC','CG','CT',\n",
    "            'GA','GC','GG','GT','TA','TC','TG','TT']\n",
    "SEQ_LEN  = 147\n",
    "DIN_LEN  = SEQ_LEN - 1\n",
    "HALF_WIN = 73      \n",
    "\n",
    "df       = pd.read_csv(CSV_FILE)\n",
    "sites    = df['site'].to_numpy(dtype=int)\n",
    "labels   = df['value'].to_numpy(dtype=np.float32)\n",
    "num_seq  = sites.size\n",
    "\n",
    "with open(GENOME) as f:\n",
    "    genome = f.read().strip().upper()\n",
    "\n",
    "nuar = np.zeros((num_seq, len(BASE), DIN_LEN), dtype=np.float32)\n",
    "for i, pos in enumerate(tqdm(sites, desc='Encoding')):\n",
    "    seq = genome[pos-1-HALF_WIN : pos+HALF_WIN] \n",
    "    if len(seq) != SEQ_LEN:\n",
    "        raise ValueError(f'Position {pos} length mismatch: {len(seq)}')\n",
    "    for j in range(DIN_LEN):\n",
    "        din = seq[j:j+2]\n",
    "        if din in BASE:\n",
    "            nuar[i, BASE.index(din), j] = 1\n",
    "\n",
    "with h5py.File(H5_OUT, 'w') as h5:\n",
    "    h5.create_dataset('Nuar',  data=nuar,   dtype=np.float32)\n",
    "    h5.create_dataset('label', data=labels, dtype=np.float32)"
   ]
  },
  {
   "cell_type": "code",
   "execution_count": null,
   "id": "acfc1b57-3c1f-4771-bcd3-3cbf7d4329e8",
   "metadata": {},
   "outputs": [],
   "source": []
  },
  {
   "cell_type": "code",
   "execution_count": 6,
   "id": "fb736d7d-b388-470c-8ece-675e920d8dd3",
   "metadata": {},
   "outputs": [
    {
     "name": "stderr",
     "output_type": "stream",
     "text": [
      "Encoding: 100%|█████████████████████████████████████████████████████████████████| 5150/5150 [00:00<00:00, 11746.66it/s]\n"
     ]
    }
   ],
   "source": [
    "GENOME   = 'SAC1 Genome Deletion of Spaces/CH5n.txt'  \n",
    "CSV_FILE = 'Classified Chromosomes/ch5.csv'          \n",
    "H5_OUT   = 'Nucleosome Digital Matrix/chr5-Digital Matrix.h5'\n",
    "BASE     = ['AA','AC','AG','AT','CA','CC','CG','CT',\n",
    "            'GA','GC','GG','GT','TA','TC','TG','TT']\n",
    "SEQ_LEN  = 147\n",
    "DIN_LEN  = SEQ_LEN - 1\n",
    "HALF_WIN = 73      \n",
    "\n",
    "df       = pd.read_csv(CSV_FILE)\n",
    "sites    = df['site'].to_numpy(dtype=int)\n",
    "labels   = df['value'].to_numpy(dtype=np.float32)\n",
    "num_seq  = sites.size\n",
    "\n",
    "with open(GENOME) as f:\n",
    "    genome = f.read().strip().upper()\n",
    "\n",
    "nuar = np.zeros((num_seq, len(BASE), DIN_LEN), dtype=np.float32)\n",
    "for i, pos in enumerate(tqdm(sites, desc='Encoding')):\n",
    "    seq = genome[pos-1-HALF_WIN : pos+HALF_WIN] \n",
    "    if len(seq) != SEQ_LEN:\n",
    "        raise ValueError(f'Position {pos} length mismatch: {len(seq)}')\n",
    "    for j in range(DIN_LEN):\n",
    "        din = seq[j:j+2]\n",
    "        if din in BASE:\n",
    "            nuar[i, BASE.index(din), j] = 1\n",
    "\n",
    "with h5py.File(H5_OUT, 'w') as h5:\n",
    "    h5.create_dataset('Nuar',  data=nuar,   dtype=np.float32)\n",
    "    h5.create_dataset('label', data=labels, dtype=np.float32)"
   ]
  },
  {
   "cell_type": "code",
   "execution_count": null,
   "id": "96cc6c68-d0cc-4371-855d-6014cabfd68c",
   "metadata": {},
   "outputs": [],
   "source": []
  },
  {
   "cell_type": "code",
   "execution_count": 7,
   "id": "b4b02e8a-e02b-4ae5-9f16-18eb5e4e82ba",
   "metadata": {},
   "outputs": [
    {
     "name": "stderr",
     "output_type": "stream",
     "text": [
      "Encoding: 100%|█████████████████████████████████████████████████████████████████| 2364/2364 [00:00<00:00, 12410.16it/s]\n"
     ]
    }
   ],
   "source": [
    "GENOME   = 'SAC1 Genome Deletion of Spaces/CH6n.txt'  \n",
    "CSV_FILE = 'Classified Chromosomes/ch6.csv'          \n",
    "H5_OUT   = 'Nucleosome Digital Matrix/chr6-Digital Matrix.h5'\n",
    "BASE     = ['AA','AC','AG','AT','CA','CC','CG','CT',\n",
    "            'GA','GC','GG','GT','TA','TC','TG','TT']\n",
    "SEQ_LEN  = 147\n",
    "DIN_LEN  = SEQ_LEN - 1\n",
    "HALF_WIN = 73      \n",
    "\n",
    "df       = pd.read_csv(CSV_FILE)\n",
    "sites    = df['site'].to_numpy(dtype=int)\n",
    "labels   = df['value'].to_numpy(dtype=np.float32)\n",
    "num_seq  = sites.size\n",
    "\n",
    "with open(GENOME) as f:\n",
    "    genome = f.read().strip().upper()\n",
    "\n",
    "nuar = np.zeros((num_seq, len(BASE), DIN_LEN), dtype=np.float32)\n",
    "for i, pos in enumerate(tqdm(sites, desc='Encoding')):\n",
    "    seq = genome[pos-1-HALF_WIN : pos+HALF_WIN] \n",
    "    if len(seq) != SEQ_LEN:\n",
    "        raise ValueError(f'Position {pos} length mismatch: {len(seq)}')\n",
    "    for j in range(DIN_LEN):\n",
    "        din = seq[j:j+2]\n",
    "        if din in BASE:\n",
    "            nuar[i, BASE.index(din), j] = 1\n",
    "\n",
    "with h5py.File(H5_OUT, 'w') as h5:\n",
    "    h5.create_dataset('Nuar',  data=nuar,   dtype=np.float32)\n",
    "    h5.create_dataset('label', data=labels, dtype=np.float32)"
   ]
  },
  {
   "cell_type": "code",
   "execution_count": null,
   "id": "68755872-8b30-4845-b36b-570fc21296e6",
   "metadata": {},
   "outputs": [],
   "source": []
  },
  {
   "cell_type": "code",
   "execution_count": 8,
   "id": "35614bac-fcdc-4e89-8246-35907684d18b",
   "metadata": {},
   "outputs": [
    {
     "name": "stderr",
     "output_type": "stream",
     "text": [
      "Encoding: 100%|█████████████████████████████████████████████████████████████████| 9833/9833 [00:00<00:00, 11617.95it/s]\n"
     ]
    }
   ],
   "source": [
    "GENOME   = 'SAC1 Genome Deletion of Spaces/CH7n.txt'  \n",
    "CSV_FILE = 'Classified Chromosomes/ch7.csv'          \n",
    "H5_OUT   = 'Nucleosome Digital Matrix/chr7-Digital Matrix.h5'\n",
    "BASE     = ['AA','AC','AG','AT','CA','CC','CG','CT',\n",
    "            'GA','GC','GG','GT','TA','TC','TG','TT']\n",
    "SEQ_LEN  = 147\n",
    "DIN_LEN  = SEQ_LEN - 1\n",
    "HALF_WIN = 73      \n",
    "\n",
    "df       = pd.read_csv(CSV_FILE)\n",
    "sites    = df['site'].to_numpy(dtype=int)\n",
    "labels   = df['value'].to_numpy(dtype=np.float32)\n",
    "num_seq  = sites.size\n",
    "\n",
    "with open(GENOME) as f:\n",
    "    genome = f.read().strip().upper()\n",
    "\n",
    "nuar = np.zeros((num_seq, len(BASE), DIN_LEN), dtype=np.float32)\n",
    "for i, pos in enumerate(tqdm(sites, desc='Encoding')):\n",
    "    seq = genome[pos-1-HALF_WIN : pos+HALF_WIN] \n",
    "    if len(seq) != SEQ_LEN:\n",
    "        raise ValueError(f'Position {pos} length mismatch: {len(seq)}')\n",
    "    for j in range(DIN_LEN):\n",
    "        din = seq[j:j+2]\n",
    "        if din in BASE:\n",
    "            nuar[i, BASE.index(din), j] = 1\n",
    "\n",
    "with h5py.File(H5_OUT, 'w') as h5:\n",
    "    h5.create_dataset('Nuar',  data=nuar,   dtype=np.float32)\n",
    "    h5.create_dataset('label', data=labels, dtype=np.float32)"
   ]
  },
  {
   "cell_type": "code",
   "execution_count": null,
   "id": "64f296c4-60cf-4843-b90e-6ae2442c37d6",
   "metadata": {},
   "outputs": [],
   "source": []
  },
  {
   "cell_type": "code",
   "execution_count": 9,
   "id": "020e5488-3918-4891-b24e-2f2616110480",
   "metadata": {},
   "outputs": [
    {
     "name": "stderr",
     "output_type": "stream",
     "text": [
      "Encoding: 100%|█████████████████████████████████████████████████████████████████| 4846/4846 [00:00<00:00, 11949.98it/s]\n"
     ]
    }
   ],
   "source": [
    "GENOME   = 'SAC1 Genome Deletion of Spaces/CH8n.txt'  \n",
    "CSV_FILE = 'Classified Chromosomes/ch8.csv'          \n",
    "H5_OUT   = 'Nucleosome Digital Matrix/chr8-Digital Matrix.h5'\n",
    "BASE     = ['AA','AC','AG','AT','CA','CC','CG','CT',\n",
    "            'GA','GC','GG','GT','TA','TC','TG','TT']\n",
    "SEQ_LEN  = 147\n",
    "DIN_LEN  = SEQ_LEN - 1\n",
    "HALF_WIN = 73      \n",
    "\n",
    "df       = pd.read_csv(CSV_FILE)\n",
    "sites    = df['site'].to_numpy(dtype=int)\n",
    "labels   = df['value'].to_numpy(dtype=np.float32)\n",
    "num_seq  = sites.size\n",
    "\n",
    "with open(GENOME) as f:\n",
    "    genome = f.read().strip().upper()\n",
    "\n",
    "nuar = np.zeros((num_seq, len(BASE), DIN_LEN), dtype=np.float32)\n",
    "for i, pos in enumerate(tqdm(sites, desc='Encoding')):\n",
    "    seq = genome[pos-1-HALF_WIN : pos+HALF_WIN] \n",
    "    if len(seq) != SEQ_LEN:\n",
    "        raise ValueError(f'Position {pos} length mismatch: {len(seq)}')\n",
    "    for j in range(DIN_LEN):\n",
    "        din = seq[j:j+2]\n",
    "        if din in BASE:\n",
    "            nuar[i, BASE.index(din), j] = 1\n",
    "\n",
    "with h5py.File(H5_OUT, 'w') as h5:\n",
    "    h5.create_dataset('Nuar',  data=nuar,   dtype=np.float32)\n",
    "    h5.create_dataset('label', data=labels, dtype=np.float32)"
   ]
  },
  {
   "cell_type": "code",
   "execution_count": null,
   "id": "dcf714c3-6260-49ca-b261-50daeeedbc54",
   "metadata": {},
   "outputs": [],
   "source": []
  },
  {
   "cell_type": "code",
   "execution_count": 10,
   "id": "ea562c3d-b077-49c7-a6d2-793c0cea0d08",
   "metadata": {},
   "outputs": [
    {
     "name": "stderr",
     "output_type": "stream",
     "text": [
      "Encoding: 100%|█████████████████████████████████████████████████████████████████| 3824/3824 [00:00<00:00, 12225.63it/s]\n"
     ]
    }
   ],
   "source": [
    "GENOME   = 'SAC1 Genome Deletion of Spaces/CH9n.txt'  \n",
    "CSV_FILE = 'Classified Chromosomes/ch9.csv'          \n",
    "H5_OUT   = 'Nucleosome Digital Matrix/chr9-Digital Matrix.h5'\n",
    "BASE     = ['AA','AC','AG','AT','CA','CC','CG','CT',\n",
    "            'GA','GC','GG','GT','TA','TC','TG','TT']\n",
    "SEQ_LEN  = 147\n",
    "DIN_LEN  = SEQ_LEN - 1\n",
    "HALF_WIN = 73      \n",
    "\n",
    "df       = pd.read_csv(CSV_FILE)\n",
    "sites    = df['site'].to_numpy(dtype=int)\n",
    "labels   = df['value'].to_numpy(dtype=np.float32)\n",
    "num_seq  = sites.size\n",
    "\n",
    "with open(GENOME) as f:\n",
    "    genome = f.read().strip().upper()\n",
    "\n",
    "nuar = np.zeros((num_seq, len(BASE), DIN_LEN), dtype=np.float32)\n",
    "for i, pos in enumerate(tqdm(sites, desc='Encoding')):\n",
    "    seq = genome[pos-1-HALF_WIN : pos+HALF_WIN] \n",
    "    if len(seq) != SEQ_LEN:\n",
    "        raise ValueError(f'Position {pos} length mismatch: {len(seq)}')\n",
    "    for j in range(DIN_LEN):\n",
    "        din = seq[j:j+2]\n",
    "        if din in BASE:\n",
    "            nuar[i, BASE.index(din), j] = 1\n",
    "\n",
    "with h5py.File(H5_OUT, 'w') as h5:\n",
    "    h5.create_dataset('Nuar',  data=nuar,   dtype=np.float32)\n",
    "    h5.create_dataset('label', data=labels, dtype=np.float32)"
   ]
  },
  {
   "cell_type": "code",
   "execution_count": null,
   "id": "8f73b9fe-c023-4532-a48e-f2b5eb0beb11",
   "metadata": {},
   "outputs": [],
   "source": []
  },
  {
   "cell_type": "code",
   "execution_count": 11,
   "id": "5f0743ec-fcfe-49c1-acae-78edbfde81ee",
   "metadata": {},
   "outputs": [
    {
     "name": "stderr",
     "output_type": "stream",
     "text": [
      "Encoding: 100%|█████████████████████████████████████████████████████████████████| 6595/6595 [00:00<00:00, 11730.64it/s]\n"
     ]
    }
   ],
   "source": [
    "GENOME   = 'SAC1 Genome Deletion of Spaces/CH10n.txt'  \n",
    "CSV_FILE = 'Classified Chromosomes/ch10.csv'          \n",
    "H5_OUT   = 'Nucleosome Digital Matrix/chr10-Digital Matrix.h5'\n",
    "BASE     = ['AA','AC','AG','AT','CA','CC','CG','CT',\n",
    "            'GA','GC','GG','GT','TA','TC','TG','TT']\n",
    "SEQ_LEN  = 147\n",
    "DIN_LEN  = SEQ_LEN - 1\n",
    "HALF_WIN = 73      \n",
    "\n",
    "df       = pd.read_csv(CSV_FILE)\n",
    "sites    = df['site'].to_numpy(dtype=int)\n",
    "labels   = df['value'].to_numpy(dtype=np.float32)\n",
    "num_seq  = sites.size\n",
    "\n",
    "with open(GENOME) as f:\n",
    "    genome = f.read().strip().upper()\n",
    "\n",
    "nuar = np.zeros((num_seq, len(BASE), DIN_LEN), dtype=np.float32)\n",
    "for i, pos in enumerate(tqdm(sites, desc='Encoding')):\n",
    "    seq = genome[pos-1-HALF_WIN : pos+HALF_WIN] \n",
    "    if len(seq) != SEQ_LEN:\n",
    "        raise ValueError(f'Position {pos} length mismatch: {len(seq)}')\n",
    "    for j in range(DIN_LEN):\n",
    "        din = seq[j:j+2]\n",
    "        if din in BASE:\n",
    "            nuar[i, BASE.index(din), j] = 1\n",
    "\n",
    "with h5py.File(H5_OUT, 'w') as h5:\n",
    "    h5.create_dataset('Nuar',  data=nuar,   dtype=np.float32)\n",
    "    h5.create_dataset('label', data=labels, dtype=np.float32)"
   ]
  },
  {
   "cell_type": "code",
   "execution_count": null,
   "id": "cee9eff2-8d9a-4302-91ac-8433c84fcda9",
   "metadata": {},
   "outputs": [],
   "source": []
  },
  {
   "cell_type": "code",
   "execution_count": 12,
   "id": "cec69310-5943-4020-b268-2927a8a71f7f",
   "metadata": {},
   "outputs": [
    {
     "name": "stderr",
     "output_type": "stream",
     "text": [
      "Encoding: 100%|█████████████████████████████████████████████████████████████████| 6326/6326 [00:00<00:00, 12129.73it/s]\n"
     ]
    }
   ],
   "source": [
    "GENOME   = 'SAC1 Genome Deletion of Spaces/CH11n.txt'  \n",
    "CSV_FILE = 'Classified Chromosomes/ch11.csv'          \n",
    "H5_OUT   = 'Nucleosome Digital Matrix/chr11-Digital Matrix.h5'\n",
    "BASE     = ['AA','AC','AG','AT','CA','CC','CG','CT',\n",
    "            'GA','GC','GG','GT','TA','TC','TG','TT']\n",
    "SEQ_LEN  = 147\n",
    "DIN_LEN  = SEQ_LEN - 1\n",
    "HALF_WIN = 73      \n",
    "\n",
    "df       = pd.read_csv(CSV_FILE)\n",
    "sites    = df['site'].to_numpy(dtype=int)\n",
    "labels   = df['value'].to_numpy(dtype=np.float32)\n",
    "num_seq  = sites.size\n",
    "\n",
    "with open(GENOME) as f:\n",
    "    genome = f.read().strip().upper()\n",
    "\n",
    "nuar = np.zeros((num_seq, len(BASE), DIN_LEN), dtype=np.float32)\n",
    "for i, pos in enumerate(tqdm(sites, desc='Encoding')):\n",
    "    seq = genome[pos-1-HALF_WIN : pos+HALF_WIN] \n",
    "    if len(seq) != SEQ_LEN:\n",
    "        raise ValueError(f'Position {pos} length mismatch: {len(seq)}')\n",
    "    for j in range(DIN_LEN):\n",
    "        din = seq[j:j+2]\n",
    "        if din in BASE:\n",
    "            nuar[i, BASE.index(din), j] = 1\n",
    "\n",
    "with h5py.File(H5_OUT, 'w') as h5:\n",
    "    h5.create_dataset('Nuar',  data=nuar,   dtype=np.float32)\n",
    "    h5.create_dataset('label', data=labels, dtype=np.float32)"
   ]
  },
  {
   "cell_type": "code",
   "execution_count": null,
   "id": "24cb982b-cde5-4897-b298-6626579d0fae",
   "metadata": {},
   "outputs": [],
   "source": []
  },
  {
   "cell_type": "code",
   "execution_count": 13,
   "id": "20de1df2-e6dd-453d-a6ad-ac395cf17771",
   "metadata": {},
   "outputs": [
    {
     "name": "stderr",
     "output_type": "stream",
     "text": [
      "Encoding: 100%|█████████████████████████████████████████████████████████████████| 9319/9319 [00:00<00:00, 12270.50it/s]\n"
     ]
    }
   ],
   "source": [
    "GENOME   = 'SAC1 Genome Deletion of Spaces/CH12n.txt'  \n",
    "CSV_FILE = 'Classified Chromosomes/ch12.csv'          \n",
    "H5_OUT   = 'Nucleosome Digital Matrix/chr12-Digital Matrix.h5'\n",
    "BASE     = ['AA','AC','AG','AT','CA','CC','CG','CT',\n",
    "            'GA','GC','GG','GT','TA','TC','TG','TT']\n",
    "SEQ_LEN  = 147\n",
    "DIN_LEN  = SEQ_LEN - 1\n",
    "HALF_WIN = 73      \n",
    "\n",
    "df       = pd.read_csv(CSV_FILE)\n",
    "sites    = df['site'].to_numpy(dtype=int)\n",
    "labels   = df['value'].to_numpy(dtype=np.float32)\n",
    "num_seq  = sites.size\n",
    "\n",
    "with open(GENOME) as f:\n",
    "    genome = f.read().strip().upper()\n",
    "\n",
    "nuar = np.zeros((num_seq, len(BASE), DIN_LEN), dtype=np.float32)\n",
    "for i, pos in enumerate(tqdm(sites, desc='Encoding')):\n",
    "    seq = genome[pos-1-HALF_WIN : pos+HALF_WIN] \n",
    "    if len(seq) != SEQ_LEN:\n",
    "        raise ValueError(f'Position {pos} length mismatch: {len(seq)}')\n",
    "    for j in range(DIN_LEN):\n",
    "        din = seq[j:j+2]\n",
    "        if din in BASE:\n",
    "            nuar[i, BASE.index(din), j] = 1\n",
    "\n",
    "with h5py.File(H5_OUT, 'w') as h5:\n",
    "    h5.create_dataset('Nuar',  data=nuar,   dtype=np.float32)\n",
    "    h5.create_dataset('label', data=labels, dtype=np.float32)"
   ]
  },
  {
   "cell_type": "code",
   "execution_count": null,
   "id": "946e0bf9-6364-4116-8e8a-65dd3b31285f",
   "metadata": {},
   "outputs": [],
   "source": []
  },
  {
   "cell_type": "code",
   "execution_count": 14,
   "id": "5b2c9c48-ccf8-4084-bca4-4753c8797dcd",
   "metadata": {},
   "outputs": [
    {
     "name": "stderr",
     "output_type": "stream",
     "text": [
      "Encoding: 100%|█████████████████████████████████████████████████████████████████| 8482/8482 [00:00<00:00, 11782.45it/s]\n"
     ]
    }
   ],
   "source": [
    "GENOME   = 'SAC1 Genome Deletion of Spaces/CH13n.txt'  \n",
    "CSV_FILE = 'Classified Chromosomes/ch13.csv'          \n",
    "H5_OUT   = 'Nucleosome Digital Matrix/chr13-Digital Matrix.h5'\n",
    "BASE     = ['AA','AC','AG','AT','CA','CC','CG','CT',\n",
    "            'GA','GC','GG','GT','TA','TC','TG','TT']\n",
    "SEQ_LEN  = 147\n",
    "DIN_LEN  = SEQ_LEN - 1\n",
    "HALF_WIN = 73      \n",
    "\n",
    "df       = pd.read_csv(CSV_FILE)\n",
    "sites    = df['site'].to_numpy(dtype=int)\n",
    "labels   = df['value'].to_numpy(dtype=np.float32)\n",
    "num_seq  = sites.size\n",
    "\n",
    "with open(GENOME) as f:\n",
    "    genome = f.read().strip().upper()\n",
    "\n",
    "nuar = np.zeros((num_seq, len(BASE), DIN_LEN), dtype=np.float32)\n",
    "for i, pos in enumerate(tqdm(sites, desc='Encoding')):\n",
    "    seq = genome[pos-1-HALF_WIN : pos+HALF_WIN] \n",
    "    if len(seq) != SEQ_LEN:\n",
    "        raise ValueError(f'Position {pos} length mismatch: {len(seq)}')\n",
    "    for j in range(DIN_LEN):\n",
    "        din = seq[j:j+2]\n",
    "        if din in BASE:\n",
    "            nuar[i, BASE.index(din), j] = 1\n",
    "\n",
    "with h5py.File(H5_OUT, 'w') as h5:\n",
    "    h5.create_dataset('Nuar',  data=nuar,   dtype=np.float32)\n",
    "    h5.create_dataset('label', data=labels, dtype=np.float32)"
   ]
  },
  {
   "cell_type": "code",
   "execution_count": null,
   "id": "3e566bb3-2c74-4206-a8db-4ec7431072e9",
   "metadata": {},
   "outputs": [],
   "source": []
  },
  {
   "cell_type": "code",
   "execution_count": 15,
   "id": "62197ce2-a434-4936-849a-95be2fa58afd",
   "metadata": {},
   "outputs": [
    {
     "name": "stderr",
     "output_type": "stream",
     "text": [
      "Encoding: 100%|█████████████████████████████████████████████████████████████████| 7064/7064 [00:00<00:00, 12042.29it/s]\n"
     ]
    }
   ],
   "source": [
    "GENOME   = 'SAC1 Genome Deletion of Spaces/CH14n.txt'  \n",
    "CSV_FILE = 'Classified Chromosomes/ch14.csv'          \n",
    "H5_OUT   = 'Nucleosome Digital Matrix/chr14-Digital Matrix.h5'\n",
    "BASE     = ['AA','AC','AG','AT','CA','CC','CG','CT',\n",
    "            'GA','GC','GG','GT','TA','TC','TG','TT']\n",
    "SEQ_LEN  = 147\n",
    "DIN_LEN  = SEQ_LEN - 1\n",
    "HALF_WIN = 73      \n",
    "\n",
    "df       = pd.read_csv(CSV_FILE)\n",
    "sites    = df['site'].to_numpy(dtype=int)\n",
    "labels   = df['value'].to_numpy(dtype=np.float32)\n",
    "num_seq  = sites.size\n",
    "\n",
    "with open(GENOME) as f:\n",
    "    genome = f.read().strip().upper()\n",
    "\n",
    "nuar = np.zeros((num_seq, len(BASE), DIN_LEN), dtype=np.float32)\n",
    "for i, pos in enumerate(tqdm(sites, desc='Encoding')):\n",
    "    seq = genome[pos-1-HALF_WIN : pos+HALF_WIN] \n",
    "    if len(seq) != SEQ_LEN:\n",
    "        raise ValueError(f'Position {pos} length mismatch: {len(seq)}')\n",
    "    for j in range(DIN_LEN):\n",
    "        din = seq[j:j+2]\n",
    "        if din in BASE:\n",
    "            nuar[i, BASE.index(din), j] = 1\n",
    "\n",
    "with h5py.File(H5_OUT, 'w') as h5:\n",
    "    h5.create_dataset('Nuar',  data=nuar,   dtype=np.float32)\n",
    "    h5.create_dataset('label', data=labels, dtype=np.float32)"
   ]
  },
  {
   "cell_type": "code",
   "execution_count": null,
   "id": "3f2a6aaf-3233-4b94-918c-69b3362ab760",
   "metadata": {},
   "outputs": [],
   "source": []
  },
  {
   "cell_type": "code",
   "execution_count": 16,
   "id": "e7f8170b-d5ac-4268-8471-f3637c1a161e",
   "metadata": {},
   "outputs": [
    {
     "name": "stderr",
     "output_type": "stream",
     "text": [
      "Encoding: 100%|█████████████████████████████████████████████████████████████████| 9974/9974 [00:00<00:00, 12186.83it/s]\n"
     ]
    }
   ],
   "source": [
    "GENOME   = 'SAC1 Genome Deletion of Spaces/CH15n.txt'  \n",
    "CSV_FILE = 'Classified Chromosomes/ch15.csv'          \n",
    "H5_OUT   = 'Nucleosome Digital Matrix/chr15-Digital Matrix.h5'\n",
    "BASE     = ['AA','AC','AG','AT','CA','CC','CG','CT',\n",
    "            'GA','GC','GG','GT','TA','TC','TG','TT']\n",
    "SEQ_LEN  = 147\n",
    "DIN_LEN  = SEQ_LEN - 1\n",
    "HALF_WIN = 73      \n",
    "\n",
    "df       = pd.read_csv(CSV_FILE)\n",
    "sites    = df['site'].to_numpy(dtype=int)\n",
    "labels   = df['value'].to_numpy(dtype=np.float32)\n",
    "num_seq  = sites.size\n",
    "\n",
    "with open(GENOME) as f:\n",
    "    genome = f.read().strip().upper()\n",
    "\n",
    "nuar = np.zeros((num_seq, len(BASE), DIN_LEN), dtype=np.float32)\n",
    "for i, pos in enumerate(tqdm(sites, desc='Encoding')):\n",
    "    seq = genome[pos-1-HALF_WIN : pos+HALF_WIN] \n",
    "    if len(seq) != SEQ_LEN:\n",
    "        raise ValueError(f'Position {pos} length mismatch: {len(seq)}')\n",
    "    for j in range(DIN_LEN):\n",
    "        din = seq[j:j+2]\n",
    "        if din in BASE:\n",
    "            nuar[i, BASE.index(din), j] = 1\n",
    "\n",
    "with h5py.File(H5_OUT, 'w') as h5:\n",
    "    h5.create_dataset('Nuar',  data=nuar,   dtype=np.float32)\n",
    "    h5.create_dataset('label', data=labels, dtype=np.float32)"
   ]
  },
  {
   "cell_type": "code",
   "execution_count": null,
   "id": "de8bbb7a-a326-4718-8bec-717beff763c6",
   "metadata": {},
   "outputs": [],
   "source": []
  },
  {
   "cell_type": "code",
   "execution_count": 17,
   "id": "34eeedcb-ee6c-4e9c-8c3b-ce6750136764",
   "metadata": {},
   "outputs": [
    {
     "name": "stderr",
     "output_type": "stream",
     "text": [
      "Encoding: 100%|█████████████████████████████████████████████████████████████████| 8569/8569 [00:00<00:00, 12216.54it/s]\n"
     ]
    }
   ],
   "source": [
    "GENOME   = 'SAC1 Genome Deletion of Spaces/CH16n.txt'  \n",
    "CSV_FILE = 'Classified Chromosomes/ch16.csv'          \n",
    "H5_OUT   = 'Nucleosome Digital Matrix/chr16-Digital Matrix.h5'\n",
    "BASE     = ['AA','AC','AG','AT','CA','CC','CG','CT',\n",
    "            'GA','GC','GG','GT','TA','TC','TG','TT']\n",
    "SEQ_LEN  = 147\n",
    "DIN_LEN  = SEQ_LEN - 1\n",
    "HALF_WIN = 73      \n",
    "\n",
    "df       = pd.read_csv(CSV_FILE)\n",
    "sites    = df['site'].to_numpy(dtype=int)\n",
    "labels   = df['value'].to_numpy(dtype=np.float32)\n",
    "num_seq  = sites.size\n",
    "\n",
    "with open(GENOME) as f:\n",
    "    genome = f.read().strip().upper()\n",
    "\n",
    "nuar = np.zeros((num_seq, len(BASE), DIN_LEN), dtype=np.float32)\n",
    "for i, pos in enumerate(tqdm(sites, desc='Encoding')):\n",
    "    seq = genome[pos-1-HALF_WIN : pos+HALF_WIN] \n",
    "    if len(seq) != SEQ_LEN:\n",
    "        raise ValueError(f'Position {pos} length mismatch: {len(seq)}')\n",
    "    for j in range(DIN_LEN):\n",
    "        din = seq[j:j+2]\n",
    "        if din in BASE:\n",
    "            nuar[i, BASE.index(din), j] = 1\n",
    "\n",
    "with h5py.File(H5_OUT, 'w') as h5:\n",
    "    h5.create_dataset('Nuar',  data=nuar,   dtype=np.float32)\n",
    "    h5.create_dataset('label', data=labels, dtype=np.float32)"
   ]
  },
  {
   "cell_type": "code",
   "execution_count": null,
   "id": "4e481cb2-220b-4a4d-acb2-aa8c89d5b283",
   "metadata": {},
   "outputs": [],
   "source": []
  }
 ],
 "metadata": {
  "kernelspec": {
   "display_name": "Python 3 (ipykernel)",
   "language": "python",
   "name": "python3"
  },
  "language_info": {
   "codemirror_mode": {
    "name": "ipython",
    "version": 3
   },
   "file_extension": ".py",
   "mimetype": "text/x-python",
   "name": "python",
   "nbconvert_exporter": "python",
   "pygments_lexer": "ipython3",
   "version": "3.12.4"
  }
 },
 "nbformat": 4,
 "nbformat_minor": 5
}
