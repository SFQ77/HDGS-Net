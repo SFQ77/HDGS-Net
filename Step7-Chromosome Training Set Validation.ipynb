{
 "cells": [
  {
   "cell_type": "code",
   "execution_count": null,
   "id": "cfbfcad7-f341-48db-b308-89ac7a57bb8e",
   "metadata": {},
   "outputs": [],
   "source": [
    "Put the training data of each chromosome into the model for validation."
   ]
  },
  {
   "cell_type": "code",
   "execution_count": 1,
   "id": "669b847e-8119-428e-997c-69fc539b5e21",
   "metadata": {},
   "outputs": [],
   "source": [
    "import numpy as np\n",
    "import time\n",
    "from tqdm.std import tqdm\n",
    "from tensorflow import keras"
   ]
  },
  {
   "cell_type": "code",
   "execution_count": null,
   "id": "388948b4-1565-4639-b80b-d3cac515022a",
   "metadata": {},
   "outputs": [],
   "source": []
  },
  {
   "cell_type": "code",
   "execution_count": 2,
   "id": "19a63eb0-0b1b-4194-8b1e-91c2503652bc",
   "metadata": {},
   "outputs": [
    {
     "name": "stderr",
     "output_type": "stream",
     "text": [
      "Predicting: 100%|██████████████████████████████████████████████████████████████████████| 66/66 [00:06<00:00, 10.45it/s]\n"
     ]
    }
   ],
   "source": [
    "with open('SAC1 Genome Deletion of Spaces/CH1n.txt', 'r') as f:\n",
    "    strn = f.read()\n",
    "data = np.loadtxt(\"Training Sites and Occupancy/ch1_training.csv\",delimiter=\",\", skiprows=1, usecols=[0, 1])\n",
    "base = ['AA', 'AC', 'AG', 'AT', 'CA', 'CC', 'CG', 'CT', 'GA', 'GC', 'GG', 'GT', 'TA', 'TC', 'TG', 'TT']\n",
    "model1 = keras.models.load_model('Convolutional Neural Network Model/Regression Model (no10).keras')\n",
    "levelp = np.zeros(data.shape[0])\n",
    "for i in tqdm(range(data.shape[0]), desc=\"Predicting\", position=0, leave=True):\n",
    "    Nuar = np.zeros((1, 16, 146, 1))\n",
    "    s = int(data[i, 0])\n",
    "    strs = strn[s-74:s+73]\n",
    "    for n, dinu in enumerate(base):\n",
    "        for m in range(len(strs) - 1):\n",
    "            if strs[m] + strs[m+1] == dinu:\n",
    "                Nuar[0, n, m, 0] = 1\n",
    "    levelp[i] = model1.predict(Nuar, verbose=0)[0, 0]\n",
    "np.savetxt(\"Chromosome Prediction Results (Training)/ch1_levelp(t).txt\",levelp, fmt='%.6f', delimiter=',')"
   ]
  },
  {
   "cell_type": "code",
   "execution_count": null,
   "id": "cb6284be-db1f-445e-9967-c1245e365dd1",
   "metadata": {},
   "outputs": [],
   "source": []
  },
  {
   "cell_type": "code",
   "execution_count": 3,
   "id": "6b5ca60f-3e22-4ddd-aa0a-74e88add36e6",
   "metadata": {},
   "outputs": [
    {
     "name": "stderr",
     "output_type": "stream",
     "text": [
      "Predicting: 100%|████████████████████████████████████████████████████████████████████| 289/289 [00:26<00:00, 11.03it/s]\n"
     ]
    }
   ],
   "source": [
    "with open('SAC1 Genome Deletion of Spaces/CH2n.txt', 'r') as f:\n",
    "    strn = f.read()\n",
    "data = np.loadtxt(\"Training Sites and Occupancy/ch2_training.csv\",delimiter=\",\", skiprows=1, usecols=[0, 1])\n",
    "base = ['AA', 'AC', 'AG', 'AT', 'CA', 'CC', 'CG', 'CT', 'GA', 'GC', 'GG', 'GT', 'TA', 'TC', 'TG', 'TT']\n",
    "model1 = keras.models.load_model('Convolutional Neural Network Model/Regression Model (no10).keras')\n",
    "levelp = np.zeros(data.shape[0])\n",
    "for i in tqdm(range(data.shape[0]), desc=\"Predicting\", position=0, leave=True):\n",
    "    Nuar = np.zeros((1, 16, 146, 1))\n",
    "    s = int(data[i, 0])\n",
    "    strs = strn[s-74:s+73]\n",
    "    for n, dinu in enumerate(base):\n",
    "        for m in range(len(strs) - 1):\n",
    "            if strs[m] + strs[m+1] == dinu:\n",
    "                Nuar[0, n, m, 0] = 1\n",
    "    levelp[i] = model1.predict(Nuar, verbose=0)[0, 0]\n",
    "np.savetxt(\"Chromosome Prediction Results (Training)/ch2_levelp(t).txt\",levelp, fmt='%.6f', delimiter=',')"
   ]
  },
  {
   "cell_type": "code",
   "execution_count": null,
   "id": "3932de20-5bfe-4b05-9adc-c16cb9b33f5f",
   "metadata": {},
   "outputs": [],
   "source": []
  },
  {
   "cell_type": "code",
   "execution_count": 4,
   "id": "15d04509-c725-497f-983e-2dff3950eb0e",
   "metadata": {},
   "outputs": [
    {
     "name": "stderr",
     "output_type": "stream",
     "text": [
      "Predicting: 100%|██████████████████████████████████████████████████████████████████████| 91/91 [00:09<00:00,  9.32it/s]\n"
     ]
    }
   ],
   "source": [
    "with open('SAC1 Genome Deletion of Spaces/CH3n.txt', 'r') as f:\n",
    "    strn = f.read()\n",
    "data = np.loadtxt(\"Training Sites and Occupancy/ch3_training.csv\",delimiter=\",\", skiprows=1, usecols=[0, 1])\n",
    "base = ['AA', 'AC', 'AG', 'AT', 'CA', 'CC', 'CG', 'CT', 'GA', 'GC', 'GG', 'GT', 'TA', 'TC', 'TG', 'TT']\n",
    "model1 = keras.models.load_model('Convolutional Neural Network Model/Regression Model (no10).keras')\n",
    "levelp = np.zeros(data.shape[0])\n",
    "for i in tqdm(range(data.shape[0]), desc=\"Predicting\", position=0, leave=True):\n",
    "    Nuar = np.zeros((1, 16, 146, 1))\n",
    "    s = int(data[i, 0])\n",
    "    strs = strn[s-74:s+73]\n",
    "    for n, dinu in enumerate(base):\n",
    "        for m in range(len(strs) - 1):\n",
    "            if strs[m] + strs[m+1] == dinu:\n",
    "                Nuar[0, n, m, 0] = 1\n",
    "    levelp[i] = model1.predict(Nuar, verbose=0)[0, 0]\n",
    "np.savetxt(\"Chromosome Prediction Results (Training)/ch3_levelp(t).txt\",levelp, fmt='%.6f', delimiter=',')"
   ]
  },
  {
   "cell_type": "code",
   "execution_count": null,
   "id": "21265c0d-1e26-44f8-a713-89656771f508",
   "metadata": {},
   "outputs": [],
   "source": []
  },
  {
   "cell_type": "code",
   "execution_count": 5,
   "id": "a96a8e60-269c-474d-9968-198dbf42103d",
   "metadata": {},
   "outputs": [
    {
     "name": "stderr",
     "output_type": "stream",
     "text": [
      "Predicting: 100%|████████████████████████████████████████████████████████████████████| 535/535 [00:57<00:00,  9.30it/s]\n"
     ]
    }
   ],
   "source": [
    "with open('SAC1 Genome Deletion of Spaces/CH4n.txt', 'r') as f:\n",
    "    strn = f.read()\n",
    "data = np.loadtxt(\"Training Sites and Occupancy/ch4_training.csv\",delimiter=\",\", skiprows=1, usecols=[0, 1])\n",
    "base = ['AA', 'AC', 'AG', 'AT', 'CA', 'CC', 'CG', 'CT', 'GA', 'GC', 'GG', 'GT', 'TA', 'TC', 'TG', 'TT']\n",
    "model1 = keras.models.load_model('Convolutional Neural Network Model/Regression Model (no10).keras')\n",
    "levelp = np.zeros(data.shape[0])\n",
    "for i in tqdm(range(data.shape[0]), desc=\"Predicting\", position=0, leave=True):\n",
    "    Nuar = np.zeros((1, 16, 146, 1))\n",
    "    s = int(data[i, 0])\n",
    "    strs = strn[s-74:s+73]\n",
    "    for n, dinu in enumerate(base):\n",
    "        for m in range(len(strs) - 1):\n",
    "            if strs[m] + strs[m+1] == dinu:\n",
    "                Nuar[0, n, m, 0] = 1\n",
    "    levelp[i] = model1.predict(Nuar, verbose=0)[0, 0]\n",
    "np.savetxt(\"Chromosome Prediction Results (Training)/ch4_levelp(t).txt\",levelp, fmt='%.6f', delimiter=',')"
   ]
  },
  {
   "cell_type": "code",
   "execution_count": null,
   "id": "adde300a-838c-49f3-af23-f376b6460f4c",
   "metadata": {},
   "outputs": [],
   "source": []
  },
  {
   "cell_type": "code",
   "execution_count": 6,
   "id": "6aa64f09-7564-4af9-98db-133afa321713",
   "metadata": {},
   "outputs": [
    {
     "name": "stderr",
     "output_type": "stream",
     "text": [
      "Predicting: 100%|████████████████████████████████████████████████████████████████████| 195/195 [00:18<00:00, 10.31it/s]\n"
     ]
    }
   ],
   "source": [
    "with open('SAC1 Genome Deletion of Spaces/CH5n.txt', 'r') as f:\n",
    "    strn = f.read()\n",
    "data = np.loadtxt(\"Training Sites and Occupancy/ch5_training.csv\",delimiter=\",\", skiprows=1, usecols=[0, 1])\n",
    "base = ['AA', 'AC', 'AG', 'AT', 'CA', 'CC', 'CG', 'CT', 'GA', 'GC', 'GG', 'GT', 'TA', 'TC', 'TG', 'TT']\n",
    "model1 = keras.models.load_model('Convolutional Neural Network Model/Regression Model (no10).keras')\n",
    "levelp = np.zeros(data.shape[0])\n",
    "for i in tqdm(range(data.shape[0]), desc=\"Predicting\", position=0, leave=True):\n",
    "    Nuar = np.zeros((1, 16, 146, 1))\n",
    "    s = int(data[i, 0])\n",
    "    strs = strn[s-74:s+73]\n",
    "    for n, dinu in enumerate(base):\n",
    "        for m in range(len(strs) - 1):\n",
    "            if strs[m] + strs[m+1] == dinu:\n",
    "                Nuar[0, n, m, 0] = 1\n",
    "    levelp[i] = model1.predict(Nuar, verbose=0)[0, 0]\n",
    "np.savetxt(\"Chromosome Prediction Results (Training)/ch5_levelp(t).txt\",levelp, fmt='%.6f', delimiter=',')"
   ]
  },
  {
   "cell_type": "code",
   "execution_count": null,
   "id": "c068e0df-3748-44d8-831a-2cdbf63cd65e",
   "metadata": {},
   "outputs": [],
   "source": []
  },
  {
   "cell_type": "code",
   "execution_count": 7,
   "id": "1de84f1b-51de-4030-8cbb-08553ce6514a",
   "metadata": {},
   "outputs": [
    {
     "name": "stderr",
     "output_type": "stream",
     "text": [
      "Predicting: 100%|██████████████████████████████████████████████████████████████████████| 87/87 [00:08<00:00, 10.04it/s]\n"
     ]
    }
   ],
   "source": [
    "with open('SAC1 Genome Deletion of Spaces/CH6n.txt', 'r') as f:\n",
    "    strn = f.read()\n",
    "data = np.loadtxt(\"Training Sites and Occupancy/ch6_training.csv\",delimiter=\",\", skiprows=1, usecols=[0, 1])\n",
    "base = ['AA', 'AC', 'AG', 'AT', 'CA', 'CC', 'CG', 'CT', 'GA', 'GC', 'GG', 'GT', 'TA', 'TC', 'TG', 'TT']\n",
    "model1 = keras.models.load_model('Convolutional Neural Network Model/Regression Model (no10).keras')\n",
    "levelp = np.zeros(data.shape[0])\n",
    "for i in tqdm(range(data.shape[0]), desc=\"Predicting\", position=0, leave=True):\n",
    "    Nuar = np.zeros((1, 16, 146, 1))\n",
    "    s = int(data[i, 0])\n",
    "    strs = strn[s-74:s+73]\n",
    "    for n, dinu in enumerate(base):\n",
    "        for m in range(len(strs) - 1):\n",
    "            if strs[m] + strs[m+1] == dinu:\n",
    "                Nuar[0, n, m, 0] = 1\n",
    "    levelp[i] = model1.predict(Nuar, verbose=0)[0, 0]\n",
    "np.savetxt(\"Chromosome Prediction Results (Training)/ch6_levelp(t).txt\",levelp, fmt='%.6f', delimiter=',')"
   ]
  },
  {
   "cell_type": "code",
   "execution_count": null,
   "id": "d826ce1e-5357-438a-9ee3-ea0eebfa4d05",
   "metadata": {},
   "outputs": [],
   "source": []
  },
  {
   "cell_type": "code",
   "execution_count": 8,
   "id": "7c8acfcb-72e6-48dc-8a89-d462c660595b",
   "metadata": {},
   "outputs": [
    {
     "name": "stderr",
     "output_type": "stream",
     "text": [
      "Predicting: 100%|████████████████████████████████████████████████████████████████████| 382/382 [00:40<00:00,  9.51it/s]\n"
     ]
    }
   ],
   "source": [
    "with open('SAC1 Genome Deletion of Spaces/CH7n.txt', 'r') as f:\n",
    "    strn = f.read()\n",
    "data = np.loadtxt(\"Training Sites and Occupancy/ch7_training.csv\",delimiter=\",\", skiprows=1, usecols=[0, 1])\n",
    "base = ['AA', 'AC', 'AG', 'AT', 'CA', 'CC', 'CG', 'CT', 'GA', 'GC', 'GG', 'GT', 'TA', 'TC', 'TG', 'TT']\n",
    "model1 = keras.models.load_model('Convolutional Neural Network Model/Regression Model (no10).keras')\n",
    "levelp = np.zeros(data.shape[0])\n",
    "for i in tqdm(range(data.shape[0]), desc=\"Predicting\", position=0, leave=True):\n",
    "    Nuar = np.zeros((1, 16, 146, 1))\n",
    "    s = int(data[i, 0])\n",
    "    strs = strn[s-74:s+73]\n",
    "    for n, dinu in enumerate(base):\n",
    "        for m in range(len(strs) - 1):\n",
    "            if strs[m] + strs[m+1] == dinu:\n",
    "                Nuar[0, n, m, 0] = 1\n",
    "    levelp[i] = model1.predict(Nuar, verbose=0)[0, 0]\n",
    "np.savetxt(\"Chromosome Prediction Results (Training)/ch7_levelp(t).txt\",levelp, fmt='%.6f', delimiter=',')"
   ]
  },
  {
   "cell_type": "code",
   "execution_count": null,
   "id": "f0fa1435-336e-4ea8-a5fb-a06c1d4198f8",
   "metadata": {},
   "outputs": [],
   "source": []
  },
  {
   "cell_type": "code",
   "execution_count": 9,
   "id": "35dd003c-70cb-444f-b666-2402d5ab4a66",
   "metadata": {},
   "outputs": [
    {
     "name": "stderr",
     "output_type": "stream",
     "text": [
      "Predicting: 100%|████████████████████████████████████████████████████████████████████| 188/188 [00:17<00:00, 10.75it/s]\n"
     ]
    }
   ],
   "source": [
    "with open('SAC1 Genome Deletion of Spaces/CH8n.txt', 'r') as f:\n",
    "    strn = f.read()\n",
    "data = np.loadtxt(\"Training Sites and Occupancy/ch8_training.csv\",delimiter=\",\", skiprows=1, usecols=[0, 1])\n",
    "base = ['AA', 'AC', 'AG', 'AT', 'CA', 'CC', 'CG', 'CT', 'GA', 'GC', 'GG', 'GT', 'TA', 'TC', 'TG', 'TT']\n",
    "model1 = keras.models.load_model('Convolutional Neural Network Model/Regression Model (no10).keras')\n",
    "levelp = np.zeros(data.shape[0])\n",
    "for i in tqdm(range(data.shape[0]), desc=\"Predicting\", position=0, leave=True):\n",
    "    Nuar = np.zeros((1, 16, 146, 1))\n",
    "    s = int(data[i, 0])\n",
    "    strs = strn[s-74:s+73]\n",
    "    for n, dinu in enumerate(base):\n",
    "        for m in range(len(strs) - 1):\n",
    "            if strs[m] + strs[m+1] == dinu:\n",
    "                Nuar[0, n, m, 0] = 1\n",
    "    levelp[i] = model1.predict(Nuar, verbose=0)[0, 0]\n",
    "np.savetxt(\"Chromosome Prediction Results (Training)/ch8_levelp(t).txt\",levelp, fmt='%.6f', delimiter=',')"
   ]
  },
  {
   "cell_type": "code",
   "execution_count": null,
   "id": "7217694f-6206-4f6d-abd1-154eb5e441f2",
   "metadata": {},
   "outputs": [],
   "source": []
  },
  {
   "cell_type": "code",
   "execution_count": 10,
   "id": "bcd9475e-6428-42c0-9a7f-f0de9da55af1",
   "metadata": {},
   "outputs": [
    {
     "name": "stderr",
     "output_type": "stream",
     "text": [
      "Predicting: 100%|████████████████████████████████████████████████████████████████████| 142/142 [00:13<00:00, 10.86it/s]\n"
     ]
    }
   ],
   "source": [
    "with open('SAC1 Genome Deletion of Spaces/CH9n.txt', 'r') as f:\n",
    "    strn = f.read()\n",
    "data = np.loadtxt(\"Training Sites and Occupancy/ch9_training.csv\",delimiter=\",\", skiprows=1, usecols=[0, 1])\n",
    "base = ['AA', 'AC', 'AG', 'AT', 'CA', 'CC', 'CG', 'CT', 'GA', 'GC', 'GG', 'GT', 'TA', 'TC', 'TG', 'TT']\n",
    "model1 = keras.models.load_model('Convolutional Neural Network Model/Regression Model (no10).keras')\n",
    "levelp = np.zeros(data.shape[0])\n",
    "for i in tqdm(range(data.shape[0]), desc=\"Predicting\", position=0, leave=True):\n",
    "    Nuar = np.zeros((1, 16, 146, 1))\n",
    "    s = int(data[i, 0])\n",
    "    strs = strn[s-74:s+73]\n",
    "    for n, dinu in enumerate(base):\n",
    "        for m in range(len(strs) - 1):\n",
    "            if strs[m] + strs[m+1] == dinu:\n",
    "                Nuar[0, n, m, 0] = 1\n",
    "    levelp[i] = model1.predict(Nuar, verbose=0)[0, 0]\n",
    "np.savetxt(\"Chromosome Prediction Results (Training)/ch9_levelp(t).txt\",levelp, fmt='%.6f', delimiter=',')"
   ]
  },
  {
   "cell_type": "code",
   "execution_count": null,
   "id": "157bf4ff-7c43-4e3b-919a-10f01f0fe673",
   "metadata": {},
   "outputs": [],
   "source": []
  },
  {
   "cell_type": "code",
   "execution_count": 11,
   "id": "0b51d1ec-95a2-4b82-8104-2cbd19dc865d",
   "metadata": {},
   "outputs": [
    {
     "name": "stderr",
     "output_type": "stream",
     "text": [
      "Predicting: 100%|████████████████████████████████████████████████████████████████████| 252/252 [00:27<00:00,  9.28it/s]\n"
     ]
    }
   ],
   "source": [
    "with open('SAC1 Genome Deletion of Spaces/CH10n.txt', 'r') as f:\n",
    "    strn = f.read()\n",
    "data = np.loadtxt(\"Training Sites and Occupancy/ch10_training.csv\",delimiter=\",\", skiprows=1, usecols=[0, 1])\n",
    "base = ['AA', 'AC', 'AG', 'AT', 'CA', 'CC', 'CG', 'CT', 'GA', 'GC', 'GG', 'GT', 'TA', 'TC', 'TG', 'TT']\n",
    "model1 = keras.models.load_model('Convolutional Neural Network Model/Regression Model (no10).keras')\n",
    "levelp = np.zeros(data.shape[0])\n",
    "for i in tqdm(range(data.shape[0]), desc=\"Predicting\", position=0, leave=True):\n",
    "    Nuar = np.zeros((1, 16, 146, 1))\n",
    "    s = int(data[i, 0])\n",
    "    strs = strn[s-74:s+73]\n",
    "    for n, dinu in enumerate(base):\n",
    "        for m in range(len(strs) - 1):\n",
    "            if strs[m] + strs[m+1] == dinu:\n",
    "                Nuar[0, n, m, 0] = 1\n",
    "    levelp[i] = model1.predict(Nuar, verbose=0)[0, 0]\n",
    "np.savetxt(\"Chromosome Prediction Results (Training)/ch10_levelp(t).txt\",levelp, fmt='%.6f', delimiter=',')"
   ]
  },
  {
   "cell_type": "code",
   "execution_count": null,
   "id": "0be3eff3-9deb-40bc-9133-78d2c98734d6",
   "metadata": {},
   "outputs": [],
   "source": []
  },
  {
   "cell_type": "code",
   "execution_count": 12,
   "id": "f2f04fec-da10-4554-ae46-7c483d49b98d",
   "metadata": {},
   "outputs": [
    {
     "name": "stderr",
     "output_type": "stream",
     "text": [
      "Predicting: 100%|████████████████████████████████████████████████████████████████████| 251/251 [00:28<00:00,  8.66it/s]\n"
     ]
    }
   ],
   "source": [
    "with open('SAC1 Genome Deletion of Spaces/CH11n.txt', 'r') as f:\n",
    "    strn = f.read()\n",
    "data = np.loadtxt(\"Training Sites and Occupancy/ch11_training.csv\",delimiter=\",\", skiprows=1, usecols=[0, 1])\n",
    "base = ['AA', 'AC', 'AG', 'AT', 'CA', 'CC', 'CG', 'CT', 'GA', 'GC', 'GG', 'GT', 'TA', 'TC', 'TG', 'TT']\n",
    "model1 = keras.models.load_model('Convolutional Neural Network Model/Regression Model (no10).keras')\n",
    "levelp = np.zeros(data.shape[0])\n",
    "for i in tqdm(range(data.shape[0]), desc=\"Predicting\", position=0, leave=True):\n",
    "    Nuar = np.zeros((1, 16, 146, 1))\n",
    "    s = int(data[i, 0])\n",
    "    strs = strn[s-74:s+73]\n",
    "    for n, dinu in enumerate(base):\n",
    "        for m in range(len(strs) - 1):\n",
    "            if strs[m] + strs[m+1] == dinu:\n",
    "                Nuar[0, n, m, 0] = 1\n",
    "    levelp[i] = model1.predict(Nuar, verbose=0)[0, 0]\n",
    "np.savetxt(\"Chromosome Prediction Results (Training)/ch11_levelp(t).txt\",levelp, fmt='%.6f', delimiter=',')"
   ]
  },
  {
   "cell_type": "code",
   "execution_count": null,
   "id": "b104e1d5-209e-424b-9170-5e4fedd71dfe",
   "metadata": {},
   "outputs": [],
   "source": []
  },
  {
   "cell_type": "code",
   "execution_count": 13,
   "id": "6a063577-703e-4c81-b0ed-78b567016433",
   "metadata": {},
   "outputs": [
    {
     "name": "stderr",
     "output_type": "stream",
     "text": [
      "Predicting: 100%|████████████████████████████████████████████████████████████████████| 358/358 [00:42<00:00,  8.41it/s]\n"
     ]
    }
   ],
   "source": [
    "with open('SAC1 Genome Deletion of Spaces/CH12n.txt', 'r') as f:\n",
    "    strn = f.read()\n",
    "data = np.loadtxt(\"Training Sites and Occupancy/ch12_training.csv\",delimiter=\",\", skiprows=1, usecols=[0, 1])\n",
    "base = ['AA', 'AC', 'AG', 'AT', 'CA', 'CC', 'CG', 'CT', 'GA', 'GC', 'GG', 'GT', 'TA', 'TC', 'TG', 'TT']\n",
    "model1 = keras.models.load_model('Convolutional Neural Network Model/Regression Model (no10).keras')\n",
    "levelp = np.zeros(data.shape[0])\n",
    "for i in tqdm(range(data.shape[0]), desc=\"Predicting\", position=0, leave=True):\n",
    "    Nuar = np.zeros((1, 16, 146, 1))\n",
    "    s = int(data[i, 0])\n",
    "    strs = strn[s-74:s+73]\n",
    "    for n, dinu in enumerate(base):\n",
    "        for m in range(len(strs) - 1):\n",
    "            if strs[m] + strs[m+1] == dinu:\n",
    "                Nuar[0, n, m, 0] = 1\n",
    "    levelp[i] = model1.predict(Nuar, verbose=0)[0, 0]\n",
    "np.savetxt(\"Chromosome Prediction Results (Training)/ch12_levelp(t).txt\",levelp, fmt='%.6f', delimiter=',')"
   ]
  },
  {
   "cell_type": "code",
   "execution_count": null,
   "id": "1175df14-095f-4c28-9967-6e3ac0cac24d",
   "metadata": {},
   "outputs": [],
   "source": []
  },
  {
   "cell_type": "code",
   "execution_count": 14,
   "id": "53a13698-e8a7-410c-b2eb-d4e387269b31",
   "metadata": {},
   "outputs": [
    {
     "name": "stderr",
     "output_type": "stream",
     "text": [
      "Predicting: 100%|████████████████████████████████████████████████████████████████████| 331/331 [00:39<00:00,  8.48it/s]\n"
     ]
    }
   ],
   "source": [
    "with open('SAC1 Genome Deletion of Spaces/CH13n.txt', 'r') as f:\n",
    "    strn = f.read()\n",
    "data = np.loadtxt(\"Training Sites and Occupancy/ch13_training.csv\",delimiter=\",\", skiprows=1, usecols=[0, 1])\n",
    "base = ['AA', 'AC', 'AG', 'AT', 'CA', 'CC', 'CG', 'CT', 'GA', 'GC', 'GG', 'GT', 'TA', 'TC', 'TG', 'TT']\n",
    "model1 = keras.models.load_model('Convolutional Neural Network Model/Regression Model (no10).keras')\n",
    "levelp = np.zeros(data.shape[0])\n",
    "for i in tqdm(range(data.shape[0]), desc=\"Predicting\", position=0, leave=True):\n",
    "    Nuar = np.zeros((1, 16, 146, 1))\n",
    "    s = int(data[i, 0])\n",
    "    strs = strn[s-74:s+73]\n",
    "    for n, dinu in enumerate(base):\n",
    "        for m in range(len(strs) - 1):\n",
    "            if strs[m] + strs[m+1] == dinu:\n",
    "                Nuar[0, n, m, 0] = 1\n",
    "    levelp[i] = model1.predict(Nuar, verbose=0)[0, 0]\n",
    "np.savetxt(\"Chromosome Prediction Results (Training)/ch13_levelp(t).txt\",levelp, fmt='%.6f', delimiter=',')"
   ]
  },
  {
   "cell_type": "code",
   "execution_count": null,
   "id": "006b8764-8ef5-4fd5-8b8d-85dbd6fcc3ee",
   "metadata": {},
   "outputs": [],
   "source": []
  },
  {
   "cell_type": "code",
   "execution_count": 15,
   "id": "474995c3-29b3-49ed-8811-4a174425760d",
   "metadata": {},
   "outputs": [
    {
     "name": "stderr",
     "output_type": "stream",
     "text": [
      "Predicting: 100%|████████████████████████████████████████████████████████████████████| 269/269 [00:24<00:00, 10.81it/s]\n"
     ]
    }
   ],
   "source": [
    "with open('SAC1 Genome Deletion of Spaces/CH14n.txt', 'r') as f:\n",
    "    strn = f.read()\n",
    "data = np.loadtxt(\"Training Sites and Occupancy/ch14_training.csv\",delimiter=\",\", skiprows=1, usecols=[0, 1])\n",
    "base = ['AA', 'AC', 'AG', 'AT', 'CA', 'CC', 'CG', 'CT', 'GA', 'GC', 'GG', 'GT', 'TA', 'TC', 'TG', 'TT']\n",
    "model1 = keras.models.load_model('Convolutional Neural Network Model/Regression Model (no10).keras')\n",
    "levelp = np.zeros(data.shape[0])\n",
    "for i in tqdm(range(data.shape[0]), desc=\"Predicting\", position=0, leave=True):\n",
    "    Nuar = np.zeros((1, 16, 146, 1))\n",
    "    s = int(data[i, 0])\n",
    "    strs = strn[s-74:s+73]\n",
    "    for n, dinu in enumerate(base):\n",
    "        for m in range(len(strs) - 1):\n",
    "            if strs[m] + strs[m+1] == dinu:\n",
    "                Nuar[0, n, m, 0] = 1\n",
    "    levelp[i] = model1.predict(Nuar, verbose=0)[0, 0]\n",
    "np.savetxt(\"Chromosome Prediction Results (Training)/ch14_levelp(t).txt\",levelp, fmt='%.6f', delimiter=',')"
   ]
  },
  {
   "cell_type": "code",
   "execution_count": null,
   "id": "32de8820-4b5b-4741-80e8-7645a497589b",
   "metadata": {},
   "outputs": [],
   "source": []
  },
  {
   "cell_type": "code",
   "execution_count": 16,
   "id": "dca7e629-99f9-45c8-b73c-13cb4ca52996",
   "metadata": {},
   "outputs": [
    {
     "name": "stderr",
     "output_type": "stream",
     "text": [
      "Predicting: 100%|████████████████████████████████████████████████████████████████████| 390/390 [00:36<00:00, 10.76it/s]\n"
     ]
    }
   ],
   "source": [
    "with open('SAC1 Genome Deletion of Spaces/CH15n.txt', 'r') as f:\n",
    "    strn = f.read()\n",
    "data = np.loadtxt(\"Training Sites and Occupancy/ch15_training.csv\",delimiter=\",\", skiprows=1, usecols=[0, 1])\n",
    "base = ['AA', 'AC', 'AG', 'AT', 'CA', 'CC', 'CG', 'CT', 'GA', 'GC', 'GG', 'GT', 'TA', 'TC', 'TG', 'TT']\n",
    "model1 = keras.models.load_model('Convolutional Neural Network Model/Regression Model (no10).keras')\n",
    "levelp = np.zeros(data.shape[0])\n",
    "for i in tqdm(range(data.shape[0]), desc=\"Predicting\", position=0, leave=True):\n",
    "    Nuar = np.zeros((1, 16, 146, 1))\n",
    "    s = int(data[i, 0])\n",
    "    strs = strn[s-74:s+73]\n",
    "    for n, dinu in enumerate(base):\n",
    "        for m in range(len(strs) - 1):\n",
    "            if strs[m] + strs[m+1] == dinu:\n",
    "                Nuar[0, n, m, 0] = 1\n",
    "    levelp[i] = model1.predict(Nuar, verbose=0)[0, 0]\n",
    "np.savetxt(\"Chromosome Prediction Results (Training)/ch15_levelp(t).txt\",levelp, fmt='%.6f', delimiter=',')"
   ]
  },
  {
   "cell_type": "code",
   "execution_count": null,
   "id": "661d4f41-5a7c-425b-920b-ec10df6b8544",
   "metadata": {},
   "outputs": [],
   "source": []
  },
  {
   "cell_type": "code",
   "execution_count": 17,
   "id": "c1f50301-8d6f-4d6d-8112-3fe7b0c864ef",
   "metadata": {},
   "outputs": [
    {
     "name": "stderr",
     "output_type": "stream",
     "text": [
      "Predicting: 100%|████████████████████████████████████████████████████████████████████| 345/345 [00:33<00:00, 10.45it/s]\n"
     ]
    }
   ],
   "source": [
    "with open('SAC1 Genome Deletion of Spaces/CH16n.txt', 'r') as f:\n",
    "    strn = f.read()\n",
    "data = np.loadtxt(\"Training Sites and Occupancy/ch16_training.csv\",delimiter=\",\", skiprows=1, usecols=[0, 1])\n",
    "base = ['AA', 'AC', 'AG', 'AT', 'CA', 'CC', 'CG', 'CT', 'GA', 'GC', 'GG', 'GT', 'TA', 'TC', 'TG', 'TT']\n",
    "model1 = keras.models.load_model('Convolutional Neural Network Model/Regression Model (no10).keras')\n",
    "levelp = np.zeros(data.shape[0])\n",
    "for i in tqdm(range(data.shape[0]), desc=\"Predicting\", position=0, leave=True):\n",
    "    Nuar = np.zeros((1, 16, 146, 1))\n",
    "    s = int(data[i, 0])\n",
    "    strs = strn[s-74:s+73]\n",
    "    for n, dinu in enumerate(base):\n",
    "        for m in range(len(strs) - 1):\n",
    "            if strs[m] + strs[m+1] == dinu:\n",
    "                Nuar[0, n, m, 0] = 1\n",
    "    levelp[i] = model1.predict(Nuar, verbose=0)[0, 0]\n",
    "np.savetxt(\"Chromosome Prediction Results (Training)/ch16_levelp(t).txt\",levelp, fmt='%.6f', delimiter=',')"
   ]
  },
  {
   "cell_type": "code",
   "execution_count": null,
   "id": "6c94afd3-9c31-46f7-9d90-acb2e3c08c30",
   "metadata": {},
   "outputs": [],
   "source": []
  }
 ],
 "metadata": {
  "kernelspec": {
   "display_name": "tf",
   "language": "python",
   "name": "tf"
  },
  "language_info": {
   "codemirror_mode": {
    "name": "ipython",
    "version": 3
   },
   "file_extension": ".py",
   "mimetype": "text/x-python",
   "name": "python",
   "nbconvert_exporter": "python",
   "pygments_lexer": "ipython3",
   "version": "3.10.18"
  }
 },
 "nbformat": 4,
 "nbformat_minor": 5
}
