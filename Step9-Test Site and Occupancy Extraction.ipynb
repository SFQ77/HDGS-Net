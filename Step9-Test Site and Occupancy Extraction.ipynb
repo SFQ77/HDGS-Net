{
 "cells": [
  {
   "cell_type": "code",
   "execution_count": null,
   "id": "f8ee0354-3807-4aaa-93d2-30493825421d",
   "metadata": {},
   "outputs": [],
   "source": [
    "Obtain the testing site data by removing the training site data from the original site data."
   ]
  },
  {
   "cell_type": "code",
   "execution_count": null,
   "id": "ae6077a5-e06a-4219-8a3e-020abe48ac9c",
   "metadata": {},
   "outputs": [],
   "source": []
  },
  {
   "cell_type": "code",
   "execution_count": 1,
   "id": "1395e51a-df8f-4f78-9ede-9fa611f36f10",
   "metadata": {},
   "outputs": [],
   "source": [
    "import numpy as np\n",
    "import pandas as pd"
   ]
  },
  {
   "cell_type": "code",
   "execution_count": 2,
   "id": "a81663bd-ac34-4701-95f7-b6d98559e18c",
   "metadata": {},
   "outputs": [
    {
     "name": "stdout",
     "output_type": "stream",
     "text": [
      "(1682, 2)\n",
      "(66, 2)\n",
      "(1616, 2)\n"
     ]
    }
   ],
   "source": [
    "data_all = np.loadtxt(\"Classified Chromosomes/ch1.csv\" ,delimiter=\",\",skiprows=1,usecols=[2,3]) \n",
    "print(data_all.shape)\n",
    "idex = np.lexsort([data_all[:,0], -1*data_all[:,1]])\n",
    "datar = data_all[idex, :]\n",
    "data_t = np.loadtxt(\"Training Sites and Occupancy/ch1_training.csv\",delimiter=\",\",skiprows=1,usecols=[0,1]) \n",
    "print(data_t.shape)\n",
    "idext = np.lexsort([data_t[:,0], -1*data_t[:,1]])\n",
    "datart = data_t[idext, :]\n",
    "indices = np.isin(datar[:, 0], datart[:, 0])\n",
    "s = np.where(indices)[0]\n",
    "c = np.delete(datar, s, axis=0)\n",
    "df = pd.DataFrame(c, columns=['site', 'value'])\n",
    "print(df.shape)\n",
    "df.to_csv('Test Sites and Occupancy/ch1_testing.csv',index=False)"
   ]
  },
  {
   "cell_type": "code",
   "execution_count": null,
   "id": "37e902e4-57e5-411e-84a5-76389504df06",
   "metadata": {},
   "outputs": [],
   "source": []
  },
  {
   "cell_type": "code",
   "execution_count": 3,
   "id": "c3e7d588-7ec9-45c8-b840-c56b38170a48",
   "metadata": {},
   "outputs": [
    {
     "name": "stdout",
     "output_type": "stream",
     "text": [
      "(7484, 2)\n",
      "(289, 2)\n",
      "(7195, 2)\n"
     ]
    }
   ],
   "source": [
    "data_all = np.loadtxt(\"Classified Chromosomes/ch2.csv\" ,delimiter=\",\",skiprows=1,usecols=[2,3]) \n",
    "print(data_all.shape)\n",
    "idex = np.lexsort([data_all[:,0], -1*data_all[:,1]])\n",
    "datar = data_all[idex, :]\n",
    "data_t = np.loadtxt(\"Training Sites and Occupancy/ch2_training.csv\",delimiter=\",\",skiprows=1,usecols=[0,1]) \n",
    "print(data_t.shape)\n",
    "idext = np.lexsort([data_t[:,0], -1*data_t[:,1]])\n",
    "datart = data_t[idext, :]\n",
    "indices = np.isin(datar[:, 0], datart[:, 0])\n",
    "s = np.where(indices)[0]\n",
    "c = np.delete(datar, s, axis=0)\n",
    "df = pd.DataFrame(c, columns=['site', 'value'])\n",
    "print(df.shape)\n",
    "df.to_csv('Test Sites and Occupancy/ch2_testing.csv',index=False)"
   ]
  },
  {
   "cell_type": "code",
   "execution_count": null,
   "id": "43191b0e-9732-43a9-9101-2285c3fa3cb1",
   "metadata": {},
   "outputs": [],
   "source": []
  },
  {
   "cell_type": "code",
   "execution_count": 4,
   "id": "6d594b6f-faf3-42cb-a663-d71cab4d60cc",
   "metadata": {},
   "outputs": [
    {
     "name": "stdout",
     "output_type": "stream",
     "text": [
      "(2449, 2)\n",
      "(91, 2)\n",
      "(2358, 2)\n"
     ]
    }
   ],
   "source": [
    "data_all = np.loadtxt(\"Classified Chromosomes/ch3.csv\" ,delimiter=\",\",skiprows=1,usecols=[2,3]) \n",
    "print(data_all.shape)\n",
    "idex = np.lexsort([data_all[:,0], -1*data_all[:,1]])\n",
    "datar = data_all[idex, :]\n",
    "data_t = np.loadtxt(\"Training Sites and Occupancy/ch3_training.csv\",delimiter=\",\",skiprows=1,usecols=[0,1]) \n",
    "print(data_t.shape)\n",
    "idext = np.lexsort([data_t[:,0], -1*data_t[:,1]])\n",
    "datart = data_t[idext, :]\n",
    "indices = np.isin(datar[:, 0], datart[:, 0])\n",
    "s = np.where(indices)[0]\n",
    "c = np.delete(datar, s, axis=0)\n",
    "df = pd.DataFrame(c, columns=['site', 'value'])\n",
    "print(df.shape)\n",
    "df.to_csv('Test Sites and Occupancy/ch3_testing.csv',index=False)"
   ]
  },
  {
   "cell_type": "code",
   "execution_count": null,
   "id": "898bdf0a-630f-4f80-a4c1-e5c7638519bd",
   "metadata": {},
   "outputs": [],
   "source": []
  },
  {
   "cell_type": "code",
   "execution_count": 5,
   "id": "4fcf68f1-e7b7-446f-8912-1cac3728abb2",
   "metadata": {},
   "outputs": [
    {
     "name": "stdout",
     "output_type": "stream",
     "text": [
      "(13784, 2)\n",
      "(535, 2)\n",
      "(13249, 2)\n"
     ]
    }
   ],
   "source": [
    "data_all = np.loadtxt(\"Classified Chromosomes/ch4.csv\" ,delimiter=\",\",skiprows=1,usecols=[2,3]) \n",
    "print(data_all.shape)\n",
    "idex = np.lexsort([data_all[:,0], -1*data_all[:,1]])\n",
    "datar = data_all[idex, :]\n",
    "data_t = np.loadtxt(\"Training Sites and Occupancy/ch4_training.csv\",delimiter=\",\",skiprows=1,usecols=[0,1]) \n",
    "print(data_t.shape)\n",
    "idext = np.lexsort([data_t[:,0], -1*data_t[:,1]])\n",
    "datart = data_t[idext, :]\n",
    "indices = np.isin(datar[:, 0], datart[:, 0])\n",
    "s = np.where(indices)[0]\n",
    "c = np.delete(datar, s, axis=0)\n",
    "df = pd.DataFrame(c, columns=['site', 'value'])\n",
    "print(df.shape)\n",
    "df.to_csv('Test Sites and Occupancy/ch4_testing.csv',index=False)"
   ]
  },
  {
   "cell_type": "code",
   "execution_count": null,
   "id": "2cb60f31-a3e7-4851-bd66-54b49a97df7c",
   "metadata": {},
   "outputs": [],
   "source": []
  },
  {
   "cell_type": "code",
   "execution_count": 6,
   "id": "b0133720-2705-4003-bf32-6ae06ae39c6e",
   "metadata": {},
   "outputs": [
    {
     "name": "stdout",
     "output_type": "stream",
     "text": [
      "(5150, 2)\n",
      "(195, 2)\n",
      "(4955, 2)\n"
     ]
    }
   ],
   "source": [
    "data_all = np.loadtxt(\"Classified Chromosomes/ch5.csv\" ,delimiter=\",\",skiprows=1,usecols=[2,3]) \n",
    "print(data_all.shape)\n",
    "idex = np.lexsort([data_all[:,0], -1*data_all[:,1]])\n",
    "datar = data_all[idex, :]\n",
    "data_t = np.loadtxt(\"Training Sites and Occupancy/ch5_training.csv\",delimiter=\",\",skiprows=1,usecols=[0,1]) \n",
    "print(data_t.shape)\n",
    "idext = np.lexsort([data_t[:,0], -1*data_t[:,1]])\n",
    "datart = data_t[idext, :]\n",
    "indices = np.isin(datar[:, 0], datart[:, 0])\n",
    "s = np.where(indices)[0]\n",
    "c = np.delete(datar, s, axis=0)\n",
    "df = pd.DataFrame(c, columns=['site', 'value'])\n",
    "print(df.shape)\n",
    "df.to_csv('Test Sites and Occupancy/ch5_testing.csv',index=False)"
   ]
  },
  {
   "cell_type": "code",
   "execution_count": null,
   "id": "460992f4-ac93-4d25-a54d-1ddb36ba6f1e",
   "metadata": {},
   "outputs": [],
   "source": []
  },
  {
   "cell_type": "code",
   "execution_count": 7,
   "id": "41b97de3-627d-4f85-b3fd-6ea5e373f174",
   "metadata": {},
   "outputs": [
    {
     "name": "stdout",
     "output_type": "stream",
     "text": [
      "(2364, 2)\n",
      "(87, 2)\n",
      "(2277, 2)\n"
     ]
    }
   ],
   "source": [
    "data_all = np.loadtxt(\"Classified Chromosomes/ch6.csv\" ,delimiter=\",\",skiprows=1,usecols=[2,3]) \n",
    "print(data_all.shape)\n",
    "idex = np.lexsort([data_all[:,0], -1*data_all[:,1]])\n",
    "datar = data_all[idex, :]\n",
    "data_t = np.loadtxt(\"Training Sites and Occupancy/ch6_training.csv\",delimiter=\",\",skiprows=1,usecols=[0,1]) \n",
    "print(data_t.shape)\n",
    "idext = np.lexsort([data_t[:,0], -1*data_t[:,1]])\n",
    "datart = data_t[idext, :]\n",
    "indices = np.isin(datar[:, 0], datart[:, 0])\n",
    "s = np.where(indices)[0]\n",
    "c = np.delete(datar, s, axis=0)\n",
    "df = pd.DataFrame(c, columns=['site', 'value'])\n",
    "print(df.shape)\n",
    "df.to_csv('Test Sites and Occupancy/ch6_testing.csv',index=False)"
   ]
  },
  {
   "cell_type": "code",
   "execution_count": null,
   "id": "76239b99-13fb-487d-beba-ae38625ad2e5",
   "metadata": {},
   "outputs": [],
   "source": []
  },
  {
   "cell_type": "code",
   "execution_count": 8,
   "id": "4a1dc1fa-32ef-4320-bbfd-31f8ee2774bd",
   "metadata": {},
   "outputs": [
    {
     "name": "stdout",
     "output_type": "stream",
     "text": [
      "(9833, 2)\n",
      "(382, 2)\n",
      "(9451, 2)\n"
     ]
    }
   ],
   "source": [
    "data_all = np.loadtxt(\"Classified Chromosomes/ch7.csv\" ,delimiter=\",\",skiprows=1,usecols=[2,3]) \n",
    "print(data_all.shape)\n",
    "idex = np.lexsort([data_all[:,0], -1*data_all[:,1]])\n",
    "datar = data_all[idex, :]\n",
    "data_t = np.loadtxt(\"Training Sites and Occupancy/ch7_training.csv\",delimiter=\",\",skiprows=1,usecols=[0,1]) \n",
    "print(data_t.shape)\n",
    "idext = np.lexsort([data_t[:,0], -1*data_t[:,1]])\n",
    "datart = data_t[idext, :]\n",
    "indices = np.isin(datar[:, 0], datart[:, 0])\n",
    "s = np.where(indices)[0]\n",
    "c = np.delete(datar, s, axis=0)\n",
    "df = pd.DataFrame(c, columns=['site', 'value'])\n",
    "print(df.shape)\n",
    "df.to_csv('Test Sites and Occupancy/ch7_testing.csv',index=False)"
   ]
  },
  {
   "cell_type": "code",
   "execution_count": null,
   "id": "e6347377-58f7-4703-be0c-5639117d485d",
   "metadata": {},
   "outputs": [],
   "source": []
  },
  {
   "cell_type": "code",
   "execution_count": 9,
   "id": "d57cefca-687f-4528-8aec-56a10485ec03",
   "metadata": {},
   "outputs": [
    {
     "name": "stdout",
     "output_type": "stream",
     "text": [
      "(4846, 2)\n",
      "(188, 2)\n",
      "(4658, 2)\n"
     ]
    }
   ],
   "source": [
    "data_all = np.loadtxt(\"Classified Chromosomes/ch8.csv\" ,delimiter=\",\",skiprows=1,usecols=[2,3]) \n",
    "print(data_all.shape)\n",
    "idex = np.lexsort([data_all[:,0], -1*data_all[:,1]])\n",
    "datar = data_all[idex, :]\n",
    "data_t = np.loadtxt(\"Training Sites and Occupancy/ch8_training.csv\",delimiter=\",\",skiprows=1,usecols=[0,1]) \n",
    "print(data_t.shape)\n",
    "idext = np.lexsort([data_t[:,0], -1*data_t[:,1]])\n",
    "datart = data_t[idext, :]\n",
    "indices = np.isin(datar[:, 0], datart[:, 0])\n",
    "s = np.where(indices)[0]\n",
    "c = np.delete(datar, s, axis=0)\n",
    "df = pd.DataFrame(c, columns=['site', 'value'])\n",
    "print(df.shape)\n",
    "df.to_csv('Test Sites and Occupancy/ch8_testing.csv',index=False)"
   ]
  },
  {
   "cell_type": "code",
   "execution_count": null,
   "id": "0e4446d0-2b97-44ad-8c41-5dbf32795d06",
   "metadata": {},
   "outputs": [],
   "source": []
  },
  {
   "cell_type": "code",
   "execution_count": 10,
   "id": "0f258fb4-1609-4361-8283-d49bfa7244e6",
   "metadata": {},
   "outputs": [
    {
     "name": "stdout",
     "output_type": "stream",
     "text": [
      "(3824, 2)\n",
      "(142, 2)\n",
      "(3682, 2)\n"
     ]
    }
   ],
   "source": [
    "data_all = np.loadtxt(\"Classified Chromosomes/ch9.csv\" ,delimiter=\",\",skiprows=1,usecols=[2,3]) \n",
    "print(data_all.shape)\n",
    "idex = np.lexsort([data_all[:,0], -1*data_all[:,1]])\n",
    "datar = data_all[idex, :]\n",
    "data_t = np.loadtxt(\"Training Sites and Occupancy/ch9_training.csv\",delimiter=\",\",skiprows=1,usecols=[0,1]) \n",
    "print(data_t.shape)\n",
    "idext = np.lexsort([data_t[:,0], -1*data_t[:,1]])\n",
    "datart = data_t[idext, :]\n",
    "indices = np.isin(datar[:, 0], datart[:, 0])\n",
    "s = np.where(indices)[0]\n",
    "c = np.delete(datar, s, axis=0)\n",
    "df = pd.DataFrame(c, columns=['site', 'value'])\n",
    "print(df.shape)\n",
    "df.to_csv('Test Sites and Occupancy/ch9_testing.csv',index=False)"
   ]
  },
  {
   "cell_type": "code",
   "execution_count": null,
   "id": "c9244291-c2f3-4d9b-9c65-f79c987fd577",
   "metadata": {},
   "outputs": [],
   "source": []
  },
  {
   "cell_type": "code",
   "execution_count": 11,
   "id": "2e34dd54-840c-4f02-81db-c1ca77978cb2",
   "metadata": {},
   "outputs": [
    {
     "name": "stdout",
     "output_type": "stream",
     "text": [
      "(6595, 2)\n",
      "(252, 2)\n",
      "(6343, 2)\n"
     ]
    }
   ],
   "source": [
    "data_all = np.loadtxt(\"Classified Chromosomes/ch10.csv\" ,delimiter=\",\",skiprows=1,usecols=[2,3]) \n",
    "print(data_all.shape)\n",
    "idex = np.lexsort([data_all[:,0], -1*data_all[:,1]])\n",
    "datar = data_all[idex, :]\n",
    "data_t = np.loadtxt(\"Training Sites and Occupancy/ch10_training.csv\",delimiter=\",\",skiprows=1,usecols=[0,1]) \n",
    "print(data_t.shape)\n",
    "idext = np.lexsort([data_t[:,0], -1*data_t[:,1]])\n",
    "datart = data_t[idext, :]\n",
    "indices = np.isin(datar[:, 0], datart[:, 0])\n",
    "s = np.where(indices)[0]\n",
    "c = np.delete(datar, s, axis=0)\n",
    "df = pd.DataFrame(c, columns=['site', 'value'])\n",
    "print(df.shape)\n",
    "df.to_csv('Test Sites and Occupancy/ch10_testing.csv',index=False)"
   ]
  },
  {
   "cell_type": "code",
   "execution_count": null,
   "id": "b55de650-b23f-4b81-898e-3234d910849b",
   "metadata": {},
   "outputs": [],
   "source": []
  },
  {
   "cell_type": "code",
   "execution_count": 12,
   "id": "51b707f5-d6ae-423f-9177-e59bbe17ac0c",
   "metadata": {},
   "outputs": [
    {
     "name": "stdout",
     "output_type": "stream",
     "text": [
      "(6326, 2)\n",
      "(251, 2)\n",
      "(6075, 2)\n"
     ]
    }
   ],
   "source": [
    "data_all = np.loadtxt(\"Classified Chromosomes/ch11.csv\" ,delimiter=\",\",skiprows=1,usecols=[2,3]) \n",
    "print(data_all.shape)\n",
    "idex = np.lexsort([data_all[:,0], -1*data_all[:,1]])\n",
    "datar = data_all[idex, :]\n",
    "data_t = np.loadtxt(\"Training Sites and Occupancy/ch11_training.csv\",delimiter=\",\",skiprows=1,usecols=[0,1]) \n",
    "print(data_t.shape)\n",
    "idext = np.lexsort([data_t[:,0], -1*data_t[:,1]])\n",
    "datart = data_t[idext, :]\n",
    "indices = np.isin(datar[:, 0], datart[:, 0])\n",
    "s = np.where(indices)[0]\n",
    "c = np.delete(datar, s, axis=0)\n",
    "df = pd.DataFrame(c, columns=['site', 'value'])\n",
    "print(df.shape)\n",
    "df.to_csv('Test Sites and Occupancy/ch11_testing.csv',index=False)"
   ]
  },
  {
   "cell_type": "code",
   "execution_count": null,
   "id": "11f8e7a7-ae28-4390-bb9c-b9b012e0548e",
   "metadata": {},
   "outputs": [],
   "source": []
  },
  {
   "cell_type": "code",
   "execution_count": 13,
   "id": "af3129b2-01db-458f-aae6-336ba3686222",
   "metadata": {},
   "outputs": [
    {
     "name": "stdout",
     "output_type": "stream",
     "text": [
      "(9319, 2)\n",
      "(358, 2)\n",
      "(8961, 2)\n"
     ]
    }
   ],
   "source": [
    "data_all = np.loadtxt(\"Classified Chromosomes/ch12.csv\" ,delimiter=\",\",skiprows=1,usecols=[2,3]) \n",
    "print(data_all.shape)\n",
    "idex = np.lexsort([data_all[:,0], -1*data_all[:,1]])\n",
    "datar = data_all[idex, :]\n",
    "data_t = np.loadtxt(\"Training Sites and Occupancy/ch12_training.csv\",delimiter=\",\",skiprows=1,usecols=[0,1]) \n",
    "print(data_t.shape)\n",
    "idext = np.lexsort([data_t[:,0], -1*data_t[:,1]])\n",
    "datart = data_t[idext, :]\n",
    "indices = np.isin(datar[:, 0], datart[:, 0])\n",
    "s = np.where(indices)[0]\n",
    "c = np.delete(datar, s, axis=0)\n",
    "df = pd.DataFrame(c, columns=['site', 'value'])\n",
    "print(df.shape)\n",
    "df.to_csv('Test Sites and Occupancy/ch12_testing.csv',index=False)"
   ]
  },
  {
   "cell_type": "code",
   "execution_count": null,
   "id": "6b88ca5f-a16e-4bbe-8af6-0d21e8deba8f",
   "metadata": {},
   "outputs": [],
   "source": []
  },
  {
   "cell_type": "code",
   "execution_count": 14,
   "id": "5ca5e7a2-4e95-4256-8ffb-5c6e5a3bae6c",
   "metadata": {},
   "outputs": [
    {
     "name": "stdout",
     "output_type": "stream",
     "text": [
      "(8482, 2)\n",
      "(331, 2)\n",
      "(8151, 2)\n"
     ]
    }
   ],
   "source": [
    "data_all = np.loadtxt(\"Classified Chromosomes/ch13.csv\" ,delimiter=\",\",skiprows=1,usecols=[2,3]) \n",
    "print(data_all.shape)\n",
    "idex = np.lexsort([data_all[:,0], -1*data_all[:,1]])\n",
    "datar = data_all[idex, :]\n",
    "data_t = np.loadtxt(\"Training Sites and Occupancy/ch13_training.csv\",delimiter=\",\",skiprows=1,usecols=[0,1]) \n",
    "print(data_t.shape)\n",
    "idext = np.lexsort([data_t[:,0], -1*data_t[:,1]])\n",
    "datart = data_t[idext, :]\n",
    "indices = np.isin(datar[:, 0], datart[:, 0])\n",
    "s = np.where(indices)[0]\n",
    "c = np.delete(datar, s, axis=0)\n",
    "df = pd.DataFrame(c, columns=['site', 'value'])\n",
    "print(df.shape)\n",
    "df.to_csv('Test Sites and Occupancy/ch13_testing.csv',index=False)"
   ]
  },
  {
   "cell_type": "code",
   "execution_count": null,
   "id": "9eb2652a-743c-485f-baa0-5a2c806bb537",
   "metadata": {},
   "outputs": [],
   "source": []
  },
  {
   "cell_type": "code",
   "execution_count": 15,
   "id": "7b6494dc-4cde-4269-9d52-ed87aac81b1c",
   "metadata": {},
   "outputs": [
    {
     "name": "stdout",
     "output_type": "stream",
     "text": [
      "(7064, 2)\n",
      "(269, 2)\n",
      "(6795, 2)\n"
     ]
    }
   ],
   "source": [
    "data_all = np.loadtxt(\"Classified Chromosomes/ch14.csv\" ,delimiter=\",\",skiprows=1,usecols=[2,3]) \n",
    "print(data_all.shape)\n",
    "idex = np.lexsort([data_all[:,0], -1*data_all[:,1]])\n",
    "datar = data_all[idex, :]\n",
    "data_t = np.loadtxt(\"Training Sites and Occupancy/ch14_training.csv\",delimiter=\",\",skiprows=1,usecols=[0,1]) \n",
    "print(data_t.shape)\n",
    "idext = np.lexsort([data_t[:,0], -1*data_t[:,1]])\n",
    "datart = data_t[idext, :]\n",
    "indices = np.isin(datar[:, 0], datart[:, 0])\n",
    "s = np.where(indices)[0]\n",
    "c = np.delete(datar, s, axis=0)\n",
    "df = pd.DataFrame(c, columns=['site', 'value'])\n",
    "print(df.shape)\n",
    "df.to_csv('Test Sites and Occupancy/ch14_testing.csv',index=False)"
   ]
  },
  {
   "cell_type": "code",
   "execution_count": null,
   "id": "43891bad-0741-4ca2-ba45-bd5f0698545f",
   "metadata": {},
   "outputs": [],
   "source": []
  },
  {
   "cell_type": "code",
   "execution_count": 16,
   "id": "fde406d5-4066-4cd6-b097-8ff675b7ca99",
   "metadata": {},
   "outputs": [
    {
     "name": "stdout",
     "output_type": "stream",
     "text": [
      "(9974, 2)\n",
      "(390, 2)\n",
      "(9584, 2)\n"
     ]
    }
   ],
   "source": [
    "data_all = np.loadtxt(\"Classified Chromosomes/ch15.csv\" ,delimiter=\",\",skiprows=1,usecols=[2,3]) \n",
    "print(data_all.shape)\n",
    "idex = np.lexsort([data_all[:,0], -1*data_all[:,1]])\n",
    "datar = data_all[idex, :]\n",
    "data_t = np.loadtxt(\"Training Sites and Occupancy/ch15_training.csv\",delimiter=\",\",skiprows=1,usecols=[0,1]) \n",
    "print(data_t.shape)\n",
    "idext = np.lexsort([data_t[:,0], -1*data_t[:,1]])\n",
    "datart = data_t[idext, :]\n",
    "indices = np.isin(datar[:, 0], datart[:, 0])\n",
    "s = np.where(indices)[0]\n",
    "c = np.delete(datar, s, axis=0)\n",
    "df = pd.DataFrame(c, columns=['site', 'value'])\n",
    "print(df.shape)\n",
    "df.to_csv('Test Sites and Occupancy/ch15_testing.csv',index=False)"
   ]
  },
  {
   "cell_type": "code",
   "execution_count": null,
   "id": "34f8b4e1-20c5-428d-8829-f38613d47f50",
   "metadata": {},
   "outputs": [],
   "source": []
  },
  {
   "cell_type": "code",
   "execution_count": 17,
   "id": "4313e676-1592-4088-a4e9-faffb5eaac04",
   "metadata": {},
   "outputs": [
    {
     "name": "stdout",
     "output_type": "stream",
     "text": [
      "(8569, 2)\n",
      "(345, 2)\n",
      "(8224, 2)\n"
     ]
    }
   ],
   "source": [
    "data_all = np.loadtxt(\"Classified Chromosomes/ch16.csv\" ,delimiter=\",\",skiprows=1,usecols=[2,3]) \n",
    "print(data_all.shape)\n",
    "idex = np.lexsort([data_all[:,0], -1*data_all[:,1]])\n",
    "datar = data_all[idex, :]\n",
    "data_t = np.loadtxt(\"Training Sites and Occupancy/ch16_training.csv\",delimiter=\",\",skiprows=1,usecols=[0,1]) \n",
    "print(data_t.shape)\n",
    "idext = np.lexsort([data_t[:,0], -1*data_t[:,1]])\n",
    "datart = data_t[idext, :]\n",
    "indices = np.isin(datar[:, 0], datart[:, 0])\n",
    "s = np.where(indices)[0]\n",
    "c = np.delete(datar, s, axis=0)\n",
    "df = pd.DataFrame(c, columns=['site', 'value'])\n",
    "print(df.shape)\n",
    "df.to_csv('Test Sites and Occupancy/ch16_testing.csv',index=False)"
   ]
  },
  {
   "cell_type": "code",
   "execution_count": null,
   "id": "93d99b93-6faa-458b-979c-27058f80479b",
   "metadata": {},
   "outputs": [],
   "source": []
  }
 ],
 "metadata": {
  "kernelspec": {
   "display_name": "tf",
   "language": "python",
   "name": "tf"
  },
  "language_info": {
   "codemirror_mode": {
    "name": "ipython",
    "version": 3
   },
   "file_extension": ".py",
   "mimetype": "text/x-python",
   "name": "python",
   "nbconvert_exporter": "python",
   "pygments_lexer": "ipython3",
   "version": "3.10.18"
  }
 },
 "nbformat": 4,
 "nbformat_minor": 5
}
