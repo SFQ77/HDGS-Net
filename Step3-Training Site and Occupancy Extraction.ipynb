{
 "cells": [
  {
   "cell_type": "code",
   "execution_count": null,
   "metadata": {},
   "outputs": [],
   "source": [
    "Extract training sites and occupancies through sampling. \n",
    "For high-occupancy regions (>Q3+1.5×IQR), sample at a ratio of 1:3. \n",
    "For normally distributed regions (≤Q3+1.5×IQR), sample at a ratio of 1:30."
   ]
  },
  {
   "cell_type": "code",
   "execution_count": null,
   "metadata": {},
   "outputs": [],
   "source": [
    "Segmentation Values: 2.362  2.734  2.643  2.724  2.666  2.583  2.782  2.568  2.619  2.692  2.650  2.907  2.787  2.763  2.680  2.611"
   ]
  },
  {
   "cell_type": "code",
   "execution_count": null,
   "metadata": {},
   "outputs": [],
   "source": []
  },
  {
   "cell_type": "code",
   "execution_count": 1,
   "metadata": {},
   "outputs": [],
   "source": [
    "import numpy as np\n",
    "import csv\n",
    "import pandas as pd"
   ]
  },
  {
   "cell_type": "code",
   "execution_count": 2,
   "metadata": {},
   "outputs": [],
   "source": [
    "path_csv = \"Classified Chromosomes/ch1.csv\"  \n",
    "data = np.loadtxt(open(path_csv,\"rb\"),delimiter=\",\",skiprows=1,usecols=[2,3]) "
   ]
  },
  {
   "cell_type": "code",
   "execution_count": 3,
   "metadata": {},
   "outputs": [
    {
     "data": {
      "text/plain": [
       "(1682, 2)"
      ]
     },
     "execution_count": 3,
     "metadata": {},
     "output_type": "execute_result"
    }
   ],
   "source": [
    "data.shape"
   ]
  },
  {
   "cell_type": "code",
   "execution_count": 4,
   "metadata": {},
   "outputs": [
    {
     "data": {
      "text/plain": [
       "array([3.987, 3.573, 3.527, 3.522, 3.429])"
      ]
     },
     "execution_count": 4,
     "metadata": {},
     "output_type": "execute_result"
    }
   ],
   "source": [
    "data[0:5,1]"
   ]
  },
  {
   "cell_type": "code",
   "execution_count": 5,
   "metadata": {},
   "outputs": [
    {
     "name": "stdout",
     "output_type": "stream",
     "text": [
      "38\n"
     ]
    }
   ],
   "source": [
    "num = 0\n",
    "for i in range(len(data)):\n",
    "    if data[i][1] >= 2.362:\n",
    "        num = num+1\n",
    "print(num)"
   ]
  },
  {
   "cell_type": "code",
   "execution_count": 6,
   "metadata": {},
   "outputs": [
    {
     "name": "stdout",
     "output_type": "stream",
     "text": [
      "(38, 2)\n"
     ]
    }
   ],
   "source": [
    "high = data[0:38][:]\n",
    "print(high.shape)"
   ]
  },
  {
   "cell_type": "code",
   "execution_count": 7,
   "metadata": {},
   "outputs": [
    {
     "name": "stdout",
     "output_type": "stream",
     "text": [
      "(1644, 2)\n"
     ]
    }
   ],
   "source": [
    "mid = data[38:1682][:]\n",
    "print(mid.shape)"
   ]
  },
  {
   "cell_type": "code",
   "execution_count": 8,
   "metadata": {},
   "outputs": [
    {
     "name": "stdout",
     "output_type": "stream",
     "text": [
      "(12, 2)\n",
      "(54, 2)\n"
     ]
    }
   ],
   "source": [
    "highx = np.zeros((int(38/3), 2))\n",
    "midx = np.zeros((int(1644/30), 2))\n",
    "print(highx.shape)\n",
    "print(midx.shape)"
   ]
  },
  {
   "cell_type": "code",
   "execution_count": 9,
   "metadata": {},
   "outputs": [],
   "source": [
    "for h in range(int(38/3)):\n",
    "    ht = h*3\n",
    "    highx[h][0] = high[ht][0]\n",
    "    highx[h][1] = high[ht][1]"
   ]
  },
  {
   "cell_type": "code",
   "execution_count": 10,
   "metadata": {},
   "outputs": [],
   "source": [
    "for m in range(int(1644/30)):\n",
    "    mt = m*30\n",
    "    midx[m][0] = mid[mt][0]\n",
    "    midx[m][1] = mid[mt][1]"
   ]
  },
  {
   "cell_type": "code",
   "execution_count": 11,
   "metadata": {},
   "outputs": [
    {
     "data": {
      "text/plain": [
       "(66, 2)"
      ]
     },
     "execution_count": 11,
     "metadata": {},
     "output_type": "execute_result"
    }
   ],
   "source": [
    "Nuar = np.concatenate([highx, midx])\n",
    "Nuar.shape"
   ]
  },
  {
   "cell_type": "code",
   "execution_count": 12,
   "metadata": {},
   "outputs": [
    {
     "name": "stdout",
     "output_type": "stream",
     "text": [
      "(66,)\n",
      "(66,)\n"
     ]
    }
   ],
   "source": [
    "site = Nuar[:,0]\n",
    "level = Nuar[:,1]\n",
    "print(site.shape)\n",
    "print(level.shape)"
   ]
  },
  {
   "cell_type": "code",
   "execution_count": 13,
   "metadata": {},
   "outputs": [],
   "source": [
    "df = pd.DataFrame(Nuar,columns=['site','value'])"
   ]
  },
  {
   "cell_type": "code",
   "execution_count": 14,
   "metadata": {},
   "outputs": [
    {
     "data": {
      "text/html": [
       "<div>\n",
       "<style scoped>\n",
       "    .dataframe tbody tr th:only-of-type {\n",
       "        vertical-align: middle;\n",
       "    }\n",
       "\n",
       "    .dataframe tbody tr th {\n",
       "        vertical-align: top;\n",
       "    }\n",
       "\n",
       "    .dataframe thead th {\n",
       "        text-align: right;\n",
       "    }\n",
       "</style>\n",
       "<table border=\"1\" class=\"dataframe\">\n",
       "  <thead>\n",
       "    <tr style=\"text-align: right;\">\n",
       "      <th></th>\n",
       "      <th>site</th>\n",
       "      <th>value</th>\n",
       "    </tr>\n",
       "  </thead>\n",
       "  <tbody>\n",
       "    <tr>\n",
       "      <th>0</th>\n",
       "      <td>168754.0</td>\n",
       "      <td>3.987</td>\n",
       "    </tr>\n",
       "    <tr>\n",
       "      <th>1</th>\n",
       "      <td>32507.0</td>\n",
       "      <td>3.522</td>\n",
       "    </tr>\n",
       "    <tr>\n",
       "      <th>2</th>\n",
       "      <td>32477.0</td>\n",
       "      <td>3.336</td>\n",
       "    </tr>\n",
       "    <tr>\n",
       "      <th>3</th>\n",
       "      <td>59122.0</td>\n",
       "      <td>3.169</td>\n",
       "    </tr>\n",
       "    <tr>\n",
       "      <th>4</th>\n",
       "      <td>61326.0</td>\n",
       "      <td>3.040</td>\n",
       "    </tr>\n",
       "  </tbody>\n",
       "</table>\n",
       "</div>"
      ],
      "text/plain": [
       "       site  value\n",
       "0  168754.0  3.987\n",
       "1   32507.0  3.522\n",
       "2   32477.0  3.336\n",
       "3   59122.0  3.169\n",
       "4   61326.0  3.040"
      ]
     },
     "execution_count": 14,
     "metadata": {},
     "output_type": "execute_result"
    }
   ],
   "source": [
    "df.head()"
   ]
  },
  {
   "cell_type": "code",
   "execution_count": 15,
   "metadata": {},
   "outputs": [],
   "source": [
    "df.to_csv('Training Sites and Occupancy/ch1_training.csv',index=False)"
   ]
  },
  {
   "cell_type": "code",
   "execution_count": null,
   "metadata": {},
   "outputs": [],
   "source": []
  },
  {
   "cell_type": "code",
   "execution_count": 16,
   "metadata": {},
   "outputs": [
    {
     "name": "stdout",
     "output_type": "stream",
     "text": [
      "(7484, 2)\n",
      "133\n"
     ]
    }
   ],
   "source": [
    "import numpy as np\n",
    "import csv\n",
    "import pandas as pd\n",
    "path_csv = \"Classified Chromosomes/ch2.csv\"  \n",
    "data = np.loadtxt(open(path_csv,\"rb\"),delimiter=\",\",skiprows=1,usecols=[2,3]) \n",
    "print(data.shape)\n",
    "num = 0\n",
    "for i in range(len(data)):\n",
    "    if data[i][1] >= 2.734:\n",
    "        num = num+1\n",
    "print(num)"
   ]
  },
  {
   "cell_type": "code",
   "execution_count": 17,
   "metadata": {},
   "outputs": [
    {
     "name": "stdout",
     "output_type": "stream",
     "text": [
      "(133, 2)\n",
      "(7351, 2)\n"
     ]
    }
   ],
   "source": [
    "high = data[0:133][:]\n",
    "print(high.shape)\n",
    "mid = data[133:7484][:]\n",
    "print(mid.shape)"
   ]
  },
  {
   "cell_type": "code",
   "execution_count": 18,
   "metadata": {},
   "outputs": [
    {
     "name": "stdout",
     "output_type": "stream",
     "text": [
      "(44, 2)\n",
      "(245, 2)\n"
     ]
    }
   ],
   "source": [
    "highx = np.zeros((int(133/3), 2))\n",
    "midx = np.zeros((int(7351/30), 2))\n",
    "print(highx.shape)\n",
    "print(midx.shape)\n",
    "for h in range(int(133/3)):\n",
    "    ht = h*3\n",
    "    highx[h][0] = high[ht][0]\n",
    "    highx[h][1] = high[ht][1]\n",
    "for m in range(int(7351/30)):\n",
    "    mt = m*30\n",
    "    midx[m][0] = mid[mt][0]\n",
    "    midx[m][1] = mid[mt][1]"
   ]
  },
  {
   "cell_type": "code",
   "execution_count": 19,
   "metadata": {},
   "outputs": [
    {
     "name": "stdout",
     "output_type": "stream",
     "text": [
      "(289, 2)\n"
     ]
    }
   ],
   "source": [
    "Nuar = np.concatenate([highx, midx])\n",
    "print(Nuar.shape)\n",
    "site = Nuar[:,0]\n",
    "level = Nuar[:,1]\n",
    "df = pd.DataFrame(Nuar,columns=['site','value'])\n",
    "df.to_csv('Training Sites and Occupancy/ch2_training.csv',index=False)"
   ]
  },
  {
   "cell_type": "code",
   "execution_count": null,
   "metadata": {},
   "outputs": [],
   "source": []
  },
  {
   "cell_type": "code",
   "execution_count": 20,
   "metadata": {},
   "outputs": [
    {
     "name": "stdout",
     "output_type": "stream",
     "text": [
      "(2449, 2)\n",
      "33\n"
     ]
    }
   ],
   "source": [
    "import numpy as np\n",
    "import csv\n",
    "import pandas as pd\n",
    "path_csv = \"Classified Chromosomes/ch3.csv\"  \n",
    "data = np.loadtxt(open(path_csv,\"rb\"),delimiter=\",\",skiprows=1,usecols=[2,3]) \n",
    "print(data.shape)\n",
    "num = 0\n",
    "for i in range(len(data)):\n",
    "    if data[i][1] >=  2.643:\n",
    "        num = num+1\n",
    "print(num)"
   ]
  },
  {
   "cell_type": "code",
   "execution_count": 21,
   "metadata": {},
   "outputs": [
    {
     "name": "stdout",
     "output_type": "stream",
     "text": [
      "(33, 2)\n",
      "(2416, 2)\n"
     ]
    }
   ],
   "source": [
    "high = data[0:33][:]\n",
    "print(high.shape)\n",
    "mid = data[33:2449][:]\n",
    "print(mid.shape)"
   ]
  },
  {
   "cell_type": "code",
   "execution_count": 22,
   "metadata": {},
   "outputs": [
    {
     "name": "stdout",
     "output_type": "stream",
     "text": [
      "(11, 2)\n",
      "(80, 2)\n"
     ]
    }
   ],
   "source": [
    "highx = np.zeros((int(33/3), 2))\n",
    "midx = np.zeros((int(2416/30), 2))\n",
    "print(highx.shape)\n",
    "print(midx.shape)\n",
    "for h in range(int(33/3)):\n",
    "    ht = h*3\n",
    "    highx[h][0] = high[ht][0]\n",
    "    highx[h][1] = high[ht][1]\n",
    "for m in range(int(2416/30)):\n",
    "    mt = m*30\n",
    "    midx[m][0] = mid[mt][0]\n",
    "    midx[m][1] = mid[mt][1]"
   ]
  },
  {
   "cell_type": "code",
   "execution_count": 23,
   "metadata": {},
   "outputs": [
    {
     "name": "stdout",
     "output_type": "stream",
     "text": [
      "(91, 2)\n"
     ]
    }
   ],
   "source": [
    "Nuar = np.concatenate([highx, midx])\n",
    "print(Nuar.shape)\n",
    "site = Nuar[:,0]\n",
    "level = Nuar[:,1]\n",
    "df = pd.DataFrame(Nuar,columns=['site','value'])\n",
    "df.to_csv('Training Sites and Occupancy/ch3_training.csv',index=False)"
   ]
  },
  {
   "cell_type": "code",
   "execution_count": null,
   "metadata": {},
   "outputs": [],
   "source": []
  },
  {
   "cell_type": "code",
   "execution_count": 24,
   "metadata": {},
   "outputs": [
    {
     "name": "stdout",
     "output_type": "stream",
     "text": [
      "(13784, 2)\n",
      "254\n"
     ]
    }
   ],
   "source": [
    "import numpy as np\n",
    "import csv\n",
    "import pandas as pd\n",
    "path_csv = \"Classified Chromosomes/ch4.csv\"  \n",
    "data = np.loadtxt(open(path_csv,\"rb\"),delimiter=\",\",skiprows=1,usecols=[2,3]) \n",
    "print(data.shape)\n",
    "num = 0\n",
    "for i in range(len(data)):\n",
    "    if data[i][1] >= 2.724:\n",
    "        num = num+1\n",
    "print(num)"
   ]
  },
  {
   "cell_type": "code",
   "execution_count": 25,
   "metadata": {},
   "outputs": [
    {
     "name": "stdout",
     "output_type": "stream",
     "text": [
      "(254, 2)\n",
      "(13530, 2)\n"
     ]
    }
   ],
   "source": [
    "high = data[0:254][:]\n",
    "print(high.shape)\n",
    "mid = data[254:13784][:]\n",
    "print(mid.shape)"
   ]
  },
  {
   "cell_type": "code",
   "execution_count": 26,
   "metadata": {},
   "outputs": [
    {
     "name": "stdout",
     "output_type": "stream",
     "text": [
      "(84, 2)\n",
      "(451, 2)\n"
     ]
    }
   ],
   "source": [
    "highx = np.zeros((int(254/3), 2))\n",
    "midx = np.zeros((int(13530/30), 2))\n",
    "print(highx.shape)\n",
    "print(midx.shape)\n",
    "for h in range(int(254/3)):\n",
    "    ht = h*3\n",
    "    highx[h][0] = high[ht][0]\n",
    "    highx[h][1] = high[ht][1]\n",
    "for m in range(int(13530/30)):\n",
    "    mt = m*30\n",
    "    midx[m][0] = mid[mt][0]\n",
    "    midx[m][1] = mid[mt][1]"
   ]
  },
  {
   "cell_type": "code",
   "execution_count": 27,
   "metadata": {},
   "outputs": [
    {
     "name": "stdout",
     "output_type": "stream",
     "text": [
      "(535, 2)\n"
     ]
    }
   ],
   "source": [
    "Nuar = np.concatenate([highx, midx])\n",
    "print(Nuar.shape)\n",
    "site = Nuar[:,0]\n",
    "level = Nuar[:,1]\n",
    "df = pd.DataFrame(Nuar,columns=['site','value'])\n",
    "df.to_csv('Training Sites and Occupancy/ch4_training.csv',index=False)"
   ]
  },
  {
   "cell_type": "code",
   "execution_count": null,
   "metadata": {},
   "outputs": [],
   "source": []
  },
  {
   "cell_type": "code",
   "execution_count": 28,
   "metadata": {},
   "outputs": [
    {
     "name": "stdout",
     "output_type": "stream",
     "text": [
      "(5150, 2)\n",
      "83\n"
     ]
    }
   ],
   "source": [
    "import numpy as np\n",
    "import csv\n",
    "import pandas as pd\n",
    "path_csv = \"Classified Chromosomes/ch5.csv\"  \n",
    "data = np.loadtxt(open(path_csv,\"rb\"),delimiter=\",\",skiprows=1,usecols=[2,3]) \n",
    "print(data.shape)\n",
    "num = 0\n",
    "for i in range(len(data)):\n",
    "    if data[i][1] >= 2.666:\n",
    "        num = num+1\n",
    "print(num)"
   ]
  },
  {
   "cell_type": "code",
   "execution_count": 29,
   "metadata": {},
   "outputs": [
    {
     "name": "stdout",
     "output_type": "stream",
     "text": [
      "(83, 2)\n",
      "(5067, 2)\n"
     ]
    }
   ],
   "source": [
    "high = data[0:83][:]\n",
    "print(high.shape)\n",
    "mid = data[83:5150][:]\n",
    "print(mid.shape)"
   ]
  },
  {
   "cell_type": "code",
   "execution_count": 30,
   "metadata": {},
   "outputs": [
    {
     "name": "stdout",
     "output_type": "stream",
     "text": [
      "(27, 2)\n",
      "(168, 2)\n"
     ]
    }
   ],
   "source": [
    "highx = np.zeros((int(83/3), 2))\n",
    "midx = np.zeros((int(5067/30), 2))\n",
    "print(highx.shape)\n",
    "print(midx.shape)\n",
    "for h in range(int(83/3)):\n",
    "    ht = h*3\n",
    "    highx[h][0] = high[ht][0]\n",
    "    highx[h][1] = high[ht][1]\n",
    "for m in range(int(5067/30)):\n",
    "    mt = m*30\n",
    "    midx[m][0] = mid[mt][0]\n",
    "    midx[m][1] = mid[mt][1]"
   ]
  },
  {
   "cell_type": "code",
   "execution_count": 31,
   "metadata": {},
   "outputs": [
    {
     "name": "stdout",
     "output_type": "stream",
     "text": [
      "(195, 2)\n"
     ]
    }
   ],
   "source": [
    "Nuar = np.concatenate([highx, midx])\n",
    "print(Nuar.shape)\n",
    "site = Nuar[:,0]\n",
    "level = Nuar[:,1]\n",
    "df = pd.DataFrame(Nuar,columns=['site','value'])\n",
    "df.to_csv('Training Sites and Occupancy/ch5_training.csv',index=False)"
   ]
  },
  {
   "cell_type": "code",
   "execution_count": null,
   "metadata": {},
   "outputs": [],
   "source": []
  },
  {
   "cell_type": "code",
   "execution_count": 32,
   "metadata": {},
   "outputs": [
    {
     "name": "stdout",
     "output_type": "stream",
     "text": [
      "(2364, 2)\n",
      "32\n"
     ]
    }
   ],
   "source": [
    "import numpy as np\n",
    "import csv\n",
    "import pandas as pd\n",
    "path_csv = \"Classified Chromosomes/ch6.csv\"  \n",
    "data = np.loadtxt(open(path_csv,\"rb\"),delimiter=\",\",skiprows=1,usecols=[2,3]) \n",
    "print(data.shape)\n",
    "num = 0\n",
    "for i in range(len(data)):\n",
    "    if data[i][1] >= 2.583:\n",
    "        num = num+1\n",
    "print(num)"
   ]
  },
  {
   "cell_type": "code",
   "execution_count": 33,
   "metadata": {},
   "outputs": [
    {
     "name": "stdout",
     "output_type": "stream",
     "text": [
      "(32, 2)\n",
      "(2332, 2)\n"
     ]
    }
   ],
   "source": [
    "high = data[0:32][:]\n",
    "print(high.shape)\n",
    "mid = data[32:2364][:]\n",
    "print(mid.shape)"
   ]
  },
  {
   "cell_type": "code",
   "execution_count": 34,
   "metadata": {},
   "outputs": [
    {
     "name": "stdout",
     "output_type": "stream",
     "text": [
      "(10, 2)\n",
      "(77, 2)\n"
     ]
    }
   ],
   "source": [
    "highx = np.zeros((int(32/3), 2))\n",
    "midx = np.zeros((int(2332/30), 2))\n",
    "print(highx.shape)\n",
    "print(midx.shape)\n",
    "for h in range(int(32/3)):\n",
    "    ht = h*3\n",
    "    highx[h][0] = high[ht][0]\n",
    "    highx[h][1] = high[ht][1]\n",
    "for m in range(int(2332/30)):\n",
    "    mt = m*30\n",
    "    midx[m][0] = mid[mt][0]\n",
    "    midx[m][1] = mid[mt][1]"
   ]
  },
  {
   "cell_type": "code",
   "execution_count": 35,
   "metadata": {},
   "outputs": [
    {
     "name": "stdout",
     "output_type": "stream",
     "text": [
      "(87, 2)\n"
     ]
    }
   ],
   "source": [
    "Nuar = np.concatenate([highx, midx])\n",
    "print(Nuar.shape)\n",
    "site = Nuar[:,0]\n",
    "level = Nuar[:,1]\n",
    "df = pd.DataFrame(Nuar,columns=['site','value'])\n",
    "df.to_csv('Training Sites and Occupancy/ch6_training.csv',index=False)"
   ]
  },
  {
   "cell_type": "code",
   "execution_count": null,
   "metadata": {},
   "outputs": [],
   "source": []
  },
  {
   "cell_type": "code",
   "execution_count": 36,
   "metadata": {},
   "outputs": [
    {
     "name": "stdout",
     "output_type": "stream",
     "text": [
      "(9833, 2)\n",
      "183\n"
     ]
    }
   ],
   "source": [
    "import numpy as np\n",
    "import csv\n",
    "import pandas as pd\n",
    "path_csv = \"Classified Chromosomes/ch7.csv\"  \n",
    "data = np.loadtxt(open(path_csv,\"rb\"),delimiter=\",\",skiprows=1,usecols=[2,3]) \n",
    "print(data.shape)\n",
    "num = 0\n",
    "for i in range(len(data)):\n",
    "    if data[i][1] >= 2.782:\n",
    "        num = num+1\n",
    "print(num)"
   ]
  },
  {
   "cell_type": "code",
   "execution_count": 37,
   "metadata": {},
   "outputs": [
    {
     "name": "stdout",
     "output_type": "stream",
     "text": [
      "(183, 2)\n",
      "(9650, 2)\n"
     ]
    }
   ],
   "source": [
    "high = data[0:183][:]\n",
    "print(high.shape)\n",
    "mid = data[183:9833][:]\n",
    "print(mid.shape)"
   ]
  },
  {
   "cell_type": "code",
   "execution_count": 38,
   "metadata": {},
   "outputs": [
    {
     "name": "stdout",
     "output_type": "stream",
     "text": [
      "(61, 2)\n",
      "(321, 2)\n"
     ]
    }
   ],
   "source": [
    "highx = np.zeros((int(183/3), 2))\n",
    "midx = np.zeros((int(9650/30), 2))\n",
    "print(highx.shape)\n",
    "print(midx.shape)\n",
    "for h in range(int(183/3)):\n",
    "    ht = h*3\n",
    "    highx[h][0] = high[ht][0]\n",
    "    highx[h][1] = high[ht][1]\n",
    "for m in range(int(9650/30)):\n",
    "    mt = m*30\n",
    "    midx[m][0] = mid[mt][0]\n",
    "    midx[m][1] = mid[mt][1]"
   ]
  },
  {
   "cell_type": "code",
   "execution_count": 39,
   "metadata": {},
   "outputs": [
    {
     "name": "stdout",
     "output_type": "stream",
     "text": [
      "(382, 2)\n"
     ]
    }
   ],
   "source": [
    "Nuar = np.concatenate([highx, midx])\n",
    "print(Nuar.shape)\n",
    "site = Nuar[:,0]\n",
    "level = Nuar[:,1]\n",
    "df = pd.DataFrame(Nuar,columns=['site','value'])\n",
    "df.to_csv('Training Sites and Occupancy/ch7_training.csv',index=False)"
   ]
  },
  {
   "cell_type": "code",
   "execution_count": null,
   "metadata": {},
   "outputs": [],
   "source": []
  },
  {
   "cell_type": "code",
   "execution_count": 40,
   "metadata": {},
   "outputs": [
    {
     "name": "stdout",
     "output_type": "stream",
     "text": [
      "(4846, 2)\n",
      "91\n"
     ]
    }
   ],
   "source": [
    "import numpy as np\n",
    "import csv\n",
    "import pandas as pd\n",
    "path_csv = \"Classified Chromosomes/ch8.csv\"  \n",
    "data = np.loadtxt(open(path_csv,\"rb\"),delimiter=\",\",skiprows=1,usecols=[2,3]) \n",
    "print(data.shape)\n",
    "num = 0\n",
    "for i in range(len(data)):\n",
    "    if data[i][1] >= 2.568:\n",
    "        num = num+1\n",
    "print(num)"
   ]
  },
  {
   "cell_type": "code",
   "execution_count": 41,
   "metadata": {},
   "outputs": [
    {
     "name": "stdout",
     "output_type": "stream",
     "text": [
      "(91, 2)\n",
      "(4755, 2)\n"
     ]
    }
   ],
   "source": [
    "high = data[0:91][:]\n",
    "print(high.shape)\n",
    "mid = data[91:4846][:]\n",
    "print(mid.shape)"
   ]
  },
  {
   "cell_type": "code",
   "execution_count": 42,
   "metadata": {},
   "outputs": [
    {
     "name": "stdout",
     "output_type": "stream",
     "text": [
      "(30, 2)\n",
      "(158, 2)\n"
     ]
    }
   ],
   "source": [
    "highx = np.zeros((int(91/3), 2))\n",
    "midx = np.zeros((int(4755/30), 2))\n",
    "print(highx.shape)\n",
    "print(midx.shape)\n",
    "for h in range(int(91/3)):\n",
    "    ht = h*3\n",
    "    highx[h][0] = high[ht][0]\n",
    "    highx[h][1] = high[ht][1]\n",
    "for m in range(int(4755/30)):\n",
    "    mt = m*30\n",
    "    midx[m][0] = mid[mt][0]\n",
    "    midx[m][1] = mid[mt][1]"
   ]
  },
  {
   "cell_type": "code",
   "execution_count": 43,
   "metadata": {},
   "outputs": [
    {
     "name": "stdout",
     "output_type": "stream",
     "text": [
      "(188, 2)\n"
     ]
    }
   ],
   "source": [
    "Nuar = np.concatenate([highx, midx])\n",
    "print(Nuar.shape)\n",
    "site = Nuar[:,0]\n",
    "level = Nuar[:,1]\n",
    "df = pd.DataFrame(Nuar,columns=['site','value'])\n",
    "df.to_csv('Training Sites and Occupancy/ch8_training.csv',index=False)"
   ]
  },
  {
   "cell_type": "code",
   "execution_count": null,
   "metadata": {},
   "outputs": [],
   "source": []
  },
  {
   "cell_type": "code",
   "execution_count": 44,
   "metadata": {},
   "outputs": [
    {
     "name": "stdout",
     "output_type": "stream",
     "text": [
      "(3824, 2)\n",
      "53\n"
     ]
    }
   ],
   "source": [
    "import numpy as np\n",
    "import csv\n",
    "import pandas as pd\n",
    "path_csv = \"Classified Chromosomes/ch9.csv\"  \n",
    "data = np.loadtxt(open(path_csv,\"rb\"),delimiter=\",\",skiprows=1,usecols=[2,3]) \n",
    "print(data.shape)\n",
    "num = 0\n",
    "for i in range(len(data)):\n",
    "    if data[i][1] >= 2.619:\n",
    "        num = num+1\n",
    "print(num)"
   ]
  },
  {
   "cell_type": "code",
   "execution_count": 45,
   "metadata": {},
   "outputs": [
    {
     "name": "stdout",
     "output_type": "stream",
     "text": [
      "(53, 2)\n",
      "(3771, 2)\n"
     ]
    }
   ],
   "source": [
    "high = data[0:53][:]\n",
    "print(high.shape)\n",
    "mid = data[53:3824][:]\n",
    "print(mid.shape)"
   ]
  },
  {
   "cell_type": "code",
   "execution_count": 46,
   "metadata": {},
   "outputs": [
    {
     "name": "stdout",
     "output_type": "stream",
     "text": [
      "(17, 2)\n",
      "(125, 2)\n"
     ]
    }
   ],
   "source": [
    "highx = np.zeros((int(53/3), 2))\n",
    "midx = np.zeros((int(3771/30), 2))\n",
    "print(highx.shape)\n",
    "print(midx.shape)\n",
    "for h in range(int(53/3)):\n",
    "    ht = h*3\n",
    "    highx[h][0] = high[ht][0]\n",
    "    highx[h][1] = high[ht][1]\n",
    "for m in range(int(3771/30)):\n",
    "    mt = m*30\n",
    "    midx[m][0] = mid[mt][0]\n",
    "    midx[m][1] = mid[mt][1]"
   ]
  },
  {
   "cell_type": "code",
   "execution_count": 47,
   "metadata": {},
   "outputs": [
    {
     "name": "stdout",
     "output_type": "stream",
     "text": [
      "(142, 2)\n"
     ]
    }
   ],
   "source": [
    "Nuar = np.concatenate([highx, midx])\n",
    "print(Nuar.shape)\n",
    "site = Nuar[:,0]\n",
    "level = Nuar[:,1]\n",
    "df = pd.DataFrame(Nuar,columns=['site','value'])\n",
    "df.to_csv('Training Sites and Occupancy/ch9_training.csv',index=False)"
   ]
  },
  {
   "cell_type": "code",
   "execution_count": null,
   "metadata": {},
   "outputs": [],
   "source": []
  },
  {
   "cell_type": "code",
   "execution_count": 48,
   "metadata": {},
   "outputs": [
    {
     "name": "stdout",
     "output_type": "stream",
     "text": [
      "(6595, 2)\n",
      "109\n"
     ]
    }
   ],
   "source": [
    "import numpy as np\n",
    "import csv\n",
    "import pandas as pd\n",
    "path_csv = \"Classified Chromosomes/ch10.csv\"  \n",
    "data = np.loadtxt(open(path_csv,\"rb\"),delimiter=\",\",skiprows=1,usecols=[2,3]) \n",
    "print(data.shape)\n",
    "num = 0\n",
    "for i in range(len(data)):\n",
    "    if data[i][1] >= 2.692:\n",
    "        num = num+1\n",
    "print(num)"
   ]
  },
  {
   "cell_type": "code",
   "execution_count": 49,
   "metadata": {},
   "outputs": [
    {
     "name": "stdout",
     "output_type": "stream",
     "text": [
      "(109, 2)\n",
      "(6486, 2)\n"
     ]
    }
   ],
   "source": [
    "high = data[0:109][:]\n",
    "print(high.shape)\n",
    "mid = data[109:6595][:]\n",
    "print(mid.shape)"
   ]
  },
  {
   "cell_type": "code",
   "execution_count": 50,
   "metadata": {},
   "outputs": [
    {
     "name": "stdout",
     "output_type": "stream",
     "text": [
      "(36, 2)\n",
      "(216, 2)\n"
     ]
    }
   ],
   "source": [
    "highx = np.zeros((int(109/3), 2))\n",
    "midx = np.zeros((int(6486/30), 2))\n",
    "print(highx.shape)\n",
    "print(midx.shape)\n",
    "for h in range(int(109/3)):\n",
    "    ht = h*3\n",
    "    highx[h][0] = high[ht][0]\n",
    "    highx[h][1] = high[ht][1]\n",
    "for m in range(int(6486/30)):\n",
    "    mt = m*30\n",
    "    midx[m][0] = mid[mt][0]\n",
    "    midx[m][1] = mid[mt][1]"
   ]
  },
  {
   "cell_type": "code",
   "execution_count": 51,
   "metadata": {},
   "outputs": [
    {
     "name": "stdout",
     "output_type": "stream",
     "text": [
      "(252, 2)\n"
     ]
    }
   ],
   "source": [
    "Nuar = np.concatenate([highx, midx])\n",
    "print(Nuar.shape)\n",
    "site = Nuar[:,0]\n",
    "level = Nuar[:,1]\n",
    "df = pd.DataFrame(Nuar,columns=['site','value'])\n",
    "df.to_csv('Training Sites and Occupancy/ch10_training.csv',index=False)"
   ]
  },
  {
   "cell_type": "code",
   "execution_count": null,
   "metadata": {},
   "outputs": [],
   "source": []
  },
  {
   "cell_type": "code",
   "execution_count": 52,
   "metadata": {},
   "outputs": [
    {
     "name": "stdout",
     "output_type": "stream",
     "text": [
      "(6326, 2)\n",
      "136\n"
     ]
    }
   ],
   "source": [
    "import numpy as np\n",
    "import csv\n",
    "import pandas as pd\n",
    "path_csv = \"Classified Chromosomes/ch11.csv\"  \n",
    "data = np.loadtxt(open(path_csv,\"rb\"),delimiter=\",\",skiprows=1,usecols=[2,3]) \n",
    "print(data.shape)\n",
    "num = 0\n",
    "for i in range(len(data)):\n",
    "    if data[i][1] >= 2.650:\n",
    "        num = num+1\n",
    "print(num)"
   ]
  },
  {
   "cell_type": "code",
   "execution_count": 53,
   "metadata": {},
   "outputs": [
    {
     "name": "stdout",
     "output_type": "stream",
     "text": [
      "(136, 2)\n",
      "(6190, 2)\n"
     ]
    }
   ],
   "source": [
    "high = data[0:136][:]\n",
    "print(high.shape)\n",
    "mid = data[136:6326][:]\n",
    "print(mid.shape)"
   ]
  },
  {
   "cell_type": "code",
   "execution_count": 54,
   "metadata": {},
   "outputs": [
    {
     "name": "stdout",
     "output_type": "stream",
     "text": [
      "(45, 2)\n",
      "(206, 2)\n"
     ]
    }
   ],
   "source": [
    "highx = np.zeros((int(136/3), 2))\n",
    "midx = np.zeros((int(6190/30), 2))\n",
    "print(highx.shape)\n",
    "print(midx.shape)\n",
    "for h in range(int(136/3)):\n",
    "    ht = h*3\n",
    "    highx[h][0] = high[ht][0]\n",
    "    highx[h][1] = high[ht][1]\n",
    "for m in range(int(6190/30)):\n",
    "    mt = m*30\n",
    "    midx[m][0] = mid[mt][0]\n",
    "    midx[m][1] = mid[mt][1]"
   ]
  },
  {
   "cell_type": "code",
   "execution_count": 55,
   "metadata": {},
   "outputs": [
    {
     "name": "stdout",
     "output_type": "stream",
     "text": [
      "(251, 2)\n"
     ]
    }
   ],
   "source": [
    "Nuar = np.concatenate([highx, midx])\n",
    "print(Nuar.shape)\n",
    "site = Nuar[:,0]\n",
    "level = Nuar[:,1]\n",
    "df = pd.DataFrame(Nuar,columns=['site','value'])\n",
    "df.to_csv('Training Sites and Occupancy/ch11_training.csv',index=False)"
   ]
  },
  {
   "cell_type": "code",
   "execution_count": null,
   "metadata": {},
   "outputs": [],
   "source": []
  },
  {
   "cell_type": "code",
   "execution_count": 56,
   "metadata": {},
   "outputs": [
    {
     "name": "stdout",
     "output_type": "stream",
     "text": [
      "(9319, 2)\n",
      "161\n"
     ]
    }
   ],
   "source": [
    "import numpy as np\n",
    "import csv\n",
    "import pandas as pd\n",
    "path_csv = \"Classified Chromosomes/ch12.csv\"  \n",
    "data = np.loadtxt(open(path_csv,\"rb\"),delimiter=\",\",skiprows=1,usecols=[2,3]) \n",
    "print(data.shape)\n",
    "num = 0\n",
    "for i in range(len(data)):\n",
    "    if data[i][1] >= 2.907:\n",
    "        num = num+1\n",
    "print(num)"
   ]
  },
  {
   "cell_type": "code",
   "execution_count": 57,
   "metadata": {},
   "outputs": [
    {
     "name": "stdout",
     "output_type": "stream",
     "text": [
      "(161, 2)\n",
      "(9158, 2)\n"
     ]
    }
   ],
   "source": [
    "high = data[0:161][:]\n",
    "print(high.shape)\n",
    "mid = data[161:9319][:]\n",
    "print(mid.shape)"
   ]
  },
  {
   "cell_type": "code",
   "execution_count": 58,
   "metadata": {},
   "outputs": [
    {
     "name": "stdout",
     "output_type": "stream",
     "text": [
      "(53, 2)\n",
      "(305, 2)\n"
     ]
    }
   ],
   "source": [
    "highx = np.zeros((int(161/3), 2))\n",
    "midx = np.zeros((int(9158/30), 2))\n",
    "print(highx.shape)\n",
    "print(midx.shape)\n",
    "for h in range(int(161/3)):\n",
    "    ht = h*3\n",
    "    highx[h][0] = high[ht][0]\n",
    "    highx[h][1] = high[ht][1]\n",
    "for m in range(int(9158/30)):\n",
    "    mt = m*30\n",
    "    midx[m][0] = mid[mt][0]\n",
    "    midx[m][1] = mid[mt][1]"
   ]
  },
  {
   "cell_type": "code",
   "execution_count": 59,
   "metadata": {},
   "outputs": [
    {
     "name": "stdout",
     "output_type": "stream",
     "text": [
      "(358, 2)\n"
     ]
    }
   ],
   "source": [
    "Nuar = np.concatenate([highx, midx])\n",
    "print(Nuar.shape)\n",
    "site = Nuar[:,0]\n",
    "level = Nuar[:,1]\n",
    "df = pd.DataFrame(Nuar,columns=['site','value'])\n",
    "df.to_csv('Training Sites and Occupancy/ch12_training.csv',index=False)"
   ]
  },
  {
   "cell_type": "code",
   "execution_count": null,
   "metadata": {},
   "outputs": [],
   "source": []
  },
  {
   "cell_type": "code",
   "execution_count": 60,
   "metadata": {},
   "outputs": [
    {
     "name": "stdout",
     "output_type": "stream",
     "text": [
      "(8482, 2)\n",
      "163\n"
     ]
    }
   ],
   "source": [
    "import numpy as np\n",
    "import csv\n",
    "import pandas as pd\n",
    "path_csv = \"Classified Chromosomes/ch13.csv\"  \n",
    "data = np.loadtxt(open(path_csv,\"rb\"),delimiter=\",\",skiprows=1,usecols=[2,3]) \n",
    "print(data.shape)\n",
    "num = 0\n",
    "for i in range(len(data)):\n",
    "    if data[i][1] >= 2.787:\n",
    "        num = num+1\n",
    "print(num)"
   ]
  },
  {
   "cell_type": "code",
   "execution_count": 61,
   "metadata": {},
   "outputs": [
    {
     "name": "stdout",
     "output_type": "stream",
     "text": [
      "(163, 2)\n",
      "(8319, 2)\n"
     ]
    }
   ],
   "source": [
    "high = data[0:163][:]\n",
    "print(high.shape)\n",
    "mid = data[163:8482][:]\n",
    "print(mid.shape)"
   ]
  },
  {
   "cell_type": "code",
   "execution_count": 62,
   "metadata": {},
   "outputs": [
    {
     "name": "stdout",
     "output_type": "stream",
     "text": [
      "(54, 2)\n",
      "(277, 2)\n"
     ]
    }
   ],
   "source": [
    "highx = np.zeros((int(163/3), 2))\n",
    "midx = np.zeros((int(8319/30), 2))\n",
    "print(highx.shape)\n",
    "print(midx.shape)\n",
    "for h in range(int(163/3)):\n",
    "    ht = h*3\n",
    "    highx[h][0] = high[ht][0]\n",
    "    highx[h][1] = high[ht][1]\n",
    "for m in range(int(8319/30)):\n",
    "    mt = m*30\n",
    "    midx[m][0] = mid[mt][0]\n",
    "    midx[m][1] = mid[mt][1]"
   ]
  },
  {
   "cell_type": "code",
   "execution_count": 63,
   "metadata": {},
   "outputs": [
    {
     "name": "stdout",
     "output_type": "stream",
     "text": [
      "(331, 2)\n"
     ]
    }
   ],
   "source": [
    "Nuar = np.concatenate([highx, midx])\n",
    "print(Nuar.shape)\n",
    "site = Nuar[:,0]\n",
    "level = Nuar[:,1]\n",
    "df = pd.DataFrame(Nuar,columns=['site','value'])\n",
    "df.to_csv('Training Sites and Occupancy/ch13_training.csv',index=False)"
   ]
  },
  {
   "cell_type": "code",
   "execution_count": null,
   "metadata": {},
   "outputs": [],
   "source": []
  },
  {
   "cell_type": "code",
   "execution_count": 64,
   "metadata": {},
   "outputs": [
    {
     "name": "stdout",
     "output_type": "stream",
     "text": [
      "(7064, 2)\n",
      "114\n"
     ]
    }
   ],
   "source": [
    "import numpy as np\n",
    "import csv\n",
    "import pandas as pd\n",
    "path_csv = \"Classified Chromosomes/ch14.csv\"  \n",
    "data = np.loadtxt(open(path_csv,\"rb\"),delimiter=\",\",skiprows=1,usecols=[2,3]) \n",
    "print(data.shape)\n",
    "num = 0\n",
    "for i in range(len(data)):\n",
    "    if data[i][1] >= 2.763:\n",
    "        num = num+1\n",
    "print(num)"
   ]
  },
  {
   "cell_type": "code",
   "execution_count": 65,
   "metadata": {},
   "outputs": [
    {
     "name": "stdout",
     "output_type": "stream",
     "text": [
      "(114, 2)\n",
      "(6950, 2)\n"
     ]
    }
   ],
   "source": [
    "high = data[0:114][:]\n",
    "print(high.shape)\n",
    "mid = data[114:7064][:]\n",
    "print(mid.shape)"
   ]
  },
  {
   "cell_type": "code",
   "execution_count": 66,
   "metadata": {},
   "outputs": [
    {
     "name": "stdout",
     "output_type": "stream",
     "text": [
      "(38, 2)\n",
      "(231, 2)\n"
     ]
    }
   ],
   "source": [
    "highx = np.zeros((int(114/3), 2))\n",
    "midx = np.zeros((int(6950/30), 2))\n",
    "print(highx.shape)\n",
    "print(midx.shape)\n",
    "for h in range(int(114/3)):\n",
    "    ht = h*3\n",
    "    highx[h][0] = high[ht][0]\n",
    "    highx[h][1] = high[ht][1]\n",
    "for m in range(int(6950/30)):\n",
    "    mt = m*30\n",
    "    midx[m][0] = mid[mt][0]\n",
    "    midx[m][1] = mid[mt][1]"
   ]
  },
  {
   "cell_type": "code",
   "execution_count": 67,
   "metadata": {},
   "outputs": [
    {
     "name": "stdout",
     "output_type": "stream",
     "text": [
      "(269, 2)\n"
     ]
    }
   ],
   "source": [
    "Nuar = np.concatenate([highx, midx])\n",
    "print(Nuar.shape)\n",
    "site = Nuar[:,0]\n",
    "level = Nuar[:,1]\n",
    "df = pd.DataFrame(Nuar,columns=['site','value'])\n",
    "df.to_csv('Training Sites and Occupancy/ch14_training.csv',index=False)"
   ]
  },
  {
   "cell_type": "code",
   "execution_count": null,
   "metadata": {},
   "outputs": [],
   "source": []
  },
  {
   "cell_type": "code",
   "execution_count": 68,
   "metadata": {},
   "outputs": [
    {
     "name": "stdout",
     "output_type": "stream",
     "text": [
      "(9974, 2)\n",
      "192\n"
     ]
    }
   ],
   "source": [
    "import numpy as np\n",
    "import csv\n",
    "import pandas as pd\n",
    "path_csv = \"Classified Chromosomes/ch15.csv\"  \n",
    "data = np.loadtxt(open(path_csv,\"rb\"),delimiter=\",\",skiprows=1,usecols=[2,3]) \n",
    "print(data.shape)\n",
    "num = 0\n",
    "for i in range(len(data)):\n",
    "    if data[i][1] >= 2.680:\n",
    "        num = num+1\n",
    "print(num)"
   ]
  },
  {
   "cell_type": "code",
   "execution_count": 69,
   "metadata": {},
   "outputs": [
    {
     "name": "stdout",
     "output_type": "stream",
     "text": [
      "(192, 2)\n",
      "(9782, 2)\n"
     ]
    }
   ],
   "source": [
    "high = data[0:192][:]\n",
    "print(high.shape)\n",
    "mid = data[192:9974][:]\n",
    "print(mid.shape)"
   ]
  },
  {
   "cell_type": "code",
   "execution_count": 70,
   "metadata": {},
   "outputs": [
    {
     "name": "stdout",
     "output_type": "stream",
     "text": [
      "(64, 2)\n",
      "(326, 2)\n"
     ]
    }
   ],
   "source": [
    "highx = np.zeros((int(192/3), 2))\n",
    "midx = np.zeros((int(9782/30), 2))\n",
    "print(highx.shape)\n",
    "print(midx.shape)\n",
    "for h in range(int(192/3)):\n",
    "    ht = h*3\n",
    "    highx[h][0] = high[ht][0]\n",
    "    highx[h][1] = high[ht][1]\n",
    "for m in range(int(9782/30)):\n",
    "    mt = m*30\n",
    "    midx[m][0] = mid[mt][0]\n",
    "    midx[m][1] = mid[mt][1]"
   ]
  },
  {
   "cell_type": "code",
   "execution_count": 71,
   "metadata": {},
   "outputs": [
    {
     "name": "stdout",
     "output_type": "stream",
     "text": [
      "(390, 2)\n"
     ]
    }
   ],
   "source": [
    "Nuar = np.concatenate([highx, midx])\n",
    "print(Nuar.shape)\n",
    "site = Nuar[:,0]\n",
    "level = Nuar[:,1]\n",
    "df = pd.DataFrame(Nuar,columns=['site','value'])\n",
    "df.to_csv('Training Sites and Occupancy/ch15_training.csv',index=False)"
   ]
  },
  {
   "cell_type": "code",
   "execution_count": null,
   "metadata": {},
   "outputs": [],
   "source": []
  },
  {
   "cell_type": "code",
   "execution_count": 72,
   "metadata": {},
   "outputs": [
    {
     "name": "stdout",
     "output_type": "stream",
     "text": [
      "(8569, 2)\n",
      "198\n"
     ]
    }
   ],
   "source": [
    "import numpy as np\n",
    "import csv\n",
    "import pandas as pd\n",
    "path_csv = \"Classified Chromosomes/ch16.csv\"  \n",
    "data = np.loadtxt(open(path_csv,\"rb\"),delimiter=\",\",skiprows=1,usecols=[2,3]) \n",
    "print(data.shape)\n",
    "num = 0\n",
    "for i in range(len(data)):\n",
    "    if data[i][1] >= 2.611:\n",
    "        num = num+1\n",
    "print(num)"
   ]
  },
  {
   "cell_type": "code",
   "execution_count": 73,
   "metadata": {},
   "outputs": [
    {
     "name": "stdout",
     "output_type": "stream",
     "text": [
      "(198, 2)\n",
      "(8371, 2)\n"
     ]
    }
   ],
   "source": [
    "high = data[0:198][:]\n",
    "print(high.shape)\n",
    "mid = data[198:8569][:]\n",
    "print(mid.shape)"
   ]
  },
  {
   "cell_type": "code",
   "execution_count": 74,
   "metadata": {},
   "outputs": [
    {
     "name": "stdout",
     "output_type": "stream",
     "text": [
      "(66, 2)\n",
      "(279, 2)\n"
     ]
    }
   ],
   "source": [
    "highx = np.zeros((int(198/3), 2))\n",
    "midx = np.zeros((int(8371/30), 2))\n",
    "print(highx.shape)\n",
    "print(midx.shape)\n",
    "for h in range(int(198/3)):\n",
    "    ht = h*3\n",
    "    highx[h][0] = high[ht][0]\n",
    "    highx[h][1] = high[ht][1]\n",
    "for m in range(int(8371/30)):\n",
    "    mt = m*30\n",
    "    midx[m][0] = mid[mt][0]\n",
    "    midx[m][1] = mid[mt][1]"
   ]
  },
  {
   "cell_type": "code",
   "execution_count": 75,
   "metadata": {},
   "outputs": [
    {
     "name": "stdout",
     "output_type": "stream",
     "text": [
      "(345, 2)\n"
     ]
    }
   ],
   "source": [
    "Nuar = np.concatenate([highx, midx])\n",
    "print(Nuar.shape)\n",
    "site = Nuar[:,0]\n",
    "level = Nuar[:,1]\n",
    "df = pd.DataFrame(Nuar,columns=['site','value'])\n",
    "df.to_csv('Training Sites and Occupancy/ch16_training.csv',index=False)"
   ]
  },
  {
   "cell_type": "code",
   "execution_count": null,
   "metadata": {},
   "outputs": [],
   "source": [
    "Number of Training Sites:  66  289  91  535  195  87  382  188  142  252  251  358  331  269  390  345"
   ]
  },
  {
   "cell_type": "code",
   "execution_count": null,
   "metadata": {},
   "outputs": [],
   "source": []
  },
  {
   "cell_type": "code",
   "execution_count": null,
   "metadata": {},
   "outputs": [],
   "source": [
    "Organize the Labels of the Training Matrix"
   ]
  },
  {
   "cell_type": "code",
   "execution_count": 76,
   "metadata": {},
   "outputs": [],
   "source": [
    "import numpy as np\n",
    "import pandas as pd\n",
    "import h5py"
   ]
  },
  {
   "cell_type": "code",
   "execution_count": 77,
   "metadata": {},
   "outputs": [
    {
     "name": "stdout",
     "output_type": "stream",
     "text": [
      "(66,)\n",
      "(289,)\n",
      "(91,)\n",
      "(535,)\n",
      "(195,)\n",
      "(87,)\n",
      "(382,)\n",
      "(188,)\n",
      "(142,)\n",
      "(252,)\n",
      "(251,)\n",
      "(358,)\n",
      "(331,)\n",
      "(269,)\n",
      "(390,)\n",
      "(345,)\n",
      "(4171,)\n",
      "(3919,)\n"
     ]
    }
   ],
   "source": [
    "f1 = np.loadtxt('Training Sites and Occupancy/ch1_training.csv',delimiter=\",\", skiprows=1, usecols=[1]) \n",
    "print(f1.shape)\n",
    "f2 = np.loadtxt('Training Sites and Occupancy/ch2_training.csv',delimiter=\",\", skiprows=1, usecols=[1]) \n",
    "print(f2.shape)\n",
    "f3 = np.loadtxt('Training Sites and Occupancy/ch3_training.csv',delimiter=\",\", skiprows=1, usecols=[1]) \n",
    "print(f3.shape)\n",
    "f4 = np.loadtxt('Training Sites and Occupancy/ch4_training.csv',delimiter=\",\", skiprows=1, usecols=[1]) \n",
    "print(f4.shape)\n",
    "f5 = np.loadtxt('Training Sites and Occupancy/ch5_training.csv',delimiter=\",\", skiprows=1, usecols=[1]) \n",
    "print(f5.shape)\n",
    "f6 = np.loadtxt('Training Sites and Occupancy/ch6_training.csv',delimiter=\",\", skiprows=1, usecols=[1]) \n",
    "print(f6.shape)\n",
    "f7 = np.loadtxt('Training Sites and Occupancy/ch7_training.csv',delimiter=\",\", skiprows=1, usecols=[1]) \n",
    "print(f7.shape)\n",
    "f8 = np.loadtxt('Training Sites and Occupancy/ch8_training.csv',delimiter=\",\", skiprows=1, usecols=[1]) \n",
    "print(f8.shape)\n",
    "f9 = np.loadtxt('Training Sites and Occupancy/ch9_training.csv',delimiter=\",\", skiprows=1, usecols=[1]) \n",
    "print(f9.shape)\n",
    "f10 = np.loadtxt('Training Sites and Occupancy/ch10_training.csv',delimiter=\",\", skiprows=1, usecols=[1]) \n",
    "print(f10.shape)\n",
    "f11 = np.loadtxt('Training Sites and Occupancy/ch11_training.csv',delimiter=\",\", skiprows=1, usecols=[1]) \n",
    "print(f11.shape)\n",
    "f12 = np.loadtxt('Training Sites and Occupancy/ch12_training.csv',delimiter=\",\", skiprows=1, usecols=[1]) \n",
    "print(f12.shape)\n",
    "f13 = np.loadtxt('Training Sites and Occupancy/ch13_training.csv',delimiter=\",\", skiprows=1, usecols=[1]) \n",
    "print(f13.shape)\n",
    "f14 = np.loadtxt('Training Sites and Occupancy/ch14_training.csv',delimiter=\",\", skiprows=1, usecols=[1]) \n",
    "print(f14.shape)\n",
    "f15 = np.loadtxt('Training Sites and Occupancy/ch15_training.csv',delimiter=\",\", skiprows=1, usecols=[1]) \n",
    "print(f15.shape)\n",
    "f16 = np.loadtxt('Training Sites and Occupancy/ch16_training.csv',delimiter=\",\", skiprows=1, usecols=[1]) \n",
    "print(f16.shape)\n",
    "level = np.hstack((f1,f2,f3,f4,f5,f6,f7,f8,f9,f10,f11,f12,f13,f14,f15,f16)) \n",
    "print(level.shape)\n",
    "level_no10 = np.hstack((f1,f2,f3,f4,f5,f6,f7,f8,f9,f11,f12,f13,f14,f15,f16)) \n",
    "print(level_no10.shape)\n",
    "f = h5py.File('Training Sites and Occupancy/Training Labels.h5', 'w')\n",
    "f.create_dataset('level', data=level)\n",
    "f.close()\n",
    "f = h5py.File('Training Sites and Occupancy/Training Labels(no10).h5', 'w')\n",
    "f.create_dataset('level', data=level_no10)\n",
    "f.close()"
   ]
  },
  {
   "cell_type": "code",
   "execution_count": null,
   "metadata": {},
   "outputs": [],
   "source": []
  }
 ],
 "metadata": {
  "kernelspec": {
   "display_name": "Python 3 (ipykernel)",
   "language": "python",
   "name": "python3"
  },
  "language_info": {
   "codemirror_mode": {
    "name": "ipython",
    "version": 3
   },
   "file_extension": ".py",
   "mimetype": "text/x-python",
   "name": "python",
   "nbconvert_exporter": "python",
   "pygments_lexer": "ipython3",
   "version": "3.12.4"
  }
 },
 "nbformat": 4,
 "nbformat_minor": 4
}
