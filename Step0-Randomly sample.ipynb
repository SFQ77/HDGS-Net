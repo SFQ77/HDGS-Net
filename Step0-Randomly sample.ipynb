{
 "cells": [
  {
   "cell_type": "raw",
   "id": "38c09e18-ce0d-4043-be83-3a4109ef16e7",
   "metadata": {},
   "source": [
    "Because the data volume used in the entire project is too large and there are size limitations for uploading files on the GitHub platform, \n",
    "only 1% of the data from the genome occupancy data is randomly sampled as demonstration data. \n",
    "Therefore, the code presented here is only to give users a general idea and does not need to be run. \n",
    "The original data is either not uploaded or is subject to upload restrictions."
   ]
  },
  {
   "cell_type": "code",
   "execution_count": null,
   "id": "da8193a7-1fa6-449d-aa19-2f97641073be",
   "metadata": {},
   "outputs": [],
   "source": []
  },
  {
   "cell_type": "code",
   "execution_count": 1,
   "id": "3948311e-13f2-44b9-b33e-445e42743eac",
   "metadata": {},
   "outputs": [
    {
     "name": "stdout",
     "output_type": "stream",
     "text": [
      "Reading data: dMean Occupancy/InVitro_dMean.txt\n",
      "Original data: 10774972 rows\n",
      "Chromosome 1: Original 168234 rows -> Sampled 1682 rows\n",
      "Chromosome 10: Original 659529 rows -> Sampled 6595 rows\n",
      "Chromosome 11: Original 632626 rows -> Sampled 6326 rows\n",
      "Chromosome 12: Original 931931 rows -> Sampled 9319 rows\n",
      "Chromosome 13: Original 848262 rows -> Sampled 8482 rows\n",
      "Chromosome 14: Original 706446 rows -> Sampled 7064 rows\n",
      "Chromosome 15: Original 997401 rows -> Sampled 9974 rows\n",
      "Chromosome 16: Original 856960 rows -> Sampled 8569 rows\n",
      "Chromosome 2: Original 748431 rows -> Sampled 7484 rows\n",
      "Chromosome 3: Original 244966 rows -> Sampled 2449 rows\n",
      "Chromosome 4: Original 1378420 rows -> Sampled 13784 rows\n",
      "Chromosome 5: Original 515003 rows -> Sampled 5150 rows\n",
      "Chromosome 6: Original 236402 rows -> Sampled 2364 rows\n",
      "Chromosome 7: Original 983305 rows -> Sampled 9833 rows\n",
      "Chromosome 8: Original 484641 rows -> Sampled 4846 rows\n",
      "Chromosome 9: Original 382415 rows -> Sampled 3824 rows\n",
      "Saving sampled data to: dMean Occupancy/InVitro_dMean_sampled.txt\n",
      "Processing complete! Total sampled data: 107745 rows\n"
     ]
    }
   ],
   "source": [
    "import pandas as pd\n",
    "import numpy as np\n",
    "from pathlib import Path\n",
    "\n",
    "# Read data\n",
    "input_file = \"dMean Occupancy/InVitro_dMean.txt\"\n",
    "output_file = \"dMean Occupancy/InVitro_dMean_sampled.txt\"\n",
    "\n",
    "print(f\"Reading data: {input_file}\")\n",
    "df = pd.read_csv(input_file, sep='\\t', header=None, \n",
    "                 names=['Chromosome', 'Position', 'Occupancy'])\n",
    "\n",
    "print(f\"Original data: {len(df)} rows\")\n",
    "\n",
    "# Group by chromosome and perform random sampling\n",
    "sampled_data = []\n",
    "chromosomes = df['Chromosome'].unique()\n",
    "\n",
    "for chrom in chromosomes:\n",
    "    # Filter data for the current chromosome\n",
    "    chrom_data = df[df['Chromosome'] == chrom]\n",
    "    \n",
    "    # Calculate 1% sample size\n",
    "    sample_size = max(1, int(len(chrom_data) * 0.01))  \n",
    "    \n",
    "    # Random sampling\n",
    "    sampled_chrom = chrom_data.sample(n=sample_size, random_state=42)\n",
    "    sampled_data.append(sampled_chrom)\n",
    "    \n",
    "    print(f\"Chromosome {chrom}: Original {len(chrom_data)} rows -> Sampled {len(sampled_chrom)} rows\")\n",
    "\n",
    "# Combine sampling results\n",
    "sampled_df = pd.concat(sampled_data, ignore_index=True)\n",
    "\n",
    "# Save results\n",
    "print(f\"Saving sampled data to: {output_file}\")\n",
    "sampled_df.to_csv(output_file, sep='\\t', na_rep='nan', header=False, index=False)\n",
    "\n",
    "print(f\"Processing complete! Total sampled data: {len(sampled_df)} rows\")"
   ]
  },
  {
   "cell_type": "code",
   "execution_count": null,
   "id": "e3fff2aa-540f-4de8-bad0-2b9bbff620ef",
   "metadata": {},
   "outputs": [],
   "source": []
  }
 ],
 "metadata": {
  "kernelspec": {
   "display_name": "Python 3 (ipykernel)",
   "language": "python",
   "name": "python3"
  },
  "language_info": {
   "codemirror_mode": {
    "name": "ipython",
    "version": 3
   },
   "file_extension": ".py",
   "mimetype": "text/x-python",
   "name": "python",
   "nbconvert_exporter": "python",
   "pygments_lexer": "ipython3",
   "version": "3.12.4"
  }
 },
 "nbformat": 4,
 "nbformat_minor": 5
}
