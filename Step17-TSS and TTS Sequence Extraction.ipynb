{
 "cells": [
  {
   "cell_type": "raw",
   "id": "52aed46a-b0b1-4f28-9877-674630d897c6",
   "metadata": {},
   "source": [
    "Process the DNA sequences in TSS-TTS, extract the middle 147 base pairs of each sequence,\n",
    "and randomly sample 5% of these segments to save into a new file."
   ]
  },
  {
   "cell_type": "code",
   "execution_count": null,
   "id": "ab0f4c01-0fbe-46cb-b246-1171dc780721",
   "metadata": {},
   "outputs": [],
   "source": []
  },
  {
   "cell_type": "code",
   "execution_count": 1,
   "id": "0bbca733-076d-4cbd-841b-40e7118fc0c8",
   "metadata": {},
   "outputs": [
    {
     "name": "stderr",
     "output_type": "stream",
     "text": [
      "Processing and sampling files: 100%|██████████████████████████████████████████████████| 24/24 [00:00<00:00, 428.75it/s]\n"
     ]
    }
   ],
   "source": [
    "import os\n",
    "import random\n",
    "from tqdm import tqdm\n",
    "\n",
    "def process_and_sample_sequences(input_file, output_file, sample_rate=0.05):\n",
    "    \"\"\"\n",
    "    Process DNA sequences from an input file, extract a 147 bp segment centered around the middle of each sequence,\n",
    "    randomly sample a specified percentage of these segments, and save the sampled segments to an output file.\n",
    "\n",
    "    Parameters:\n",
    "    input_file (str): Path to the input file containing DNA sequences.\n",
    "    output_file (str): Path to the output file where the sampled sequences will be saved.\n",
    "    sample_rate (float): The percentage of sequences to sample (default is 1%).\n",
    "    \"\"\"\n",
    "    extracted_sequences = []\n",
    "    \n",
    "    # Step 1: Extract 147 bp segments from the input file\n",
    "    with open(input_file, 'r') as infile:\n",
    "        for line_number, line in enumerate(infile, 1):\n",
    "            sequence = line.strip()\n",
    "            if not sequence:\n",
    "                continue\n",
    "            if len(sequence) != 203:\n",
    "                print(f\"Warning: Line {line_number} sequence length is not 203bp, skipping this sequence: {sequence}\")\n",
    "                continue\n",
    "            center_index = len(sequence) // 2\n",
    "            new_sequence = sequence[center_index - 73 : center_index + 74]\n",
    "            if len(new_sequence) != 147:\n",
    "                print(f\"Error: Line {line_number} extracted sequence length is incorrect, original sequence: {sequence}\")\n",
    "                continue\n",
    "            extracted_sequences.append(new_sequence)\n",
    "    \n",
    "    # Step 2: Randomly sample 1% of the extracted sequences\n",
    "    num_samples = max(1, int(len(extracted_sequences) * sample_rate))\n",
    "    sampled_sequences = random.sample(extracted_sequences, num_samples)\n",
    "    \n",
    "    # Step 3: Save the sampled sequences to the output file\n",
    "    with open(output_file, 'w') as outfile:\n",
    "        for sequence in sampled_sequences:\n",
    "            outfile.write(sequence + '\\n')\n",
    "\n",
    "# List of input and output file pairs\n",
    "file_pairs = [\n",
    "    ('TSS-TTS Sequences/-NNFR-1N-ALL.txt', 'TSS-TTS Sequences/processed_-NNFR-1N-ALL.txt'),\n",
    "    ('TSS-TTS Sequences/-NNFR-2N-ALL.txt', 'TSS-TTS Sequences/processed_-NNFR-2N-ALL.txt'),\n",
    "    ('TSS-TTS Sequences/-NNFR-3N-ALL.txt', 'TSS-TTS Sequences/processed_-NNFR-3N-ALL.txt'),\n",
    "    ('TSS-TTS Sequences/-NNFR+1N-ALL.txt', 'TSS-TTS Sequences/processed_-NNFR+1N-ALL.txt'),\n",
    "    ('TSS-TTS Sequences/-NNFR+2N-ALL.txt', 'TSS-TTS Sequences/processed_-NNFR+2N-ALL.txt'),\n",
    "    ('TSS-TTS Sequences/-NNFR+3N-ALL.txt', 'TSS-TTS Sequences/processed_-NNFR+3N-ALL.txt'),\n",
    "    ('TSS-TTS Sequences/+NNFR-1N-ALL.txt', 'TSS-TTS Sequences/processed_+NNFR-1N-ALL.txt'),\n",
    "    ('TSS-TTS Sequences/+NNFR-2N-ALL.txt', 'TSS-TTS Sequences/processed_+NNFR-2N-ALL.txt'),\n",
    "    ('TSS-TTS Sequences/+NNFR-3N-ALL.txt', 'TSS-TTS Sequences/processed_+NNFR-3N-ALL.txt'),\n",
    "    ('TSS-TTS Sequences/+NNFR+1N-ALL.txt', 'TSS-TTS Sequences/processed_+NNFR+1N-ALL.txt'),\n",
    "    ('TSS-TTS Sequences/+NNFR+2N-ALL.txt', 'TSS-TTS Sequences/processed_+NNFR+2N-ALL.txt'),\n",
    "    ('TSS-TTS Sequences/+NNFR+3N-ALL.txt', 'TSS-TTS Sequences/processed_+NNFR+3N-ALL.txt'),\n",
    "    ('TSS-TTS Sequences/-SNFR-1N-ALL.txt', 'TSS-TTS Sequences/processed_-SNFR-1N-ALL.txt'),\n",
    "    ('TSS-TTS Sequences/-SNFR-2N-ALL.txt', 'TSS-TTS Sequences/processed_-SNFR-2N-ALL.txt'),\n",
    "    ('TSS-TTS Sequences/-SNFR-3N-ALL.txt', 'TSS-TTS Sequences/processed_-SNFR-3N-ALL.txt'),\n",
    "    ('TSS-TTS Sequences/-SNFR+1N-ALL.txt', 'TSS-TTS Sequences/processed_-SNFR+1N-ALL.txt'),\n",
    "    ('TSS-TTS Sequences/-SNFR+2N-ALL.txt', 'TSS-TTS Sequences/processed_-SNFR+2N-ALL.txt'),\n",
    "    ('TSS-TTS Sequences/-SNFR+3N-ALL.txt', 'TSS-TTS Sequences/processed_-SNFR+3N-ALL.txt'),\n",
    "    ('TSS-TTS Sequences/+SNFR-1N-ALL.txt', 'TSS-TTS Sequences/processed_+SNFR-1N-ALL.txt'),\n",
    "    ('TSS-TTS Sequences/+SNFR-2N-ALL.txt', 'TSS-TTS Sequences/processed_+SNFR-2N-ALL.txt'),\n",
    "    ('TSS-TTS Sequences/+SNFR-3N-ALL.txt', 'TSS-TTS Sequences/processed_+SNFR-3N-ALL.txt'),\n",
    "    ('TSS-TTS Sequences/+SNFR+1N-ALL.txt', 'TSS-TTS Sequences/processed_+SNFR+1N-ALL.txt'),\n",
    "    ('TSS-TTS Sequences/+SNFR+2N-ALL.txt', 'TSS-TTS Sequences/processed_+SNFR+2N-ALL.txt'),\n",
    "    ('TSS-TTS Sequences/+SNFR+3N-ALL.txt', 'TSS-TTS Sequences/processed_+SNFR+3N-ALL.txt')]\n",
    "\n",
    "# Process all files in the list with a single progress bar\n",
    "for input_file, output_file in tqdm(file_pairs, desc=\"Processing and sampling files\"):\n",
    "    process_and_sample_sequences(input_file, output_file)"
   ]
  },
  {
   "cell_type": "code",
   "execution_count": null,
   "id": "c44b01ec-5d67-4ed1-8d62-5e4d1febd8d9",
   "metadata": {},
   "outputs": [],
   "source": []
  },
  {
   "cell_type": "code",
   "execution_count": null,
   "id": "f149aed9-24fe-4a75-bac3-94149401bde8",
   "metadata": {},
   "outputs": [],
   "source": []
  }
 ],
 "metadata": {
  "kernelspec": {
   "display_name": "Python 3 (ipykernel)",
   "language": "python",
   "name": "python3"
  },
  "language_info": {
   "codemirror_mode": {
    "name": "ipython",
    "version": 3
   },
   "file_extension": ".py",
   "mimetype": "text/x-python",
   "name": "python",
   "nbconvert_exporter": "python",
   "pygments_lexer": "ipython3",
   "version": "3.12.4"
  }
 },
 "nbformat": 4,
 "nbformat_minor": 5
}
