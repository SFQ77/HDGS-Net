{
 "cells": [
  {
   "cell_type": "raw",
   "metadata": {},
   "source": [
    "Systematic Boxplot Analysis Reveals the Genome-wide Distribution Characteristics of Nucleosome Occupancy"
   ]
  },
  {
   "cell_type": "raw",
   "metadata": {},
   "source": [
    "Plot the Boxplot and Histogram of the First Chromosome"
   ]
  },
  {
   "cell_type": "code",
   "execution_count": 2,
   "metadata": {},
   "outputs": [],
   "source": [
    "library(readxl)  \n",
    "library(tidyverse)"
   ]
  },
  {
   "cell_type": "code",
   "execution_count": 3,
   "metadata": {},
   "outputs": [
    {
     "data": {
      "text/html": [
       "<strong>75%:</strong> 2.362125"
      ],
      "text/latex": [
       "\\textbf{75\\textbackslash{}\\%:} 2.362125"
      ],
      "text/markdown": [
       "**75%:** 2.362125"
      ],
      "text/plain": [
       "     75% \n",
       "2.362125 "
      ]
     },
     "metadata": {},
     "output_type": "display_data"
    }
   ],
   "source": [
    "data <- read.csv(\"Classified Chromosomes/ch1.csv\", header = TRUE)\n",
    "h=quantile(data$value,0.75)+(quantile(data$value,0.75)-quantile(data$value,0.25))*1.5;h"
   ]
  },
  {
   "cell_type": "code",
   "execution_count": 4,
   "metadata": {},
   "outputs": [
    {
     "data": {
      "text/html": [
       "<strong>pdf:</strong> 2"
      ],
      "text/latex": [
       "\\textbf{pdf:} 2"
      ],
      "text/markdown": [
       "**pdf:** 2"
      ],
      "text/plain": [
       "pdf \n",
       "  2 "
      ]
     },
     "metadata": {},
     "output_type": "display_data"
    },
    {
     "data": {
      "image/png": "[encoded data removed]",
      "text/plain": [
       "plot without title"
      ]
     },
     "metadata": {
      "image/png": {
       "height": 420,
       "width": 420
      }
     },
     "output_type": "display_data"
    }
   ],
   "source": [
    "png(\"Visualization Charts/ch1_boxplot.png\", width = 8, height = 6, units = \"in\", res = 120)\n",
    "par(mai=c(0.9, 1.1, 0.2, 0.2))\n",
    "boxplot(data$value,col=c(\"steelblue\"),xlab = \"Chr1\",ylab = \"dMean\",notch = TRUE,\n",
    "        cex.axis=2,cex.lab=2,family='Arial',font=2)\n",
    "abline(h=quantile(data$value,0.75)+(quantile(data$value,0.75)-quantile(data$value,0.25))*1.5,\n",
    "       col=\"red\",lty=5,lwd=2)\n",
    "dev.off()\n",
    "par(mai=c(0.9, 1.1, 0.2, 0.2))\n",
    "boxplot(data$value,col=c(\"steelblue\"),xlab = \"Chr1\",ylab = \"dMean\",notch = TRUE,\n",
    "        cex.axis=2,cex.lab=2,family='Arial',font=2)\n",
    "abline(h=quantile(data$value,0.75)+(quantile(data$value,0.75)-quantile(data$value,0.25))*1.5,\n",
    "       col=\"red\",lty=5,lwd=2)"
   ]
  },
  {
   "cell_type": "code",
   "execution_count": 5,
   "metadata": {},
   "outputs": [
    {
     "data": {
      "text/html": [
       "<strong>pdf:</strong> 2"
      ],
      "text/latex": [
       "\\textbf{pdf:} 2"
      ],
      "text/markdown": [
       "**pdf:** 2"
      ],
      "text/plain": [
       "pdf \n",
       "  2 "
      ]
     },
     "metadata": {},
     "output_type": "display_data"
    },
    {
     "data": {
      "image/png": "[encoded data removed]",
      "text/plain": [
       "Plot with title \" \""
      ]
     },
     "metadata": {
      "image/png": {
       "height": 420,
       "width": 420
      }
     },
     "output_type": "display_data"
    }
   ],
   "source": [
    "png(\"Visualization Charts/ch1_Histogram.png\", width = 8, height = 6, units = \"in\", res = 120)\n",
    "par(mai=c(1, 1, 0.2, 0.2))\n",
    "hist(data$value, col = \"steelblue\", breaks=seq(0,5,0.1), axes = T, main = \" \",\n",
    "          xlab = \"Interval\",ylab = \"Frequency\",cex.axis=1.3,cex.lab=1.5,font.lab=2,freq=T)\n",
    "lines(density(data$value), col = \"black\", lwd = 1) \n",
    "abline(v = 2.42225, lty = 2)\n",
    "dev.off()\n",
    "par(mai=c(1, 1, 0.2, 0.2))\n",
    "hist(data$value, col = \"steelblue\", breaks=seq(0,5,0.1), axes = T, main = \" \",\n",
    "          xlab = \"Interval\",ylab = \"Frequency\",cex.axis=1.3,cex.lab=1.5,font.lab=2,freq=T)\n",
    "lines(density(data$value), col = \"black\", lwd = 1) \n",
    "abline(v = 2.42225, lty = 2)"
   ]
  },
  {
   "cell_type": "code",
   "execution_count": null,
   "metadata": {},
   "outputs": [],
   "source": []
  },
  {
   "cell_type": "raw",
   "metadata": {},
   "source": [
    "Obtain the Segmentation Values for Each Chromosome"
   ]
  },
  {
   "cell_type": "code",
   "execution_count": 6,
   "metadata": {},
   "outputs": [
    {
     "data": {
      "text/html": [
       "<strong>75%:</strong> 2.362125"
      ],
      "text/latex": [
       "\\textbf{75\\textbackslash{}\\%:} 2.362125"
      ],
      "text/markdown": [
       "**75%:** 2.362125"
      ],
      "text/plain": [
       "     75% \n",
       "2.362125 "
      ]
     },
     "metadata": {},
     "output_type": "display_data"
    },
    {
     "data": {
      "text/html": [
       "<strong>75%:</strong> 2.734125"
      ],
      "text/latex": [
       "\\textbf{75\\textbackslash{}\\%:} 2.734125"
      ],
      "text/markdown": [
       "**75%:** 2.734125"
      ],
      "text/plain": [
       "     75% \n",
       "2.734125 "
      ]
     },
     "metadata": {},
     "output_type": "display_data"
    },
    {
     "data": {
      "text/html": [
       "<strong>75%:</strong> 2.643"
      ],
      "text/latex": [
       "\\textbf{75\\textbackslash{}\\%:} 2.643"
      ],
      "text/markdown": [
       "**75%:** 2.643"
      ],
      "text/plain": [
       "  75% \n",
       "2.643 "
      ]
     },
     "metadata": {},
     "output_type": "display_data"
    },
    {
     "data": {
      "text/html": [
       "<strong>75%:</strong> 2.7235"
      ],
      "text/latex": [
       "\\textbf{75\\textbackslash{}\\%:} 2.7235"
      ],
      "text/markdown": [
       "**75%:** 2.7235"
      ],
      "text/plain": [
       "   75% \n",
       "2.7235 "
      ]
     },
     "metadata": {},
     "output_type": "display_data"
    },
    {
     "data": {
      "text/html": [
       "<strong>75%:</strong> 2.6655"
      ],
      "text/latex": [
       "\\textbf{75\\textbackslash{}\\%:} 2.6655"
      ],
      "text/markdown": [
       "**75%:** 2.6655"
      ],
      "text/plain": [
       "   75% \n",
       "2.6655 "
      ]
     },
     "metadata": {},
     "output_type": "display_data"
    },
    {
     "data": {
      "text/html": [
       "<strong>75%:</strong> 2.582125"
      ],
      "text/latex": [
       "\\textbf{75\\textbackslash{}\\%:} 2.582125"
      ],
      "text/markdown": [
       "**75%:** 2.582125"
      ],
      "text/plain": [
       "     75% \n",
       "2.582125 "
      ]
     },
     "metadata": {},
     "output_type": "display_data"
    },
    {
     "data": {
      "text/html": [
       "<strong>75%:</strong> 2.7815"
      ],
      "text/latex": [
       "\\textbf{75\\textbackslash{}\\%:} 2.7815"
      ],
      "text/markdown": [
       "**75%:** 2.7815"
      ],
      "text/plain": [
       "   75% \n",
       "2.7815 "
      ]
     },
     "metadata": {},
     "output_type": "display_data"
    },
    {
     "data": {
      "text/html": [
       "<strong>75%:</strong> 2.567625"
      ],
      "text/latex": [
       "\\textbf{75\\textbackslash{}\\%:} 2.567625"
      ],
      "text/markdown": [
       "**75%:** 2.567625"
      ],
      "text/plain": [
       "     75% \n",
       "2.567625 "
      ]
     },
     "metadata": {},
     "output_type": "display_data"
    },
    {
     "data": {
      "text/html": [
       "<strong>75%:</strong> 2.61925"
      ],
      "text/latex": [
       "\\textbf{75\\textbackslash{}\\%:} 2.61925"
      ],
      "text/markdown": [
       "**75%:** 2.61925"
      ],
      "text/plain": [
       "    75% \n",
       "2.61925 "
      ]
     },
     "metadata": {},
     "output_type": "display_data"
    },
    {
     "data": {
      "text/html": [
       "<strong>75%:</strong> 2.69225"
      ],
      "text/latex": [
       "\\textbf{75\\textbackslash{}\\%:} 2.69225"
      ],
      "text/markdown": [
       "**75%:** 2.69225"
      ],
      "text/plain": [
       "    75% \n",
       "2.69225 "
      ]
     },
     "metadata": {},
     "output_type": "display_data"
    },
    {
     "data": {
      "text/html": [
       "<strong>75%:</strong> 2.6505"
      ],
      "text/latex": [
       "\\textbf{75\\textbackslash{}\\%:} 2.6505"
      ],
      "text/markdown": [
       "**75%:** 2.6505"
      ],
      "text/plain": [
       "   75% \n",
       "2.6505 "
      ]
     },
     "metadata": {},
     "output_type": "display_data"
    },
    {
     "data": {
      "text/html": [
       "<strong>75%:</strong> 2.907"
      ],
      "text/latex": [
       "\\textbf{75\\textbackslash{}\\%:} 2.907"
      ],
      "text/markdown": [
       "**75%:** 2.907"
      ],
      "text/plain": [
       "  75% \n",
       "2.907 "
      ]
     },
     "metadata": {},
     "output_type": "display_data"
    },
    {
     "data": {
      "text/html": [
       "<strong>75%:</strong> 2.787"
      ],
      "text/latex": [
       "\\textbf{75\\textbackslash{}\\%:} 2.787"
      ],
      "text/markdown": [
       "**75%:** 2.787"
      ],
      "text/plain": [
       "  75% \n",
       "2.787 "
      ]
     },
     "metadata": {},
     "output_type": "display_data"
    },
    {
     "data": {
      "text/html": [
       "<strong>75%:</strong> 2.763"
      ],
      "text/latex": [
       "\\textbf{75\\textbackslash{}\\%:} 2.763"
      ],
      "text/markdown": [
       "**75%:** 2.763"
      ],
      "text/plain": [
       "  75% \n",
       "2.763 "
      ]
     },
     "metadata": {},
     "output_type": "display_data"
    },
    {
     "data": {
      "text/html": [
       "<strong>75%:</strong> 2.6795"
      ],
      "text/latex": [
       "\\textbf{75\\textbackslash{}\\%:} 2.6795"
      ],
      "text/markdown": [
       "**75%:** 2.6795"
      ],
      "text/plain": [
       "   75% \n",
       "2.6795 "
      ]
     },
     "metadata": {},
     "output_type": "display_data"
    },
    {
     "data": {
      "text/html": [
       "<strong>75%:</strong> 2.6115"
      ],
      "text/latex": [
       "\\textbf{75\\textbackslash{}\\%:} 2.6115"
      ],
      "text/markdown": [
       "**75%:** 2.6115"
      ],
      "text/plain": [
       "   75% \n",
       "2.6115 "
      ]
     },
     "metadata": {},
     "output_type": "display_data"
    }
   ],
   "source": [
    "data <- read.csv(\"Classified Chromosomes/ch1.csv\", header = TRUE)\n",
    "h1=quantile(data$value,0.75)+(quantile(data$value,0.75)-quantile(data$value,0.25))*1.5;h1\n",
    "data <- read.csv(\"Classified Chromosomes/ch2.csv\", header = TRUE)\n",
    "h2=quantile(data$value,0.75)+(quantile(data$value,0.75)-quantile(data$value,0.25))*1.5;h2\n",
    "data <- read.csv(\"Classified Chromosomes/ch3.csv\", header = TRUE)\n",
    "h3=quantile(data$value,0.75)+(quantile(data$value,0.75)-quantile(data$value,0.25))*1.5;h3\n",
    "data <- read.csv(\"Classified Chromosomes/ch4.csv\", header = TRUE)\n",
    "h4=quantile(data$value,0.75)+(quantile(data$value,0.75)-quantile(data$value,0.25))*1.5;h4\n",
    "data <- read.csv(\"Classified Chromosomes/ch5.csv\", header = TRUE)\n",
    "h5=quantile(data$value,0.75)+(quantile(data$value,0.75)-quantile(data$value,0.25))*1.5;h5\n",
    "data <- read.csv(\"Classified Chromosomes/ch6.csv\", header = TRUE)\n",
    "h6=quantile(data$value,0.75)+(quantile(data$value,0.75)-quantile(data$value,0.25))*1.5;h6\n",
    "data <- read.csv(\"Classified Chromosomes/ch7.csv\", header = TRUE)\n",
    "h7=quantile(data$value,0.75)+(quantile(data$value,0.75)-quantile(data$value,0.25))*1.5;h7\n",
    "data <- read.csv(\"Classified Chromosomes/ch8.csv\", header = TRUE)\n",
    "h8=quantile(data$value,0.75)+(quantile(data$value,0.75)-quantile(data$value,0.25))*1.5;h8\n",
    "data <- read.csv(\"Classified Chromosomes/ch9.csv\", header = TRUE)\n",
    "h9=quantile(data$value,0.75)+(quantile(data$value,0.75)-quantile(data$value,0.25))*1.5;h9\n",
    "data <- read.csv(\"Classified Chromosomes/ch10.csv\", header = TRUE)\n",
    "h10=quantile(data$value,0.75)+(quantile(data$value,0.75)-quantile(data$value,0.25))*1.5;h10\n",
    "data <- read.csv(\"Classified Chromosomes/ch11.csv\", header = TRUE)\n",
    "h11=quantile(data$value,0.75)+(quantile(data$value,0.75)-quantile(data$value,0.25))*1.5;h11\n",
    "data <- read.csv(\"Classified Chromosomes/ch12.csv\", header = TRUE)\n",
    "h12=quantile(data$value,0.75)+(quantile(data$value,0.75)-quantile(data$value,0.25))*1.5;h12\n",
    "data <- read.csv(\"Classified Chromosomes/ch13.csv\", header = TRUE)\n",
    "h13=quantile(data$value,0.75)+(quantile(data$value,0.75)-quantile(data$value,0.25))*1.5;h13\n",
    "data <- read.csv(\"Classified Chromosomes/ch14.csv\", header = TRUE)\n",
    "h14=quantile(data$value,0.75)+(quantile(data$value,0.75)-quantile(data$value,0.25))*1.5;h14\n",
    "data <- read.csv(\"Classified Chromosomes/ch15.csv\", header = TRUE)\n",
    "h15=quantile(data$value,0.75)+(quantile(data$value,0.75)-quantile(data$value,0.25))*1.5;h15\n",
    "data <- read.csv(\"Classified Chromosomes/ch16.csv\", header = TRUE)\n",
    "h16=quantile(data$value,0.75)+(quantile(data$value,0.75)-quantile(data$value,0.25))*1.5;h16"
   ]
  },
  {
   "cell_type": "code",
   "execution_count": 7,
   "metadata": {},
   "outputs": [],
   "source": [
    "ch <- c(1, 2, 3, 4, 5, 6, 7, 8, 9, 10, 11, 12, 13, 14, 15, 16)\n",
    "split <- c(2.362,  2.734, 2.643, 2.724, 2.666, 2.583, 2.782, 2.568, 2.619, 2.692, 2.650,\n",
    "           2.907, 2.787, 2.763, 2.680, 2.611)\n",
    "df <- data.frame(ch = ch, split = split)\n",
    "write.csv(df, file = \"Classified Chromosomes/Segmentation Values of Nucleosome Occupancy for Each Chromosome.csv\", row.names = FALSE)"
   ]
  },
  {
   "cell_type": "code",
   "execution_count": null,
   "metadata": {},
   "outputs": [],
   "source": []
  },
  {
   "cell_type": "raw",
   "metadata": {},
   "source": [
    "Plot Boxplots for All Chromosomes"
   ]
  },
  {
   "cell_type": "code",
   "execution_count": 8,
   "metadata": {},
   "outputs": [],
   "source": [
    "library(readxl)  \n",
    "library(tidyverse)"
   ]
  },
  {
   "cell_type": "code",
   "execution_count": 9,
   "metadata": {},
   "outputs": [],
   "source": [
    "data <- read.csv('Classified Chromosomes/InVitro_dMean.csv',na=':')"
   ]
  },
  {
   "cell_type": "code",
   "execution_count": 10,
   "metadata": {},
   "outputs": [
    {
     "data": {
      "text/html": [
       "<style>\n",
       ".list-inline {list-style: none; margin:0; padding: 0}\n",
       ".list-inline>li {display: inline-block}\n",
       ".list-inline>li:not(:last-child)::after {content: \"\\00b7\"; padding: 0 .5ex}\n",
       "</style>\n",
       "<ol class=list-inline><li>107745</li><li>3</li></ol>\n"
      ],
      "text/latex": [
       "\\begin{enumerate*}\n",
       "\\item 107745\n",
       "\\item 3\n",
       "\\end{enumerate*}\n"
      ],
      "text/markdown": [
       "1. 107745\n",
       "2. 3\n",
       "\n",
       "\n"
      ],
      "text/plain": [
       "[1] 107745      3"
      ]
     },
     "metadata": {},
     "output_type": "display_data"
    }
   ],
   "source": [
    "dim(data)"
   ]
  },
  {
   "cell_type": "code",
   "execution_count": 11,
   "metadata": {},
   "outputs": [
    {
     "data": {
      "text/html": [
       "<table class=\"dataframe\">\n",
       "<caption>A data.frame: 6 × 3</caption>\n",
       "<thead>\n",
       "\t<tr><th></th><th scope=col>ch</th><th scope=col>site</th><th scope=col>value</th></tr>\n",
       "\t<tr><th></th><th scope=col>&lt;dbl&gt;</th><th scope=col>&lt;dbl&gt;</th><th scope=col>&lt;dbl&gt;</th></tr>\n",
       "</thead>\n",
       "<tbody>\n",
       "\t<tr><th scope=row>1</th><td>1</td><td> 92279</td><td>0.512</td></tr>\n",
       "\t<tr><th scope=row>2</th><td>1</td><td> 55643</td><td>0.257</td></tr>\n",
       "\t<tr><th scope=row>3</th><td>1</td><td> 59326</td><td>1.067</td></tr>\n",
       "\t<tr><th scope=row>4</th><td>1</td><td>150176</td><td>0.881</td></tr>\n",
       "\t<tr><th scope=row>5</th><td>1</td><td>195643</td><td>1.360</td></tr>\n",
       "\t<tr><th scope=row>6</th><td>1</td><td> 53861</td><td>0.847</td></tr>\n",
       "</tbody>\n",
       "</table>\n"
      ],
      "text/latex": [
       "A data.frame: 6 × 3\n",
       "\\begin{tabular}{r|lll}\n",
       "  & ch & site & value\\\\\n",
       "  & <dbl> & <dbl> & <dbl>\\\\\n",
       "\\hline\n",
       "\t1 & 1 &  92279 & 0.512\\\\\n",
       "\t2 & 1 &  55643 & 0.257\\\\\n",
       "\t3 & 1 &  59326 & 1.067\\\\\n",
       "\t4 & 1 & 150176 & 0.881\\\\\n",
       "\t5 & 1 & 195643 & 1.360\\\\\n",
       "\t6 & 1 &  53861 & 0.847\\\\\n",
       "\\end{tabular}\n"
      ],
      "text/markdown": [
       "\n",
       "A data.frame: 6 × 3\n",
       "\n",
       "| <!--/--> | ch &lt;dbl&gt; | site &lt;dbl&gt; | value &lt;dbl&gt; |\n",
       "|---|---|---|---|\n",
       "| 1 | 1 |  92279 | 0.512 |\n",
       "| 2 | 1 |  55643 | 0.257 |\n",
       "| 3 | 1 |  59326 | 1.067 |\n",
       "| 4 | 1 | 150176 | 0.881 |\n",
       "| 5 | 1 | 195643 | 1.360 |\n",
       "| 6 | 1 |  53861 | 0.847 |\n",
       "\n"
      ],
      "text/plain": [
       "  ch site   value\n",
       "1 1   92279 0.512\n",
       "2 1   55643 0.257\n",
       "3 1   59326 1.067\n",
       "4 1  150176 0.881\n",
       "5 1  195643 1.360\n",
       "6 1   53861 0.847"
      ]
     },
     "metadata": {},
     "output_type": "display_data"
    }
   ],
   "source": [
    "head(data)"
   ]
  },
  {
   "cell_type": "code",
   "execution_count": 12,
   "metadata": {},
   "outputs": [
    {
     "data": {
      "text/html": [
       "<table class=\"dataframe\">\n",
       "<caption>A data.frame: 6 × 3</caption>\n",
       "<thead>\n",
       "\t<tr><th></th><th scope=col>ch</th><th scope=col>site</th><th scope=col>value</th></tr>\n",
       "\t<tr><th></th><th scope=col>&lt;dbl&gt;</th><th scope=col>&lt;dbl&gt;</th><th scope=col>&lt;dbl&gt;</th></tr>\n",
       "</thead>\n",
       "<tbody>\n",
       "\t<tr><th scope=row>107740</th><td>9</td><td> 65192</td><td>1.4010</td></tr>\n",
       "\t<tr><th scope=row>107741</th><td>9</td><td>358486</td><td>1.5250</td></tr>\n",
       "\t<tr><th scope=row>107742</th><td>9</td><td>295806</td><td>0.0543</td></tr>\n",
       "\t<tr><th scope=row>107743</th><td>9</td><td>368681</td><td>1.5750</td></tr>\n",
       "\t<tr><th scope=row>107744</th><td>9</td><td> 42499</td><td>0.9750</td></tr>\n",
       "\t<tr><th scope=row>107745</th><td>9</td><td> 70002</td><td>1.1310</td></tr>\n",
       "</tbody>\n",
       "</table>\n"
      ],
      "text/latex": [
       "A data.frame: 6 × 3\n",
       "\\begin{tabular}{r|lll}\n",
       "  & ch & site & value\\\\\n",
       "  & <dbl> & <dbl> & <dbl>\\\\\n",
       "\\hline\n",
       "\t107740 & 9 &  65192 & 1.4010\\\\\n",
       "\t107741 & 9 & 358486 & 1.5250\\\\\n",
       "\t107742 & 9 & 295806 & 0.0543\\\\\n",
       "\t107743 & 9 & 368681 & 1.5750\\\\\n",
       "\t107744 & 9 &  42499 & 0.9750\\\\\n",
       "\t107745 & 9 &  70002 & 1.1310\\\\\n",
       "\\end{tabular}\n"
      ],
      "text/markdown": [
       "\n",
       "A data.frame: 6 × 3\n",
       "\n",
       "| <!--/--> | ch &lt;dbl&gt; | site &lt;dbl&gt; | value &lt;dbl&gt; |\n",
       "|---|---|---|---|\n",
       "| 107740 | 9 |  65192 | 1.4010 |\n",
       "| 107741 | 9 | 358486 | 1.5250 |\n",
       "| 107742 | 9 | 295806 | 0.0543 |\n",
       "| 107743 | 9 | 368681 | 1.5750 |\n",
       "| 107744 | 9 |  42499 | 0.9750 |\n",
       "| 107745 | 9 |  70002 | 1.1310 |\n",
       "\n"
      ],
      "text/plain": [
       "       ch site   value \n",
       "107740 9   65192 1.4010\n",
       "107741 9  358486 1.5250\n",
       "107742 9  295806 0.0543\n",
       "107743 9  368681 1.5750\n",
       "107744 9   42499 0.9750\n",
       "107745 9   70002 1.1310"
      ]
     },
     "metadata": {},
     "output_type": "display_data"
    }
   ],
   "source": [
    "tail(data)"
   ]
  },
  {
   "cell_type": "code",
   "execution_count": 13,
   "metadata": {},
   "outputs": [
    {
     "data": {
      "text/html": [
       "<strong>pdf:</strong> 2"
      ],
      "text/latex": [
       "\\textbf{pdf:} 2"
      ],
      "text/markdown": [
       "**pdf:** 2"
      ],
      "text/plain": [
       "pdf \n",
       "  2 "
      ]
     },
     "metadata": {},
     "output_type": "display_data"
    },
    {
     "data": {
      "image/png": "[encoded data removed]",
      "text/plain": [
       "plot without title"
      ]
     },
     "metadata": {
      "image/png": {
       "height": 360,
       "width": 720
      }
     },
     "output_type": "display_data"
    }
   ],
   "source": [
    "library(RColorBrewer)\n",
    "data$ch <- as.factor(data$ch)\n",
    "n_categories <- length(unique(data$ch))\n",
    "if (n_categories > 9) {\n",
    "  extended_palette <- colorRampPalette(brewer.pal(9, \"Set1\"))(n_categories)\n",
    "} else {\n",
    "  extended_palette <- brewer.pal(n_categories, \"Set1\")\n",
    "}\n",
    "png(filename = \"Visualization Charts/chA_boxplot.png\", width = 1800, height = 700, units = \"px\", res = 120)\n",
    "p <- ggplot(data, aes(x = ch, y = value)) +\n",
    "  geom_boxplot(aes(fill = ch), notch = TRUE) +\n",
    "  stat_boxplot(geom = 'errorbar', width = 0.3) +\n",
    "  scale_fill_manual(values = extended_palette) +\n",
    "  theme_light() + ylab(\"dMean\")+xlab(\"Chr\") +\n",
    "  theme(\n",
    "    axis.text.x = element_text(hjust = 1, color = \"black\", size = 28),\n",
    "    axis.text.y = element_text(color = \"black\", size = 28),\n",
    "    axis.title.y = element_text(angle = 90,vjust = 0.5,size = 32),\n",
    "    axis.title.x = element_text(size = 32),\n",
    "    panel.border = element_rect(fill = \"transparent\", color = \"black\", linewidth = 1),\n",
    "    axis.ticks = element_line(color = \"black\", linewidth = 1),\n",
    "    panel.grid.major = element_blank(),\n",
    "    panel.grid.minor = element_blank(),\n",
    "    legend.position = \"none\")\n",
    "print(p)\n",
    "dev.off()\n",
    "options(repr.plot.width = 12, repr.plot.height = 6)\n",
    "data$ch <- as.factor(data$ch)\n",
    "p <- ggplot(data, aes(x = ch, y = value)) +\n",
    "  geom_boxplot(aes(fill = ch), notch = TRUE) +\n",
    "  stat_boxplot(geom = 'errorbar', width = 0.3) +\n",
    "  scale_fill_manual(values = extended_palette) +\n",
    "  theme_light() + ylab(\"dMean\")+xlab(\"Chr\") +\n",
    "  theme(\n",
    "    axis.text.x = element_text(hjust = 1, color = \"black\", size = 25),\n",
    "    axis.text.y = element_text(color = \"black\", size = 25),\n",
    "    axis.title.y = element_text(angle = 90,vjust = 0.5,size = 32),\n",
    "    axis.title.x = element_text(size = 32),\n",
    "    panel.border = element_rect(fill = \"transparent\", color = \"black\", linewidth = 1),\n",
    "    axis.ticks = element_line(color = \"black\", linewidth = 1),\n",
    "    panel.grid.major = element_blank(),\n",
    "    panel.grid.minor = element_blank(),\n",
    "    legend.position = \"none\")\n",
    "print(p)"
   ]
  },
  {
   "cell_type": "code",
   "execution_count": null,
   "metadata": {},
   "outputs": [],
   "source": []
  }
 ],
 "metadata": {
  "kernelspec": {
   "display_name": "R",
   "language": "R",
   "name": "ir"
  },
  "language_info": {
   "codemirror_mode": "r",
   "file_extension": ".r",
   "mimetype": "text/x-r-source",
   "name": "R",
   "pygments_lexer": "r",
   "version": "4.5.0"
  }
 },
 "nbformat": 4,
 "nbformat_minor": 4
}
