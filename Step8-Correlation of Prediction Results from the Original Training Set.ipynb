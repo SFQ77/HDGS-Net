{
 "cells": [
  {
   "cell_type": "raw",
   "id": "5a41ab8e-aec5-444c-86d3-1f55e4ed2002",
   "metadata": {},
   "source": [
    "Calculate the Pearson correlation coefficient between the model's predicted values of the training data and the original occupancy rates."
   ]
  },
  {
   "cell_type": "code",
   "execution_count": null,
   "id": "2a5238d7-0714-4ad1-bf6e-ec85db8b1604",
   "metadata": {},
   "outputs": [],
   "source": []
  },
  {
   "cell_type": "code",
   "execution_count": 1,
   "id": "377c47ca-2df3-4e24-8a7a-c9896b7b9545",
   "metadata": {},
   "outputs": [],
   "source": [
    "import numpy as np\n",
    "import csv"
   ]
  },
  {
   "cell_type": "code",
   "execution_count": 2,
   "id": "3cdb8e64-4de2-4ba9-8912-1b84bbb50519",
   "metadata": {},
   "outputs": [
    {
     "name": "stdout",
     "output_type": "stream",
     "text": [
      "(66,)\n",
      "(66,)\n",
      "[[1.         0.95431217]\n",
      " [0.95431217 1.        ]]\n"
     ]
    }
   ],
   "source": [
    "path_csv = \"Training Sites and Occupancy/ch1_training.csv\" \n",
    "data = np.loadtxt(open(path_csv,\"rb\"),delimiter=\",\",skiprows=1,usecols=[0,1]) \n",
    "ori = data[:,1]\n",
    "print(ori.shape)\n",
    "res = np.loadtxt('Chromosome Prediction Results (Training)/ch1_levelp(t).txt',dtype=np.float32)\n",
    "print(res.shape)\n",
    "cor = np.vstack([ori,res]) \n",
    "print(np.corrcoef(cor))"
   ]
  },
  {
   "cell_type": "code",
   "execution_count": null,
   "id": "65e91f88-fa38-4ffa-b76c-f4f8f8e7276c",
   "metadata": {},
   "outputs": [],
   "source": []
  },
  {
   "cell_type": "code",
   "execution_count": 3,
   "id": "2982932e-693f-4cce-ab34-7710a61013ff",
   "metadata": {},
   "outputs": [
    {
     "name": "stdout",
     "output_type": "stream",
     "text": [
      "(289,)\n",
      "(289,)\n",
      "[[1.         0.95167572]\n",
      " [0.95167572 1.        ]]\n"
     ]
    }
   ],
   "source": [
    "path_csv = \"Training Sites and Occupancy/ch2_training.csv\" \n",
    "data = np.loadtxt(open(path_csv,\"rb\"),delimiter=\",\",skiprows=1,usecols=[0,1]) \n",
    "ori = data[:,1]\n",
    "print(ori.shape)\n",
    "res = np.loadtxt('Chromosome Prediction Results (Training)/ch2_levelp(t).txt',dtype=np.float32)\n",
    "print(res.shape)\n",
    "cor = np.vstack([ori,res]) \n",
    "print(np.corrcoef(cor))"
   ]
  },
  {
   "cell_type": "code",
   "execution_count": null,
   "id": "e1b7aa98-a2e5-4a47-b732-c94ffa91160d",
   "metadata": {},
   "outputs": [],
   "source": []
  },
  {
   "cell_type": "code",
   "execution_count": 4,
   "id": "4bbd9e7c-a856-4694-9b99-13003ea28125",
   "metadata": {},
   "outputs": [
    {
     "name": "stdout",
     "output_type": "stream",
     "text": [
      "(91,)\n",
      "(91,)\n",
      "[[1.         0.96967847]\n",
      " [0.96967847 1.        ]]\n"
     ]
    }
   ],
   "source": [
    "path_csv = \"Training Sites and Occupancy/ch3_training.csv\" \n",
    "data = np.loadtxt(open(path_csv,\"rb\"),delimiter=\",\",skiprows=1,usecols=[0,1]) \n",
    "ori = data[:,1]\n",
    "print(ori.shape)\n",
    "res = np.loadtxt('Chromosome Prediction Results (Training)/ch3_levelp(t).txt',dtype=np.float32)\n",
    "print(res.shape)\n",
    "cor = np.vstack([ori,res]) \n",
    "print(np.corrcoef(cor))"
   ]
  },
  {
   "cell_type": "code",
   "execution_count": null,
   "id": "d304b59e-1f0f-40a7-8147-a3713c227834",
   "metadata": {},
   "outputs": [],
   "source": []
  },
  {
   "cell_type": "code",
   "execution_count": 5,
   "id": "8fdde5f0-96a3-448c-b50f-679c4df1ceaa",
   "metadata": {},
   "outputs": [
    {
     "name": "stdout",
     "output_type": "stream",
     "text": [
      "(535,)\n",
      "(535,)\n",
      "[[1.         0.96885564]\n",
      " [0.96885564 1.        ]]\n"
     ]
    }
   ],
   "source": [
    "path_csv = \"Training Sites and Occupancy/ch4_training.csv\" \n",
    "data = np.loadtxt(open(path_csv,\"rb\"),delimiter=\",\",skiprows=1,usecols=[0,1]) \n",
    "ori = data[:,1]\n",
    "print(ori.shape)\n",
    "res = np.loadtxt('Chromosome Prediction Results (Training)/ch4_levelp(t).txt',dtype=np.float32)\n",
    "print(res.shape)\n",
    "cor = np.vstack([ori,res]) \n",
    "print(np.corrcoef(cor))"
   ]
  },
  {
   "cell_type": "code",
   "execution_count": null,
   "id": "f2487245-40f9-4679-ab6a-4c88a8fbce30",
   "metadata": {},
   "outputs": [],
   "source": []
  },
  {
   "cell_type": "code",
   "execution_count": 6,
   "id": "c63b2a64-8607-48e1-9834-f59a520069e6",
   "metadata": {},
   "outputs": [
    {
     "name": "stdout",
     "output_type": "stream",
     "text": [
      "(195,)\n",
      "(195,)\n",
      "[[1.        0.9568667]\n",
      " [0.9568667 1.       ]]\n"
     ]
    }
   ],
   "source": [
    "path_csv = \"Training Sites and Occupancy/ch5_training.csv\" \n",
    "data = np.loadtxt(open(path_csv,\"rb\"),delimiter=\",\",skiprows=1,usecols=[0,1]) \n",
    "ori = data[:,1]\n",
    "print(ori.shape)\n",
    "res = np.loadtxt('Chromosome Prediction Results (Training)/ch5_levelp(t).txt',dtype=np.float32)\n",
    "print(res.shape)\n",
    "cor = np.vstack([ori,res]) \n",
    "print(np.corrcoef(cor))"
   ]
  },
  {
   "cell_type": "code",
   "execution_count": null,
   "id": "667e9dbc-fa88-43f2-87aa-d78bb102ed97",
   "metadata": {},
   "outputs": [],
   "source": []
  },
  {
   "cell_type": "code",
   "execution_count": 7,
   "id": "1404854a-a2df-4ac9-aeaa-ae1d1a960625",
   "metadata": {},
   "outputs": [
    {
     "name": "stdout",
     "output_type": "stream",
     "text": [
      "(87,)\n",
      "(87,)\n",
      "[[1.         0.96255452]\n",
      " [0.96255452 1.        ]]\n"
     ]
    }
   ],
   "source": [
    "path_csv = \"Training Sites and Occupancy/ch6_training.csv\" \n",
    "data = np.loadtxt(open(path_csv,\"rb\"),delimiter=\",\",skiprows=1,usecols=[0,1]) \n",
    "ori = data[:,1]\n",
    "print(ori.shape)\n",
    "res = np.loadtxt('Chromosome Prediction Results (Training)/ch6_levelp(t).txt',dtype=np.float32)\n",
    "print(res.shape)\n",
    "cor = np.vstack([ori,res]) \n",
    "print(np.corrcoef(cor))"
   ]
  },
  {
   "cell_type": "code",
   "execution_count": null,
   "id": "c52c293d-77f7-47f4-bd9e-ba33a6869692",
   "metadata": {},
   "outputs": [],
   "source": []
  },
  {
   "cell_type": "code",
   "execution_count": 8,
   "id": "d8fc0161-e940-48fc-ab5c-00a09298c243",
   "metadata": {},
   "outputs": [
    {
     "name": "stdout",
     "output_type": "stream",
     "text": [
      "(382,)\n",
      "(382,)\n",
      "[[1.         0.96999296]\n",
      " [0.96999296 1.        ]]\n"
     ]
    }
   ],
   "source": [
    "path_csv = \"Training Sites and Occupancy/ch7_training.csv\" \n",
    "data = np.loadtxt(open(path_csv,\"rb\"),delimiter=\",\",skiprows=1,usecols=[0,1]) \n",
    "ori = data[:,1]\n",
    "print(ori.shape)\n",
    "res = np.loadtxt('Chromosome Prediction Results (Training)/ch7_levelp(t).txt',dtype=np.float32)\n",
    "print(res.shape)\n",
    "cor = np.vstack([ori,res]) \n",
    "print(np.corrcoef(cor))"
   ]
  },
  {
   "cell_type": "code",
   "execution_count": null,
   "id": "2b947fe2-35c4-4cd9-ae2d-a33823764274",
   "metadata": {},
   "outputs": [],
   "source": []
  },
  {
   "cell_type": "code",
   "execution_count": 9,
   "id": "5fe20c6c-b5a3-4ca5-86cb-cbe269307d87",
   "metadata": {},
   "outputs": [
    {
     "name": "stdout",
     "output_type": "stream",
     "text": [
      "(188,)\n",
      "(188,)\n",
      "[[1.         0.96477656]\n",
      " [0.96477656 1.        ]]\n"
     ]
    }
   ],
   "source": [
    "path_csv = \"Training Sites and Occupancy/ch8_training.csv\" \n",
    "data = np.loadtxt(open(path_csv,\"rb\"),delimiter=\",\",skiprows=1,usecols=[0,1]) \n",
    "ori = data[:,1]\n",
    "print(ori.shape)\n",
    "res = np.loadtxt('Chromosome Prediction Results (Training)/ch8_levelp(t).txt',dtype=np.float32)\n",
    "print(res.shape)\n",
    "cor = np.vstack([ori,res]) \n",
    "print(np.corrcoef(cor))"
   ]
  },
  {
   "cell_type": "code",
   "execution_count": null,
   "id": "531a3858-569d-47b0-83dc-f7440f37f73d",
   "metadata": {},
   "outputs": [],
   "source": []
  },
  {
   "cell_type": "code",
   "execution_count": 10,
   "id": "e2cc7103-21c5-41e0-b34c-3c00c1e50b8e",
   "metadata": {},
   "outputs": [
    {
     "name": "stdout",
     "output_type": "stream",
     "text": [
      "(142,)\n",
      "(142,)\n",
      "[[1.        0.9560886]\n",
      " [0.9560886 1.       ]]\n"
     ]
    }
   ],
   "source": [
    "path_csv = \"Training Sites and Occupancy/ch9_training.csv\" \n",
    "data = np.loadtxt(open(path_csv,\"rb\"),delimiter=\",\",skiprows=1,usecols=[0,1]) \n",
    "ori = data[:,1]\n",
    "print(ori.shape)\n",
    "res = np.loadtxt('Chromosome Prediction Results (Training)/ch9_levelp(t).txt',dtype=np.float32)\n",
    "print(res.shape)\n",
    "cor = np.vstack([ori,res]) \n",
    "print(np.corrcoef(cor))"
   ]
  },
  {
   "cell_type": "code",
   "execution_count": null,
   "id": "d067c0b9-6db8-4c95-bf78-6e56b03efa05",
   "metadata": {},
   "outputs": [],
   "source": []
  },
  {
   "cell_type": "code",
   "execution_count": 11,
   "id": "ac6994a6-9501-40c4-859e-60624976939c",
   "metadata": {},
   "outputs": [
    {
     "name": "stdout",
     "output_type": "stream",
     "text": [
      "(252,)\n",
      "(252,)\n",
      "[[1.         0.29230442]\n",
      " [0.29230442 1.        ]]\n"
     ]
    }
   ],
   "source": [
    "path_csv = \"Training Sites and Occupancy/ch10_training.csv\" \n",
    "data = np.loadtxt(open(path_csv,\"rb\"),delimiter=\",\",skiprows=1,usecols=[0,1]) \n",
    "ori = data[:,1]\n",
    "print(ori.shape)\n",
    "res = np.loadtxt('Chromosome Prediction Results (Training)/ch10_levelp(t).txt',dtype=np.float32)\n",
    "print(res.shape)\n",
    "cor = np.vstack([ori,res]) \n",
    "print(np.corrcoef(cor))"
   ]
  },
  {
   "cell_type": "code",
   "execution_count": null,
   "id": "ac2f68f2-b50f-47f4-9a11-27594edeb297",
   "metadata": {},
   "outputs": [],
   "source": []
  },
  {
   "cell_type": "code",
   "execution_count": 12,
   "id": "343f383c-4b7f-4abf-848a-215a36be1d6b",
   "metadata": {},
   "outputs": [
    {
     "name": "stdout",
     "output_type": "stream",
     "text": [
      "(251,)\n",
      "(251,)\n",
      "[[1.         0.97453463]\n",
      " [0.97453463 1.        ]]\n"
     ]
    }
   ],
   "source": [
    "path_csv = \"Training Sites and Occupancy/ch11_training.csv\" \n",
    "data = np.loadtxt(open(path_csv,\"rb\"),delimiter=\",\",skiprows=1,usecols=[0,1]) \n",
    "ori = data[:,1]\n",
    "print(ori.shape)\n",
    "res = np.loadtxt('Chromosome Prediction Results (Training)/ch11_levelp(t).txt',dtype=np.float32)\n",
    "print(res.shape)\n",
    "cor = np.vstack([ori,res]) \n",
    "print(np.corrcoef(cor))"
   ]
  },
  {
   "cell_type": "code",
   "execution_count": null,
   "id": "a9fd28d3-f0e6-49b6-962e-75974346eb16",
   "metadata": {},
   "outputs": [],
   "source": []
  },
  {
   "cell_type": "code",
   "execution_count": 13,
   "id": "8fccd9bc-2149-40d8-85c0-527c85565692",
   "metadata": {},
   "outputs": [
    {
     "name": "stdout",
     "output_type": "stream",
     "text": [
      "(358,)\n",
      "(358,)\n",
      "[[1.        0.9704662]\n",
      " [0.9704662 1.       ]]\n"
     ]
    }
   ],
   "source": [
    "path_csv = \"Training Sites and Occupancy/ch12_training.csv\" \n",
    "data = np.loadtxt(open(path_csv,\"rb\"),delimiter=\",\",skiprows=1,usecols=[0,1]) \n",
    "ori = data[:,1]\n",
    "print(ori.shape)\n",
    "res = np.loadtxt('Chromosome Prediction Results (Training)/ch12_levelp(t).txt',dtype=np.float32)\n",
    "print(res.shape)\n",
    "cor = np.vstack([ori,res]) \n",
    "print(np.corrcoef(cor))"
   ]
  },
  {
   "cell_type": "code",
   "execution_count": null,
   "id": "d5230005-2746-437f-a03a-0d23563c9d73",
   "metadata": {},
   "outputs": [],
   "source": []
  },
  {
   "cell_type": "code",
   "execution_count": 14,
   "id": "5baeab5e-a608-4c05-bb93-b7170c36c243",
   "metadata": {},
   "outputs": [
    {
     "name": "stdout",
     "output_type": "stream",
     "text": [
      "(331,)\n",
      "(331,)\n",
      "[[1.         0.97161988]\n",
      " [0.97161988 1.        ]]\n"
     ]
    }
   ],
   "source": [
    "path_csv = \"Training Sites and Occupancy/ch13_training.csv\" \n",
    "data = np.loadtxt(open(path_csv,\"rb\"),delimiter=\",\",skiprows=1,usecols=[0,1]) \n",
    "ori = data[:,1]\n",
    "print(ori.shape)\n",
    "res = np.loadtxt('Chromosome Prediction Results (Training)/ch13_levelp(t).txt',dtype=np.float32)\n",
    "print(res.shape)\n",
    "cor = np.vstack([ori,res]) \n",
    "print(np.corrcoef(cor))"
   ]
  },
  {
   "cell_type": "code",
   "execution_count": null,
   "id": "f84bcc86-e89a-4be7-b8d0-3ebe5e693428",
   "metadata": {},
   "outputs": [],
   "source": []
  },
  {
   "cell_type": "code",
   "execution_count": 15,
   "id": "b9ec17c8-fb04-4dd0-bb26-1ae716eb6679",
   "metadata": {},
   "outputs": [
    {
     "name": "stdout",
     "output_type": "stream",
     "text": [
      "(269,)\n",
      "(269,)\n",
      "[[1.         0.97129411]\n",
      " [0.97129411 1.        ]]\n"
     ]
    }
   ],
   "source": [
    "path_csv = \"Training Sites and Occupancy/ch14_training.csv\" \n",
    "data = np.loadtxt(open(path_csv,\"rb\"),delimiter=\",\",skiprows=1,usecols=[0,1]) \n",
    "ori = data[:,1]\n",
    "print(ori.shape)\n",
    "res = np.loadtxt('Chromosome Prediction Results (Training)/ch14_levelp(t).txt',dtype=np.float32)\n",
    "print(res.shape)\n",
    "cor = np.vstack([ori,res]) \n",
    "print(np.corrcoef(cor))"
   ]
  },
  {
   "cell_type": "code",
   "execution_count": null,
   "id": "487d3371-430b-4f29-b07d-dd848cdd2cec",
   "metadata": {},
   "outputs": [],
   "source": []
  },
  {
   "cell_type": "code",
   "execution_count": 16,
   "id": "3ae661e3-a72d-4ab7-bf94-88e727b8b3d9",
   "metadata": {},
   "outputs": [
    {
     "name": "stdout",
     "output_type": "stream",
     "text": [
      "(390,)\n",
      "(390,)\n",
      "[[1.         0.96350462]\n",
      " [0.96350462 1.        ]]\n"
     ]
    }
   ],
   "source": [
    "path_csv = \"Training Sites and Occupancy/ch15_training.csv\" \n",
    "data = np.loadtxt(open(path_csv,\"rb\"),delimiter=\",\",skiprows=1,usecols=[0,1]) \n",
    "ori = data[:,1]\n",
    "print(ori.shape)\n",
    "res = np.loadtxt('Chromosome Prediction Results (Training)/ch15_levelp(t).txt',dtype=np.float32)\n",
    "print(res.shape)\n",
    "cor = np.vstack([ori,res]) \n",
    "print(np.corrcoef(cor))"
   ]
  },
  {
   "cell_type": "code",
   "execution_count": null,
   "id": "97840f51-08be-4185-b60c-f57b97a95947",
   "metadata": {},
   "outputs": [],
   "source": []
  },
  {
   "cell_type": "code",
   "execution_count": 17,
   "id": "fe5fab92-0268-42c6-816f-ae1a965aed0e",
   "metadata": {},
   "outputs": [
    {
     "name": "stdout",
     "output_type": "stream",
     "text": [
      "(345,)\n",
      "(345,)\n",
      "[[1.         0.96377586]\n",
      " [0.96377586 1.        ]]\n"
     ]
    }
   ],
   "source": [
    "path_csv = \"Training Sites and Occupancy/ch16_training.csv\" \n",
    "data = np.loadtxt(open(path_csv,\"rb\"),delimiter=\",\",skiprows=1,usecols=[0,1]) \n",
    "ori = data[:,1]\n",
    "print(ori.shape)\n",
    "res = np.loadtxt('Chromosome Prediction Results (Training)/ch16_levelp(t).txt',dtype=np.float32)\n",
    "print(res.shape)\n",
    "cor = np.vstack([ori,res]) \n",
    "print(np.corrcoef(cor))"
   ]
  },
  {
   "cell_type": "code",
   "execution_count": null,
   "id": "f306a7f0-cec4-4d59-8aaf-aeb6f67bd2d2",
   "metadata": {},
   "outputs": [],
   "source": []
  }
 ],
 "metadata": {
  "kernelspec": {
   "display_name": "tf",
   "language": "python",
   "name": "tf"
  },
  "language_info": {
   "codemirror_mode": {
    "name": "ipython",
    "version": 3
   },
   "file_extension": ".py",
   "mimetype": "text/x-python",
   "name": "python",
   "nbconvert_exporter": "python",
   "pygments_lexer": "ipython3",
   "version": "3.10.18"
  }
 },
 "nbformat": 4,
 "nbformat_minor": 5
}
