{
 "cells": [
  {
   "cell_type": "code",
   "execution_count": null,
   "id": "e59a9cd9-cb27-468a-9571-2e97c0bd5202",
   "metadata": {},
   "outputs": [],
   "source": [
    "Convert all the processed TSS-TTS DNA sequences into numerical matrices."
   ]
  },
  {
   "cell_type": "code",
   "execution_count": null,
   "id": "8939597b-a797-4fe5-97e5-3f53f0c157b6",
   "metadata": {},
   "outputs": [],
   "source": []
  },
  {
   "cell_type": "code",
   "execution_count": 1,
   "id": "71f17538-0fa1-4aa5-83ae-4ee81d557a94",
   "metadata": {},
   "outputs": [
    {
     "name": "stderr",
     "output_type": "stream",
     "text": [
      "56it [00:00, 83.51it/s]\n"
     ]
    }
   ],
   "source": [
    "import numpy as np\n",
    "import time\n",
    "import h5py\n",
    "from tqdm import tqdm\n",
    "base = ['AA','AC','AG','AT','CA','CC','CG','CT','GA','GC','GG','GT','TA','TC','TG','TT']\n",
    "Nuar = np.zeros((56,16,146))\n",
    "i=0\n",
    "for line in tqdm(open('TSS-TTS Sequences/processed_-NNFR-1N-ALL.txt','r')):\n",
    "    time.sleep(0.01)\n",
    "    for n in range(len(base)):\n",
    "        for m in range (len(line)-1):\n",
    "            dinu = line[m]+line[m+1]\n",
    "            if dinu==base[n]:\n",
    "                Nuar[i][n][m] = 1\n",
    "    i=i+1\n",
    "f = h5py.File('TSS-TTS Matrix/matrix_-NNFR-1N-ALL.h5', 'w')\n",
    "f.create_dataset('Nuar', data=Nuar)\n",
    "f.close()"
   ]
  },
  {
   "cell_type": "code",
   "execution_count": null,
   "id": "cd075c42-db71-4f56-b137-401cf77bf792",
   "metadata": {},
   "outputs": [],
   "source": []
  },
  {
   "cell_type": "code",
   "execution_count": 2,
   "id": "8beee6ca-b359-4071-a080-9b71a28c366a",
   "metadata": {},
   "outputs": [
    {
     "name": "stderr",
     "output_type": "stream",
     "text": [
      "56it [00:00, 87.05it/s]\n"
     ]
    }
   ],
   "source": [
    "import numpy as np\n",
    "import time\n",
    "import h5py\n",
    "from tqdm import tqdm\n",
    "base = ['AA','AC','AG','AT','CA','CC','CG','CT','GA','GC','GG','GT','TA','TC','TG','TT']\n",
    "Nuar = np.zeros((56,16,146))\n",
    "i=0\n",
    "for line in tqdm(open('TSS-TTS Sequences/processed_-NNFR-2N-ALL.txt','r')):\n",
    "    time.sleep(0.01)\n",
    "    for n in range(len(base)):\n",
    "        for m in range (len(line)-1):\n",
    "            dinu = line[m]+line[m+1]\n",
    "            if dinu==base[n]:\n",
    "                Nuar[i][n][m] = 1\n",
    "    i=i+1\n",
    "f = h5py.File('TSS-TTS Matrix/matrix_-NNFR-2N-ALL.h5', 'w')\n",
    "f.create_dataset('Nuar', data=Nuar)\n",
    "f.close()"
   ]
  },
  {
   "cell_type": "code",
   "execution_count": null,
   "id": "db50bf43-ab3a-4547-baaf-55e44d276273",
   "metadata": {},
   "outputs": [],
   "source": []
  },
  {
   "cell_type": "code",
   "execution_count": 3,
   "id": "33cad8da-57ce-47de-8455-77ea8e1178ba",
   "metadata": {},
   "outputs": [
    {
     "name": "stderr",
     "output_type": "stream",
     "text": [
      "56it [00:00, 87.84it/s]\n"
     ]
    }
   ],
   "source": [
    "import numpy as np\n",
    "import time\n",
    "import h5py\n",
    "from tqdm import tqdm\n",
    "base = ['AA','AC','AG','AT','CA','CC','CG','CT','GA','GC','GG','GT','TA','TC','TG','TT']\n",
    "Nuar = np.zeros((56,16,146))\n",
    "i=0\n",
    "for line in tqdm(open('TSS-TTS Sequences/processed_-NNFR-3N-ALL.txt','r')):\n",
    "    time.sleep(0.01)\n",
    "    for n in range(len(base)):\n",
    "        for m in range (len(line)-1):\n",
    "            dinu = line[m]+line[m+1]\n",
    "            if dinu==base[n]:\n",
    "                Nuar[i][n][m] = 1\n",
    "    i=i+1\n",
    "f = h5py.File('TSS-TTS Matrix/matrix_-NNFR-3N-ALL.h5', 'w')\n",
    "f.create_dataset('Nuar', data=Nuar)\n",
    "f.close()"
   ]
  },
  {
   "cell_type": "code",
   "execution_count": null,
   "id": "7ed39403-5063-4a32-9ae3-b16eec671c2f",
   "metadata": {},
   "outputs": [],
   "source": []
  },
  {
   "cell_type": "code",
   "execution_count": 4,
   "id": "e3acc07e-142a-411f-8f16-b4d811ed6c8c",
   "metadata": {},
   "outputs": [
    {
     "name": "stderr",
     "output_type": "stream",
     "text": [
      "56it [00:00, 86.99it/s]\n"
     ]
    }
   ],
   "source": [
    "import numpy as np\n",
    "import time\n",
    "import h5py\n",
    "from tqdm import tqdm\n",
    "base = ['AA','AC','AG','AT','CA','CC','CG','CT','GA','GC','GG','GT','TA','TC','TG','TT']\n",
    "Nuar = np.zeros((56,16,146))\n",
    "i=0\n",
    "for line in tqdm(open('TSS-TTS Sequences/processed_-NNFR+1N-ALL.txt','r')):\n",
    "    time.sleep(0.01)\n",
    "    for n in range(len(base)):\n",
    "        for m in range (len(line)-1):\n",
    "            dinu = line[m]+line[m+1]\n",
    "            if dinu==base[n]:\n",
    "                Nuar[i][n][m] = 1\n",
    "    i=i+1\n",
    "f = h5py.File('TSS-TTS Matrix/matrix_-NNFR+1N-ALL.h5', 'w')\n",
    "f.create_dataset('Nuar', data=Nuar)\n",
    "f.close()"
   ]
  },
  {
   "cell_type": "code",
   "execution_count": null,
   "id": "86375575-b22d-40b1-86c1-dcb446b729e0",
   "metadata": {},
   "outputs": [],
   "source": []
  },
  {
   "cell_type": "code",
   "execution_count": 5,
   "id": "193a7cc9-b0b7-4649-8701-79a68a6b6436",
   "metadata": {},
   "outputs": [
    {
     "name": "stderr",
     "output_type": "stream",
     "text": [
      "56it [00:00, 87.20it/s]\n"
     ]
    }
   ],
   "source": [
    "import numpy as np\n",
    "import time\n",
    "import h5py\n",
    "from tqdm import tqdm\n",
    "base = ['AA','AC','AG','AT','CA','CC','CG','CT','GA','GC','GG','GT','TA','TC','TG','TT']\n",
    "Nuar = np.zeros((56,16,146))\n",
    "i=0\n",
    "for line in tqdm(open('TSS-TTS Sequences/processed_-NNFR+2N-ALL.txt','r')):\n",
    "    time.sleep(0.01)\n",
    "    for n in range(len(base)):\n",
    "        for m in range (len(line)-1):\n",
    "            dinu = line[m]+line[m+1]\n",
    "            if dinu==base[n]:\n",
    "                Nuar[i][n][m] = 1\n",
    "    i=i+1\n",
    "f = h5py.File('TSS-TTS Matrix/matrix_-NNFR+2N-ALL.h5', 'w')\n",
    "f.create_dataset('Nuar', data=Nuar)\n",
    "f.close()"
   ]
  },
  {
   "cell_type": "code",
   "execution_count": null,
   "id": "798d9028-6fd0-4d64-8d38-6153254a16a8",
   "metadata": {},
   "outputs": [],
   "source": []
  },
  {
   "cell_type": "code",
   "execution_count": 6,
   "id": "d3c39b8e-5187-4d87-9f23-64c3f70f719a",
   "metadata": {},
   "outputs": [
    {
     "name": "stderr",
     "output_type": "stream",
     "text": [
      "56it [00:00, 87.69it/s]\n"
     ]
    }
   ],
   "source": [
    "import numpy as np\n",
    "import time\n",
    "import h5py\n",
    "from tqdm import tqdm\n",
    "base = ['AA','AC','AG','AT','CA','CC','CG','CT','GA','GC','GG','GT','TA','TC','TG','TT']\n",
    "Nuar = np.zeros((56,16,146))\n",
    "i=0\n",
    "for line in tqdm(open('TSS-TTS Sequences/processed_-NNFR+3N-ALL.txt','r')):\n",
    "    time.sleep(0.01)\n",
    "    for n in range(len(base)):\n",
    "        for m in range (len(line)-1):\n",
    "            dinu = line[m]+line[m+1]\n",
    "            if dinu==base[n]:\n",
    "                Nuar[i][n][m] = 1\n",
    "    i=i+1\n",
    "f = h5py.File('TSS-TTS Matrix/matrix_-NNFR+3N-ALL.h5', 'w')\n",
    "f.create_dataset('Nuar', data=Nuar)\n",
    "f.close()"
   ]
  },
  {
   "cell_type": "code",
   "execution_count": null,
   "id": "13c20fdf-8db4-401b-baba-aece503017de",
   "metadata": {},
   "outputs": [],
   "source": []
  },
  {
   "cell_type": "code",
   "execution_count": 7,
   "id": "68011645-7825-49b9-b974-6da1a23b4d38",
   "metadata": {},
   "outputs": [
    {
     "name": "stderr",
     "output_type": "stream",
     "text": [
      "62it [00:00, 88.69it/s]\n"
     ]
    }
   ],
   "source": [
    "import numpy as np\n",
    "import time\n",
    "import h5py\n",
    "from tqdm import tqdm\n",
    "base = ['AA','AC','AG','AT','CA','CC','CG','CT','GA','GC','GG','GT','TA','TC','TG','TT']\n",
    "Nuar = np.zeros((62,16,146))\n",
    "i=0\n",
    "for line in tqdm(open('TSS-TTS Sequences/processed_+NNFR-1N-ALL.txt','r')):\n",
    "    time.sleep(0.01)\n",
    "    for n in range(len(base)):\n",
    "        for m in range (len(line)-1):\n",
    "            dinu = line[m]+line[m+1]\n",
    "            if dinu==base[n]:\n",
    "                Nuar[i][n][m] = 1\n",
    "    i=i+1\n",
    "f = h5py.File('TSS-TTS Matrix/matrix_+NNFR-1N-ALL.h5', 'w')\n",
    "f.create_dataset('Nuar', data=Nuar)\n",
    "f.close()"
   ]
  },
  {
   "cell_type": "code",
   "execution_count": null,
   "id": "e91b0967-99b0-468f-ae6f-51791264b139",
   "metadata": {},
   "outputs": [],
   "source": []
  },
  {
   "cell_type": "code",
   "execution_count": 8,
   "id": "29b142e5-ce27-493e-8a53-e22f0e05d922",
   "metadata": {},
   "outputs": [
    {
     "name": "stderr",
     "output_type": "stream",
     "text": [
      "62it [00:00, 87.06it/s]\n"
     ]
    }
   ],
   "source": [
    "import numpy as np\n",
    "import time\n",
    "import h5py\n",
    "from tqdm import tqdm\n",
    "base = ['AA','AC','AG','AT','CA','CC','CG','CT','GA','GC','GG','GT','TA','TC','TG','TT']\n",
    "Nuar = np.zeros((62,16,146))\n",
    "i=0\n",
    "for line in tqdm(open('TSS-TTS Sequences/processed_+NNFR-2N-ALL.txt','r')):\n",
    "    time.sleep(0.01)\n",
    "    for n in range(len(base)):\n",
    "        for m in range (len(line)-1):\n",
    "            dinu = line[m]+line[m+1]\n",
    "            if dinu==base[n]:\n",
    "                Nuar[i][n][m] = 1\n",
    "    i=i+1\n",
    "f = h5py.File('TSS-TTS Matrix/matrix_+NNFR-2N-ALL.h5', 'w')\n",
    "f.create_dataset('Nuar', data=Nuar)\n",
    "f.close()"
   ]
  },
  {
   "cell_type": "code",
   "execution_count": null,
   "id": "9ab67620-33d9-4e29-9484-3d7822965f9f",
   "metadata": {},
   "outputs": [],
   "source": []
  },
  {
   "cell_type": "code",
   "execution_count": 9,
   "id": "b9db5a53-3469-4135-ae48-1896e1e3a4fa",
   "metadata": {},
   "outputs": [
    {
     "name": "stderr",
     "output_type": "stream",
     "text": [
      "62it [00:00, 88.28it/s]\n"
     ]
    }
   ],
   "source": [
    "import numpy as np\n",
    "import time\n",
    "import h5py\n",
    "from tqdm import tqdm\n",
    "base = ['AA','AC','AG','AT','CA','CC','CG','CT','GA','GC','GG','GT','TA','TC','TG','TT']\n",
    "Nuar = np.zeros((62,16,146))\n",
    "i=0\n",
    "for line in tqdm(open('TSS-TTS Sequences/processed_+NNFR-3N-ALL.txt','r')):\n",
    "    time.sleep(0.01)\n",
    "    for n in range(len(base)):\n",
    "        for m in range (len(line)-1):\n",
    "            dinu = line[m]+line[m+1]\n",
    "            if dinu==base[n]:\n",
    "                Nuar[i][n][m] = 1\n",
    "    i=i+1\n",
    "f = h5py.File('TSS-TTS Matrix/matrix_+NNFR-3N-ALL.h5', 'w')\n",
    "f.create_dataset('Nuar', data=Nuar)\n",
    "f.close()"
   ]
  },
  {
   "cell_type": "code",
   "execution_count": null,
   "id": "18b02cc1-1392-4bdb-b630-87c0a2f859de",
   "metadata": {},
   "outputs": [],
   "source": []
  },
  {
   "cell_type": "code",
   "execution_count": 10,
   "id": "90ac54ae-e067-47e1-92dd-83e5720e4a61",
   "metadata": {},
   "outputs": [
    {
     "name": "stderr",
     "output_type": "stream",
     "text": [
      "62it [00:00, 88.44it/s]\n"
     ]
    }
   ],
   "source": [
    "import numpy as np\n",
    "import time\n",
    "import h5py\n",
    "from tqdm import tqdm\n",
    "base = ['AA','AC','AG','AT','CA','CC','CG','CT','GA','GC','GG','GT','TA','TC','TG','TT']\n",
    "Nuar = np.zeros((62,16,146))\n",
    "i=0\n",
    "for line in tqdm(open('TSS-TTS Sequences/processed_+NNFR+1N-ALL.txt','r')):\n",
    "    time.sleep(0.01)\n",
    "    for n in range(len(base)):\n",
    "        for m in range (len(line)-1):\n",
    "            dinu = line[m]+line[m+1]\n",
    "            if dinu==base[n]:\n",
    "                Nuar[i][n][m] = 1\n",
    "    i=i+1\n",
    "f = h5py.File('TSS-TTS Matrix/matrix_+NNFR+1N-ALL.h5', 'w')\n",
    "f.create_dataset('Nuar', data=Nuar)\n",
    "f.close()"
   ]
  },
  {
   "cell_type": "code",
   "execution_count": null,
   "id": "a206d145-3239-4e6f-b4e6-2f2b6ee5e6ba",
   "metadata": {},
   "outputs": [],
   "source": []
  },
  {
   "cell_type": "code",
   "execution_count": 11,
   "id": "f0c653d8-d5b9-45ea-9705-7bc6a4bec6c0",
   "metadata": {},
   "outputs": [
    {
     "name": "stderr",
     "output_type": "stream",
     "text": [
      "62it [00:00, 89.30it/s]\n"
     ]
    }
   ],
   "source": [
    "import numpy as np\n",
    "import time\n",
    "import h5py\n",
    "from tqdm import tqdm\n",
    "base = ['AA','AC','AG','AT','CA','CC','CG','CT','GA','GC','GG','GT','TA','TC','TG','TT']\n",
    "Nuar = np.zeros((62,16,146))\n",
    "i=0\n",
    "for line in tqdm(open('TSS-TTS Sequences/processed_+NNFR+2N-ALL.txt','r')):\n",
    "    time.sleep(0.01)\n",
    "    for n in range(len(base)):\n",
    "        for m in range (len(line)-1):\n",
    "            dinu = line[m]+line[m+1]\n",
    "            if dinu==base[n]:\n",
    "                Nuar[i][n][m] = 1\n",
    "    i=i+1\n",
    "f = h5py.File('TSS-TTS Matrix/matrix_+NNFR+2N-ALL.h5', 'w')\n",
    "f.create_dataset('Nuar', data=Nuar)\n",
    "f.close()"
   ]
  },
  {
   "cell_type": "code",
   "execution_count": null,
   "id": "ed54f363-384c-4aa7-98a8-af1dd5bdb5d9",
   "metadata": {},
   "outputs": [],
   "source": []
  },
  {
   "cell_type": "code",
   "execution_count": 12,
   "id": "7f5ad554-3616-4816-ac96-d44b1e8bea28",
   "metadata": {},
   "outputs": [
    {
     "name": "stderr",
     "output_type": "stream",
     "text": [
      "62it [00:00, 87.47it/s]\n"
     ]
    }
   ],
   "source": [
    "import numpy as np\n",
    "import time\n",
    "import h5py\n",
    "from tqdm import tqdm\n",
    "base = ['AA','AC','AG','AT','CA','CC','CG','CT','GA','GC','GG','GT','TA','TC','TG','TT']\n",
    "Nuar = np.zeros((62,16,146))\n",
    "i=0\n",
    "for line in tqdm(open('TSS-TTS Sequences/processed_+NNFR+3N-ALL.txt','r')):\n",
    "    time.sleep(0.01)\n",
    "    for n in range(len(base)):\n",
    "        for m in range (len(line)-1):\n",
    "            dinu = line[m]+line[m+1]\n",
    "            if dinu==base[n]:\n",
    "                Nuar[i][n][m] = 1\n",
    "    i=i+1\n",
    "f = h5py.File('TSS-TTS Matrix/matrix_+NNFR+3N-ALL.h5', 'w')\n",
    "f.create_dataset('Nuar', data=Nuar)\n",
    "f.close()"
   ]
  },
  {
   "cell_type": "code",
   "execution_count": null,
   "id": "66fc05f6-8d7e-41eb-beee-402d3251cd43",
   "metadata": {},
   "outputs": [],
   "source": []
  },
  {
   "cell_type": "code",
   "execution_count": 13,
   "id": "e45c6a01-61a1-4b10-9697-e30ad29697ee",
   "metadata": {},
   "outputs": [
    {
     "name": "stderr",
     "output_type": "stream",
     "text": [
      "115it [00:01, 87.48it/s]\n"
     ]
    }
   ],
   "source": [
    "import numpy as np\n",
    "import time\n",
    "import h5py\n",
    "from tqdm import tqdm\n",
    "base = ['AA','AC','AG','AT','CA','CC','CG','CT','GA','GC','GG','GT','TA','TC','TG','TT']\n",
    "Nuar = np.zeros((115,16,146))\n",
    "i=0\n",
    "for line in tqdm(open('TSS-TTS Sequences/processed_-SNFR-1N-ALL.txt','r')):\n",
    "    time.sleep(0.01)\n",
    "    for n in range(len(base)):\n",
    "        for m in range (len(line)-1):\n",
    "            dinu = line[m]+line[m+1]\n",
    "            if dinu==base[n]:\n",
    "                Nuar[i][n][m] = 1\n",
    "    i=i+1\n",
    "f = h5py.File('TSS-TTS Matrix/matrix_-SNFR-1N-ALL.h5', 'w')\n",
    "f.create_dataset('Nuar', data=Nuar)\n",
    "f.close()"
   ]
  },
  {
   "cell_type": "code",
   "execution_count": null,
   "id": "9014ac65-1bbc-4784-bab8-37d84b43991f",
   "metadata": {},
   "outputs": [],
   "source": []
  },
  {
   "cell_type": "code",
   "execution_count": 14,
   "id": "297d2ab0-024a-4f63-8b19-8b1c409c533a",
   "metadata": {},
   "outputs": [
    {
     "name": "stderr",
     "output_type": "stream",
     "text": [
      "115it [00:01, 88.12it/s]\n"
     ]
    }
   ],
   "source": [
    "import numpy as np\n",
    "import time\n",
    "import h5py\n",
    "from tqdm import tqdm\n",
    "base = ['AA','AC','AG','AT','CA','CC','CG','CT','GA','GC','GG','GT','TA','TC','TG','TT']\n",
    "Nuar = np.zeros((115,16,146))\n",
    "i=0\n",
    "for line in tqdm(open('TSS-TTS Sequences/processed_-SNFR-2N-ALL.txt','r')):\n",
    "    time.sleep(0.01)\n",
    "    for n in range(len(base)):\n",
    "        for m in range (len(line)-1):\n",
    "            dinu = line[m]+line[m+1]\n",
    "            if dinu==base[n]:\n",
    "                Nuar[i][n][m] = 1\n",
    "    i=i+1\n",
    "f = h5py.File('TSS-TTS Matrix/matrix_-SNFR-2N-ALL.h5', 'w')\n",
    "f.create_dataset('Nuar', data=Nuar)\n",
    "f.close()"
   ]
  },
  {
   "cell_type": "code",
   "execution_count": null,
   "id": "b2577dae-ffbb-4365-82e8-ebcce17bb08f",
   "metadata": {},
   "outputs": [],
   "source": []
  },
  {
   "cell_type": "code",
   "execution_count": 15,
   "id": "f9b1899e-4068-4187-ab51-8c15c31dfbb5",
   "metadata": {},
   "outputs": [
    {
     "name": "stderr",
     "output_type": "stream",
     "text": [
      "115it [00:01, 88.81it/s]\n"
     ]
    }
   ],
   "source": [
    "import numpy as np\n",
    "import time\n",
    "import h5py\n",
    "from tqdm import tqdm\n",
    "base = ['AA','AC','AG','AT','CA','CC','CG','CT','GA','GC','GG','GT','TA','TC','TG','TT']\n",
    "Nuar = np.zeros((115,16,146))\n",
    "i=0\n",
    "for line in tqdm(open('TSS-TTS Sequences/processed_-SNFR-3N-ALL.txt','r')):\n",
    "    time.sleep(0.01)\n",
    "    for n in range(len(base)):\n",
    "        for m in range (len(line)-1):\n",
    "            dinu = line[m]+line[m+1]\n",
    "            if dinu==base[n]:\n",
    "                Nuar[i][n][m] = 1\n",
    "    i=i+1\n",
    "f = h5py.File('TSS-TTS Matrix/matrix_-SNFR-3N-ALL.h5', 'w')\n",
    "f.create_dataset('Nuar', data=Nuar)\n",
    "f.close()"
   ]
  },
  {
   "cell_type": "code",
   "execution_count": null,
   "id": "758fe49f-f6b7-420a-b784-77c496d85734",
   "metadata": {},
   "outputs": [],
   "source": []
  },
  {
   "cell_type": "code",
   "execution_count": 16,
   "id": "2d4fb224-ea87-4930-bd72-e69045656ce0",
   "metadata": {},
   "outputs": [
    {
     "name": "stderr",
     "output_type": "stream",
     "text": [
      "115it [00:01, 89.30it/s]\n"
     ]
    }
   ],
   "source": [
    "import numpy as np\n",
    "import time\n",
    "import h5py\n",
    "from tqdm import tqdm\n",
    "base = ['AA','AC','AG','AT','CA','CC','CG','CT','GA','GC','GG','GT','TA','TC','TG','TT']\n",
    "Nuar = np.zeros((115,16,146))\n",
    "i=0\n",
    "for line in tqdm(open('TSS-TTS Sequences/processed_-SNFR+1N-ALL.txt','r')):\n",
    "    time.sleep(0.01)\n",
    "    for n in range(len(base)):\n",
    "        for m in range (len(line)-1):\n",
    "            dinu = line[m]+line[m+1]\n",
    "            if dinu==base[n]:\n",
    "                Nuar[i][n][m] = 1\n",
    "    i=i+1\n",
    "f = h5py.File('TSS-TTS Matrix/matrix_-SNFR+1N-ALL.h5', 'w')\n",
    "f.create_dataset('Nuar', data=Nuar)\n",
    "f.close()"
   ]
  },
  {
   "cell_type": "code",
   "execution_count": null,
   "id": "5db716f5-ba82-435c-b8db-c93549b25cce",
   "metadata": {},
   "outputs": [],
   "source": []
  },
  {
   "cell_type": "code",
   "execution_count": 17,
   "id": "9b3109d3-8add-4a01-8bcf-c4335e99704a",
   "metadata": {},
   "outputs": [
    {
     "name": "stderr",
     "output_type": "stream",
     "text": [
      "115it [00:01, 87.52it/s]\n"
     ]
    }
   ],
   "source": [
    "import numpy as np\n",
    "import time\n",
    "import h5py\n",
    "from tqdm import tqdm\n",
    "base = ['AA','AC','AG','AT','CA','CC','CG','CT','GA','GC','GG','GT','TA','TC','TG','TT']\n",
    "Nuar = np.zeros((115,16,146))\n",
    "i=0\n",
    "for line in tqdm(open('TSS-TTS Sequences/processed_-SNFR+2N-ALL.txt','r')):\n",
    "    time.sleep(0.01)\n",
    "    for n in range(len(base)):\n",
    "        for m in range (len(line)-1):\n",
    "            dinu = line[m]+line[m+1]\n",
    "            if dinu==base[n]:\n",
    "                Nuar[i][n][m] = 1\n",
    "    i=i+1\n",
    "f = h5py.File('TSS-TTS Matrix/matrix_-SNFR+2N-ALL.h5', 'w')\n",
    "f.create_dataset('Nuar', data=Nuar)\n",
    "f.close()"
   ]
  },
  {
   "cell_type": "code",
   "execution_count": null,
   "id": "c7c1feb7-b141-4aa2-8f52-69fab7892c46",
   "metadata": {},
   "outputs": [],
   "source": []
  },
  {
   "cell_type": "code",
   "execution_count": 18,
   "id": "3c5eb2da-8796-4ae6-afe8-4da8f0de16e9",
   "metadata": {},
   "outputs": [
    {
     "name": "stderr",
     "output_type": "stream",
     "text": [
      "115it [00:01, 90.62it/s]\n"
     ]
    }
   ],
   "source": [
    "import numpy as np\n",
    "import time\n",
    "import h5py\n",
    "from tqdm import tqdm\n",
    "base = ['AA','AC','AG','AT','CA','CC','CG','CT','GA','GC','GG','GT','TA','TC','TG','TT']\n",
    "Nuar = np.zeros((115,16,146))\n",
    "i=0\n",
    "for line in tqdm(open('TSS-TTS Sequences/processed_-SNFR+3N-ALL.txt','r')):\n",
    "    time.sleep(0.01)\n",
    "    for n in range(len(base)):\n",
    "        for m in range (len(line)-1):\n",
    "            dinu = line[m]+line[m+1]\n",
    "            if dinu==base[n]:\n",
    "                Nuar[i][n][m] = 1\n",
    "    i=i+1\n",
    "f = h5py.File('TSS-TTS Matrix/matrix_-SNFR+3N-ALL.h5', 'w')\n",
    "f.create_dataset('Nuar', data=Nuar)\n",
    "f.close()"
   ]
  },
  {
   "cell_type": "code",
   "execution_count": null,
   "id": "30199ec3-5f4e-461c-9266-5dcb33d41861",
   "metadata": {},
   "outputs": [],
   "source": []
  },
  {
   "cell_type": "code",
   "execution_count": 19,
   "id": "61f85da0-7aaa-45a1-86ac-c7c9752e709d",
   "metadata": {},
   "outputs": [
    {
     "name": "stderr",
     "output_type": "stream",
     "text": [
      "112it [00:01, 88.43it/s]\n"
     ]
    }
   ],
   "source": [
    "import numpy as np\n",
    "import time\n",
    "import h5py\n",
    "from tqdm import tqdm\n",
    "base = ['AA','AC','AG','AT','CA','CC','CG','CT','GA','GC','GG','GT','TA','TC','TG','TT']\n",
    "Nuar = np.zeros((112,16,146))\n",
    "i=0\n",
    "for line in tqdm(open('TSS-TTS Sequences/processed_+SNFR-1N-ALL.txt','r')):\n",
    "    time.sleep(0.01)\n",
    "    for n in range(len(base)):\n",
    "        for m in range (len(line)-1):\n",
    "            dinu = line[m]+line[m+1]\n",
    "            if dinu==base[n]:\n",
    "                Nuar[i][n][m] = 1\n",
    "    i=i+1\n",
    "f = h5py.File('TSS-TTS Matrix/matrix_+SNFR-1N-ALL.h5', 'w')\n",
    "f.create_dataset('Nuar', data=Nuar)\n",
    "f.close()"
   ]
  },
  {
   "cell_type": "code",
   "execution_count": null,
   "id": "ad416ccb-d46d-45f1-912a-102546cf8b92",
   "metadata": {},
   "outputs": [],
   "source": []
  },
  {
   "cell_type": "code",
   "execution_count": 20,
   "id": "4d51ec50-d964-44eb-90b9-a401ec58f3b4",
   "metadata": {},
   "outputs": [
    {
     "name": "stderr",
     "output_type": "stream",
     "text": [
      "112it [00:01, 87.24it/s]\n"
     ]
    }
   ],
   "source": [
    "import numpy as np\n",
    "import time\n",
    "import h5py\n",
    "from tqdm import tqdm\n",
    "base = ['AA','AC','AG','AT','CA','CC','CG','CT','GA','GC','GG','GT','TA','TC','TG','TT']\n",
    "Nuar = np.zeros((112,16,146))\n",
    "i=0\n",
    "for line in tqdm(open('TSS-TTS Sequences/processed_+SNFR-2N-ALL.txt','r')):\n",
    "    time.sleep(0.01)\n",
    "    for n in range(len(base)):\n",
    "        for m in range (len(line)-1):\n",
    "            dinu = line[m]+line[m+1]\n",
    "            if dinu==base[n]:\n",
    "                Nuar[i][n][m] = 1\n",
    "    i=i+1\n",
    "f = h5py.File('TSS-TTS Matrix/matrix_+SNFR-2N-ALL.h5', 'w')\n",
    "f.create_dataset('Nuar', data=Nuar)\n",
    "f.close()"
   ]
  },
  {
   "cell_type": "code",
   "execution_count": null,
   "id": "622b2df8-2f28-4aea-b577-0cf4f10d2f9a",
   "metadata": {},
   "outputs": [],
   "source": []
  },
  {
   "cell_type": "code",
   "execution_count": 21,
   "id": "481b4400-7e04-49d7-b16f-62c77cb379dd",
   "metadata": {},
   "outputs": [
    {
     "name": "stderr",
     "output_type": "stream",
     "text": [
      "112it [00:01, 87.89it/s]\n"
     ]
    }
   ],
   "source": [
    "import numpy as np\n",
    "import time\n",
    "import h5py\n",
    "from tqdm import tqdm\n",
    "base = ['AA','AC','AG','AT','CA','CC','CG','CT','GA','GC','GG','GT','TA','TC','TG','TT']\n",
    "Nuar = np.zeros((112,16,146))\n",
    "i=0\n",
    "for line in tqdm(open('TSS-TTS Sequences/processed_+SNFR-3N-ALL.txt','r')):\n",
    "    time.sleep(0.01)\n",
    "    for n in range(len(base)):\n",
    "        for m in range (len(line)-1):\n",
    "            dinu = line[m]+line[m+1]\n",
    "            if dinu==base[n]:\n",
    "                Nuar[i][n][m] = 1\n",
    "    i=i+1\n",
    "f = h5py.File('TSS-TTS Matrix/matrix_+SNFR-3N-ALL.h5', 'w')\n",
    "f.create_dataset('Nuar', data=Nuar)\n",
    "f.close()"
   ]
  },
  {
   "cell_type": "code",
   "execution_count": null,
   "id": "e24df281-d8a6-4325-b199-73219f3c571e",
   "metadata": {},
   "outputs": [],
   "source": []
  },
  {
   "cell_type": "code",
   "execution_count": 22,
   "id": "5573ed4c-5a3a-46d1-b58c-e3b54fc5d900",
   "metadata": {},
   "outputs": [
    {
     "name": "stderr",
     "output_type": "stream",
     "text": [
      "112it [00:01, 85.04it/s]\n"
     ]
    }
   ],
   "source": [
    "import numpy as np\n",
    "import time\n",
    "import h5py\n",
    "from tqdm import tqdm\n",
    "base = ['AA','AC','AG','AT','CA','CC','CG','CT','GA','GC','GG','GT','TA','TC','TG','TT']\n",
    "Nuar = np.zeros((112,16,146))\n",
    "i=0\n",
    "for line in tqdm(open('TSS-TTS Sequences/processed_+SNFR+1N-ALL.txt','r')):\n",
    "    time.sleep(0.01)\n",
    "    for n in range(len(base)):\n",
    "        for m in range (len(line)-1):\n",
    "            dinu = line[m]+line[m+1]\n",
    "            if dinu==base[n]:\n",
    "                Nuar[i][n][m] = 1\n",
    "    i=i+1\n",
    "f = h5py.File('TSS-TTS Matrix/matrix_+SNFR+1N-ALL.h5', 'w')\n",
    "f.create_dataset('Nuar', data=Nuar)\n",
    "f.close()"
   ]
  },
  {
   "cell_type": "code",
   "execution_count": null,
   "id": "35d60981-317b-4716-9efd-859c05365cbb",
   "metadata": {},
   "outputs": [],
   "source": []
  },
  {
   "cell_type": "code",
   "execution_count": 23,
   "id": "e455c25a-f729-4047-b9dc-b9072a6f3cf4",
   "metadata": {},
   "outputs": [
    {
     "name": "stderr",
     "output_type": "stream",
     "text": [
      "112it [00:01, 85.16it/s]\n"
     ]
    }
   ],
   "source": [
    "import numpy as np\n",
    "import time\n",
    "import h5py\n",
    "from tqdm import tqdm\n",
    "base = ['AA','AC','AG','AT','CA','CC','CG','CT','GA','GC','GG','GT','TA','TC','TG','TT']\n",
    "Nuar = np.zeros((112,16,146))\n",
    "i=0\n",
    "for line in tqdm(open('TSS-TTS Sequences/processed_+SNFR+2N-ALL.txt','r')):\n",
    "    time.sleep(0.01)\n",
    "    for n in range(len(base)):\n",
    "        for m in range (len(line)-1):\n",
    "            dinu = line[m]+line[m+1]\n",
    "            if dinu==base[n]:\n",
    "                Nuar[i][n][m] = 1\n",
    "    i=i+1\n",
    "f = h5py.File('TSS-TTS Matrix/matrix_+SNFR+2N-ALL.h5', 'w')\n",
    "f.create_dataset('Nuar', data=Nuar)\n",
    "f.close()"
   ]
  },
  {
   "cell_type": "code",
   "execution_count": null,
   "id": "4b1c9825-e6b4-4d18-ac23-b65d5283106f",
   "metadata": {},
   "outputs": [],
   "source": []
  },
  {
   "cell_type": "code",
   "execution_count": 24,
   "id": "326c59ae-69f5-49d7-a498-857ecda1161a",
   "metadata": {},
   "outputs": [
    {
     "name": "stderr",
     "output_type": "stream",
     "text": [
      "112it [00:01, 85.76it/s]\n"
     ]
    }
   ],
   "source": [
    "import numpy as np\n",
    "import time\n",
    "import h5py\n",
    "from tqdm import tqdm\n",
    "base = ['AA','AC','AG','AT','CA','CC','CG','CT','GA','GC','GG','GT','TA','TC','TG','TT']\n",
    "Nuar = np.zeros((112,16,146))\n",
    "i=0\n",
    "for line in tqdm(open('TSS-TTS Sequences/processed_+SNFR+3N-ALL.txt','r')):\n",
    "    time.sleep(0.01)\n",
    "    for n in range(len(base)):\n",
    "        for m in range (len(line)-1):\n",
    "            dinu = line[m]+line[m+1]\n",
    "            if dinu==base[n]:\n",
    "                Nuar[i][n][m] = 1\n",
    "    i=i+1\n",
    "f = h5py.File('TSS-TTS Matrix/matrix_+SNFR+3N-ALL.h5', 'w')\n",
    "f.create_dataset('Nuar', data=Nuar)\n",
    "f.close()"
   ]
  },
  {
   "cell_type": "code",
   "execution_count": null,
   "id": "127ff090-fcdf-45a0-a61a-8d3fc5f3d07e",
   "metadata": {},
   "outputs": [],
   "source": []
  }
 ],
 "metadata": {
  "kernelspec": {
   "display_name": "Python 3 (ipykernel)",
   "language": "python",
   "name": "python3"
  },
  "language_info": {
   "codemirror_mode": {
    "name": "ipython",
    "version": 3
   },
   "file_extension": ".py",
   "mimetype": "text/x-python",
   "name": "python",
   "nbconvert_exporter": "python",
   "pygments_lexer": "ipython3",
   "version": "3.12.4"
  }
 },
 "nbformat": 4,
 "nbformat_minor": 5
}
